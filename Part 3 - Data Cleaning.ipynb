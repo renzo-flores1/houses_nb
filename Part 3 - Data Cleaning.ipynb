{
 "cells": [
  {
   "cell_type": "markdown",
   "metadata": {},
   "source": [
    "# Houses and Empty Lots for Sale in New Brunswick (as of June 12, 2020)\n",
    "\n",
    "In this project, I scraped data from this [website](https://www.point2homes.com/CA/Real-Estate-Listings/NB.html) which lists houses and \n",
    "empty lots for sale. The selling price is listed along with the lot size. For houses, the number of bedrooms, bathrooms, the house size the house type are also given.\n",
    "\n",
    "## 3. Data Cleaning (Null Values, Reducing Variability)\n"
   ]
  },
  {
   "cell_type": "code",
   "execution_count": 1,
   "metadata": {},
   "outputs": [
    {
     "data": {
      "text/html": [
       "<div>\n",
       "<style scoped>\n",
       "    .dataframe tbody tr th:only-of-type {\n",
       "        vertical-align: middle;\n",
       "    }\n",
       "\n",
       "    .dataframe tbody tr th {\n",
       "        vertical-align: top;\n",
       "    }\n",
       "\n",
       "    .dataframe thead th {\n",
       "        text-align: right;\n",
       "    }\n",
       "</style>\n",
       "<table border=\"1\" class=\"dataframe\">\n",
       "  <thead>\n",
       "    <tr style=\"text-align: right;\">\n",
       "      <th></th>\n",
       "      <th>Address</th>\n",
       "      <th>Beds</th>\n",
       "      <th>Baths</th>\n",
       "      <th>House Size (sqft)</th>\n",
       "      <th>Lot Size (ac)</th>\n",
       "      <th>Type</th>\n",
       "      <th>Postal Code</th>\n",
       "      <th>Price</th>\n",
       "    </tr>\n",
       "  </thead>\n",
       "  <tbody>\n",
       "    <tr>\n",
       "      <th>0</th>\n",
       "      <td>11 Coronation Court, Oromocto, New Brunswick, ...</td>\n",
       "      <td>4.0</td>\n",
       "      <td>2.0</td>\n",
       "      <td>NaN</td>\n",
       "      <td>NaN</td>\n",
       "      <td>Family</td>\n",
       "      <td>E2V2M9</td>\n",
       "      <td>169900</td>\n",
       "    </tr>\n",
       "    <tr>\n",
       "      <th>1</th>\n",
       "      <td>5185 Route 127, St. Andrews, New Brunswick</td>\n",
       "      <td>4.0</td>\n",
       "      <td>2.0</td>\n",
       "      <td>1675.0</td>\n",
       "      <td>1.170</td>\n",
       "      <td>Residential</td>\n",
       "      <td>E5B3A7</td>\n",
       "      <td>259000</td>\n",
       "    </tr>\n",
       "    <tr>\n",
       "      <th>2</th>\n",
       "      <td>Lot du Portage, Caraquet, New Brunswick, E1W1A8</td>\n",
       "      <td>NaN</td>\n",
       "      <td>NaN</td>\n",
       "      <td>NaN</td>\n",
       "      <td>NaN</td>\n",
       "      <td>Empty Land</td>\n",
       "      <td>E1W1A8</td>\n",
       "      <td>19000</td>\n",
       "    </tr>\n",
       "    <tr>\n",
       "      <th>3</th>\n",
       "      <td>175 Ledden Street, Miramichi, New Brunswick, E...</td>\n",
       "      <td>4.0</td>\n",
       "      <td>2.0</td>\n",
       "      <td>1780.0</td>\n",
       "      <td>0.134</td>\n",
       "      <td>Residential</td>\n",
       "      <td>E1V 2G8</td>\n",
       "      <td>104200</td>\n",
       "    </tr>\n",
       "    <tr>\n",
       "      <th>4</th>\n",
       "      <td>96 Todds Point Road, Saint Stephen, New Brunswick</td>\n",
       "      <td>4.0</td>\n",
       "      <td>3.0</td>\n",
       "      <td>NaN</td>\n",
       "      <td>NaN</td>\n",
       "      <td>Residential</td>\n",
       "      <td>E3L3P9</td>\n",
       "      <td>269000</td>\n",
       "    </tr>\n",
       "  </tbody>\n",
       "</table>\n",
       "</div>"
      ],
      "text/plain": [
       "                                             Address  Beds  Baths  \\\n",
       "0  11 Coronation Court, Oromocto, New Brunswick, ...   4.0    2.0   \n",
       "1         5185 Route 127, St. Andrews, New Brunswick   4.0    2.0   \n",
       "2    Lot du Portage, Caraquet, New Brunswick, E1W1A8   NaN    NaN   \n",
       "3  175 Ledden Street, Miramichi, New Brunswick, E...   4.0    2.0   \n",
       "4  96 Todds Point Road, Saint Stephen, New Brunswick   4.0    3.0   \n",
       "\n",
       "   House Size (sqft)  Lot Size (ac)         Type Postal Code   Price  \n",
       "0                NaN            NaN       Family      E2V2M9  169900  \n",
       "1             1675.0          1.170  Residential      E5B3A7  259000  \n",
       "2                NaN            NaN   Empty Land      E1W1A8   19000  \n",
       "3             1780.0          0.134  Residential     E1V 2G8  104200  \n",
       "4                NaN            NaN  Residential      E3L3P9  269000  "
      ]
     },
     "execution_count": 1,
     "metadata": {},
     "output_type": "execute_result"
    }
   ],
   "source": [
    "# load libraries\n",
    "import numpy as np\n",
    "import pandas as pd\n",
    "from sklearn.model_selection import train_test_split\n",
    "import re\n",
    "from tqdm.notebook import tqdm\n",
    "\n",
    "train = pd.read_csv('train.csv')\n",
    "val = pd.read_csv('val.csv')\n",
    "\n",
    "# look at first 5 rows of training set\n",
    "train.head(5)"
   ]
  },
  {
   "cell_type": "code",
   "execution_count": 2,
   "metadata": {},
   "outputs": [
    {
     "data": {
      "text/html": [
       "<div>\n",
       "<style scoped>\n",
       "    .dataframe tbody tr th:only-of-type {\n",
       "        vertical-align: middle;\n",
       "    }\n",
       "\n",
       "    .dataframe tbody tr th {\n",
       "        vertical-align: top;\n",
       "    }\n",
       "\n",
       "    .dataframe thead th {\n",
       "        text-align: right;\n",
       "    }\n",
       "</style>\n",
       "<table border=\"1\" class=\"dataframe\">\n",
       "  <thead>\n",
       "    <tr style=\"text-align: right;\">\n",
       "      <th></th>\n",
       "      <th>Address</th>\n",
       "      <th>Beds</th>\n",
       "      <th>Baths</th>\n",
       "      <th>House Size (sqft)</th>\n",
       "      <th>Lot Size (ac)</th>\n",
       "      <th>Type</th>\n",
       "      <th>Postal Code</th>\n",
       "      <th>Price</th>\n",
       "    </tr>\n",
       "  </thead>\n",
       "  <tbody>\n",
       "    <tr>\n",
       "      <th>0</th>\n",
       "      <td>Woodlot on Route 118, Miramichi, New Brunswick</td>\n",
       "      <td>NaN</td>\n",
       "      <td>NaN</td>\n",
       "      <td>NaN</td>\n",
       "      <td>NaN</td>\n",
       "      <td>Empty Land</td>\n",
       "      <td>NaN</td>\n",
       "      <td>39900</td>\n",
       "    </tr>\n",
       "    <tr>\n",
       "      <th>1</th>\n",
       "      <td>Ghost Rd, Saint Andrews, New Brunswick</td>\n",
       "      <td>NaN</td>\n",
       "      <td>NaN</td>\n",
       "      <td>NaN</td>\n",
       "      <td>10.00</td>\n",
       "      <td>Residential</td>\n",
       "      <td>E5B2T2</td>\n",
       "      <td>70000</td>\n",
       "    </tr>\n",
       "    <tr>\n",
       "      <th>2</th>\n",
       "      <td>Lot 89-1 Route 445, Fair Isle, New Brunswick</td>\n",
       "      <td>NaN</td>\n",
       "      <td>NaN</td>\n",
       "      <td>NaN</td>\n",
       "      <td>1.03</td>\n",
       "      <td>Empty Land</td>\n",
       "      <td>E9G2M7</td>\n",
       "      <td>8000</td>\n",
       "    </tr>\n",
       "    <tr>\n",
       "      <th>3</th>\n",
       "      <td>Lot 76-2 Renaud, Saint - Antoine, New Brunswick</td>\n",
       "      <td>NaN</td>\n",
       "      <td>NaN</td>\n",
       "      <td>NaN</td>\n",
       "      <td>NaN</td>\n",
       "      <td>Empty Land</td>\n",
       "      <td>E4V3H3</td>\n",
       "      <td>24900</td>\n",
       "    </tr>\n",
       "    <tr>\n",
       "      <th>4</th>\n",
       "      <td>582 Bonita Avenue, Silver Falls, New Brunswick</td>\n",
       "      <td>3.0</td>\n",
       "      <td>1.0</td>\n",
       "      <td>1725.0</td>\n",
       "      <td>NaN</td>\n",
       "      <td>Family</td>\n",
       "      <td>E2G2T3</td>\n",
       "      <td>119900</td>\n",
       "    </tr>\n",
       "  </tbody>\n",
       "</table>\n",
       "</div>"
      ],
      "text/plain": [
       "                                           Address  Beds  Baths  \\\n",
       "0   Woodlot on Route 118, Miramichi, New Brunswick   NaN    NaN   \n",
       "1           Ghost Rd, Saint Andrews, New Brunswick   NaN    NaN   \n",
       "2     Lot 89-1 Route 445, Fair Isle, New Brunswick   NaN    NaN   \n",
       "3  Lot 76-2 Renaud, Saint - Antoine, New Brunswick   NaN    NaN   \n",
       "4   582 Bonita Avenue, Silver Falls, New Brunswick   3.0    1.0   \n",
       "\n",
       "   House Size (sqft)  Lot Size (ac)         Type Postal Code   Price  \n",
       "0                NaN            NaN   Empty Land         NaN   39900  \n",
       "1                NaN          10.00  Residential      E5B2T2   70000  \n",
       "2                NaN           1.03   Empty Land      E9G2M7    8000  \n",
       "3                NaN            NaN   Empty Land      E4V3H3   24900  \n",
       "4             1725.0            NaN       Family      E2G2T3  119900  "
      ]
     },
     "execution_count": 2,
     "metadata": {},
     "output_type": "execute_result"
    }
   ],
   "source": [
    "# and the first five rows of the test set\n",
    "val.head(5)"
   ]
  },
  {
   "cell_type": "code",
   "execution_count": 3,
   "metadata": {},
   "outputs": [
    {
     "name": "stdout",
     "output_type": "stream",
     "text": [
      "Unique training postal codes:  490\n",
      "Unique validation postal codes:  92\n"
     ]
    }
   ],
   "source": [
    "# get unique postal codes\n",
    "print('Unique training postal codes: ',len(train['Postal Code'].unique()))\n",
    "print('Unique validation postal codes: ',len(val['Postal Code'].unique()))"
   ]
  },
  {
   "cell_type": "markdown",
   "metadata": {},
   "source": [
    "There are a lot of postal codes. To reduce the variability of postal codes, we just get the first half of the postal code."
   ]
  },
  {
   "cell_type": "code",
   "execution_count": 4,
   "metadata": {},
   "outputs": [
    {
     "data": {
      "text/html": [
       "<div>\n",
       "<style scoped>\n",
       "    .dataframe tbody tr th:only-of-type {\n",
       "        vertical-align: middle;\n",
       "    }\n",
       "\n",
       "    .dataframe tbody tr th {\n",
       "        vertical-align: top;\n",
       "    }\n",
       "\n",
       "    .dataframe thead th {\n",
       "        text-align: right;\n",
       "    }\n",
       "</style>\n",
       "<table border=\"1\" class=\"dataframe\">\n",
       "  <thead>\n",
       "    <tr style=\"text-align: right;\">\n",
       "      <th></th>\n",
       "      <th>Address</th>\n",
       "      <th>Beds</th>\n",
       "      <th>Baths</th>\n",
       "      <th>House Size (sqft)</th>\n",
       "      <th>Lot Size (ac)</th>\n",
       "      <th>Type</th>\n",
       "      <th>Postal Code</th>\n",
       "      <th>Price</th>\n",
       "      <th>Postal</th>\n",
       "    </tr>\n",
       "  </thead>\n",
       "  <tbody>\n",
       "    <tr>\n",
       "      <th>0</th>\n",
       "      <td>11 Coronation Court, Oromocto, New Brunswick, ...</td>\n",
       "      <td>4.0</td>\n",
       "      <td>2.0</td>\n",
       "      <td>NaN</td>\n",
       "      <td>NaN</td>\n",
       "      <td>Family</td>\n",
       "      <td>E2V2M9</td>\n",
       "      <td>169900</td>\n",
       "      <td>E2V</td>\n",
       "    </tr>\n",
       "    <tr>\n",
       "      <th>1</th>\n",
       "      <td>5185 Route 127, St. Andrews, New Brunswick</td>\n",
       "      <td>4.0</td>\n",
       "      <td>2.0</td>\n",
       "      <td>1675.0</td>\n",
       "      <td>1.170</td>\n",
       "      <td>Residential</td>\n",
       "      <td>E5B3A7</td>\n",
       "      <td>259000</td>\n",
       "      <td>E5B</td>\n",
       "    </tr>\n",
       "    <tr>\n",
       "      <th>2</th>\n",
       "      <td>Lot du Portage, Caraquet, New Brunswick, E1W1A8</td>\n",
       "      <td>NaN</td>\n",
       "      <td>NaN</td>\n",
       "      <td>NaN</td>\n",
       "      <td>NaN</td>\n",
       "      <td>Empty Land</td>\n",
       "      <td>E1W1A8</td>\n",
       "      <td>19000</td>\n",
       "      <td>E1W</td>\n",
       "    </tr>\n",
       "    <tr>\n",
       "      <th>3</th>\n",
       "      <td>175 Ledden Street, Miramichi, New Brunswick, E...</td>\n",
       "      <td>4.0</td>\n",
       "      <td>2.0</td>\n",
       "      <td>1780.0</td>\n",
       "      <td>0.134</td>\n",
       "      <td>Residential</td>\n",
       "      <td>E1V 2G8</td>\n",
       "      <td>104200</td>\n",
       "      <td>E1V</td>\n",
       "    </tr>\n",
       "    <tr>\n",
       "      <th>4</th>\n",
       "      <td>96 Todds Point Road, Saint Stephen, New Brunswick</td>\n",
       "      <td>4.0</td>\n",
       "      <td>3.0</td>\n",
       "      <td>NaN</td>\n",
       "      <td>NaN</td>\n",
       "      <td>Residential</td>\n",
       "      <td>E3L3P9</td>\n",
       "      <td>269000</td>\n",
       "      <td>E3L</td>\n",
       "    </tr>\n",
       "  </tbody>\n",
       "</table>\n",
       "</div>"
      ],
      "text/plain": [
       "                                             Address  Beds  Baths  \\\n",
       "0  11 Coronation Court, Oromocto, New Brunswick, ...   4.0    2.0   \n",
       "1         5185 Route 127, St. Andrews, New Brunswick   4.0    2.0   \n",
       "2    Lot du Portage, Caraquet, New Brunswick, E1W1A8   NaN    NaN   \n",
       "3  175 Ledden Street, Miramichi, New Brunswick, E...   4.0    2.0   \n",
       "4  96 Todds Point Road, Saint Stephen, New Brunswick   4.0    3.0   \n",
       "\n",
       "   House Size (sqft)  Lot Size (ac)         Type Postal Code   Price Postal  \n",
       "0                NaN            NaN       Family      E2V2M9  169900    E2V  \n",
       "1             1675.0          1.170  Residential      E5B3A7  259000    E5B  \n",
       "2                NaN            NaN   Empty Land      E1W1A8   19000    E1W  \n",
       "3             1780.0          0.134  Residential     E1V 2G8  104200    E1V  \n",
       "4                NaN            NaN  Residential      E3L3P9  269000    E3L  "
      ]
     },
     "execution_count": 4,
     "metadata": {},
     "output_type": "execute_result"
    }
   ],
   "source": [
    "train['Postal'] = train['Postal Code'].str[:3]\n",
    "train.head(5)"
   ]
  },
  {
   "cell_type": "code",
   "execution_count": 5,
   "metadata": {},
   "outputs": [],
   "source": [
    "# do same thing for validation set\n",
    "val['Postal'] = val['Postal Code'].str[:3]"
   ]
  },
  {
   "cell_type": "code",
   "execution_count": 6,
   "metadata": {},
   "outputs": [
    {
     "name": "stdout",
     "output_type": "stream",
     "text": [
      "Unique training postal values:  92\n",
      "Unique validation postal values:  52\n"
     ]
    }
   ],
   "source": [
    "# get number of unique 'Postal' values for both sets\n",
    "print('Unique training postal values: ',len(train['Postal'].unique()))\n",
    "print('Unique validation postal values: ',len(val['Postal'].unique()))"
   ]
  },
  {
   "cell_type": "markdown",
   "metadata": {},
   "source": [
    "Those numbers are not bad. Now we check the histogram of **Postal**."
   ]
  },
  {
   "cell_type": "code",
   "execution_count": 7,
   "metadata": {
    "scrolled": true
   },
   "outputs": [
    {
     "data": {
      "text/plain": [
       "<matplotlib.axes._subplots.AxesSubplot at 0x1a1a77f810>"
      ]
     },
     "execution_count": 7,
     "metadata": {},
     "output_type": "execute_result"
    },
    {
     "data": {
      "image/png": "[encoded data removed]",
      "text/plain": [
       "<Figure size 432x288 with 1 Axes>"
      ]
     },
     "metadata": {
      "needs_background": "light"
     },
     "output_type": "display_data"
    }
   ],
   "source": [
    "train.Postal.hist()"
   ]
  },
  {
   "cell_type": "code",
   "execution_count": 8,
   "metadata": {},
   "outputs": [
    {
     "data": {
      "text/plain": [
       "<matplotlib.axes._subplots.AxesSubplot at 0x1a1b2da850>"
      ]
     },
     "execution_count": 8,
     "metadata": {},
     "output_type": "execute_result"
    },
    {
     "data": {
      "image/png": "[encoded data removed]",
      "text/plain": [
       "<Figure size 432x288 with 1 Axes>"
      ]
     },
     "metadata": {
      "needs_background": "light"
     },
     "output_type": "display_data"
    }
   ],
   "source": [
    "val.Postal.hist()"
   ]
  },
  {
   "cell_type": "code",
   "execution_count": 9,
   "metadata": {},
   "outputs": [
    {
     "data": {
      "text/plain": [
       "E3L    60\n",
       "E1A    34\n",
       "E5B    29\n",
       "E3A    25\n",
       "E4P    24\n",
       "       ..\n",
       "E9B     1\n",
       "E7J     1\n",
       "E7P     1\n",
       "E6B     1\n",
       "E2J     1\n",
       "Name: Postal, Length: 91, dtype: int64"
      ]
     },
     "execution_count": 9,
     "metadata": {},
     "output_type": "execute_result"
    }
   ],
   "source": [
    "# get counts for postal\n",
    "train.Postal.value_counts()"
   ]
  },
  {
   "cell_type": "markdown",
   "metadata": {},
   "source": [
    "Okay, so there are plenty of postal codes with only ones in them. So we just pick the first two characters of the postal code instead."
   ]
  },
  {
   "cell_type": "code",
   "execution_count": 10,
   "metadata": {},
   "outputs": [
    {
     "data": {
      "text/plain": [
       "E3    123\n",
       "E1    112\n",
       "E4    109\n",
       "E5     78\n",
       "E2     58\n",
       "E7     16\n",
       "E6     15\n",
       "E9     14\n",
       "E8      7\n",
       "Name: Postal, dtype: int64"
      ]
     },
     "execution_count": 10,
     "metadata": {},
     "output_type": "execute_result"
    }
   ],
   "source": [
    "train['Postal'] = train['Postal'].str[:-1]\n",
    "train.Postal.value_counts()"
   ]
  },
  {
   "cell_type": "code",
   "execution_count": 11,
   "metadata": {},
   "outputs": [
    {
     "data": {
      "text/plain": [
       "E4    25\n",
       "E3    20\n",
       "E1    13\n",
       "E5    13\n",
       "E2    11\n",
       "E9     6\n",
       "E6     2\n",
       "E8     2\n",
       "E7     2\n",
       "Name: Postal, dtype: int64"
      ]
     },
     "execution_count": 11,
     "metadata": {},
     "output_type": "execute_result"
    }
   ],
   "source": [
    "# do the same thing for the validation set\n",
    "val['Postal'] = val['Postal'].str[:-1]\n",
    "val.Postal.value_counts()"
   ]
  },
  {
   "cell_type": "markdown",
   "metadata": {},
   "source": [
    "Much better. We can now drop the postal code."
   ]
  },
  {
   "cell_type": "code",
   "execution_count": 12,
   "metadata": {},
   "outputs": [],
   "source": [
    "train.drop('Postal Code',axis=1,inplace=True)\n",
    "val.drop('Postal Code', axis=1, inplace=True)"
   ]
  },
  {
   "cell_type": "code",
   "execution_count": 13,
   "metadata": {},
   "outputs": [
    {
     "data": {
      "text/html": [
       "<div>\n",
       "<style scoped>\n",
       "    .dataframe tbody tr th:only-of-type {\n",
       "        vertical-align: middle;\n",
       "    }\n",
       "\n",
       "    .dataframe tbody tr th {\n",
       "        vertical-align: top;\n",
       "    }\n",
       "\n",
       "    .dataframe thead th {\n",
       "        text-align: right;\n",
       "    }\n",
       "</style>\n",
       "<table border=\"1\" class=\"dataframe\">\n",
       "  <thead>\n",
       "    <tr style=\"text-align: right;\">\n",
       "      <th></th>\n",
       "      <th>Address</th>\n",
       "      <th>Beds</th>\n",
       "      <th>Baths</th>\n",
       "      <th>House Size (sqft)</th>\n",
       "      <th>Lot Size (ac)</th>\n",
       "      <th>Type</th>\n",
       "      <th>Price</th>\n",
       "      <th>Postal</th>\n",
       "    </tr>\n",
       "  </thead>\n",
       "  <tbody>\n",
       "    <tr>\n",
       "      <th>71</th>\n",
       "      <td>2100 Bridletowne Cir, Clarks Corners, New Brun...</td>\n",
       "      <td>3.0</td>\n",
       "      <td>2.0</td>\n",
       "      <td>1390.0</td>\n",
       "      <td>NaN</td>\n",
       "      <td>Residential</td>\n",
       "      <td>820000</td>\n",
       "      <td>NaN</td>\n",
       "    </tr>\n",
       "    <tr>\n",
       "      <th>94</th>\n",
       "      <td>20 Burlington Court, Pokiok, New Brunswick</td>\n",
       "      <td>NaN</td>\n",
       "      <td>NaN</td>\n",
       "      <td>NaN</td>\n",
       "      <td>NaN</td>\n",
       "      <td>Empty Land</td>\n",
       "      <td>124000</td>\n",
       "      <td>NaN</td>\n",
       "    </tr>\n",
       "    <tr>\n",
       "      <th>207</th>\n",
       "      <td>642 Charters Settlement Road, Greater New Mary...</td>\n",
       "      <td>4.0</td>\n",
       "      <td>1.0</td>\n",
       "      <td>NaN</td>\n",
       "      <td>NaN</td>\n",
       "      <td>Family</td>\n",
       "      <td>224900</td>\n",
       "      <td>NaN</td>\n",
       "    </tr>\n",
       "    <tr>\n",
       "      <th>279</th>\n",
       "      <td>71 Pointe des Robichaud, Val - Comeau, New Bru...</td>\n",
       "      <td>3.0</td>\n",
       "      <td>1.0</td>\n",
       "      <td>NaN</td>\n",
       "      <td>NaN</td>\n",
       "      <td>Family</td>\n",
       "      <td>319000</td>\n",
       "      <td>NaN</td>\n",
       "    </tr>\n",
       "    <tr>\n",
       "      <th>357</th>\n",
       "      <td>Lot Route 390, Greater Perth - Andover, New Br...</td>\n",
       "      <td>NaN</td>\n",
       "      <td>NaN</td>\n",
       "      <td>NaN</td>\n",
       "      <td>NaN</td>\n",
       "      <td>Empty Land</td>\n",
       "      <td>80000</td>\n",
       "      <td>NaN</td>\n",
       "    </tr>\n",
       "  </tbody>\n",
       "</table>\n",
       "</div>"
      ],
      "text/plain": [
       "                                               Address  Beds  Baths  \\\n",
       "71   2100 Bridletowne Cir, Clarks Corners, New Brun...   3.0    2.0   \n",
       "94          20 Burlington Court, Pokiok, New Brunswick   NaN    NaN   \n",
       "207  642 Charters Settlement Road, Greater New Mary...   4.0    1.0   \n",
       "279  71 Pointe des Robichaud, Val - Comeau, New Bru...   3.0    1.0   \n",
       "357  Lot Route 390, Greater Perth - Andover, New Br...   NaN    NaN   \n",
       "\n",
       "     House Size (sqft)  Lot Size (ac)         Type   Price Postal  \n",
       "71              1390.0            NaN  Residential  820000    NaN  \n",
       "94                 NaN            NaN   Empty Land  124000    NaN  \n",
       "207                NaN            NaN       Family  224900    NaN  \n",
       "279                NaN            NaN       Family  319000    NaN  \n",
       "357                NaN            NaN   Empty Land   80000    NaN  "
      ]
     },
     "execution_count": 13,
     "metadata": {},
     "output_type": "execute_result"
    }
   ],
   "source": [
    "# there is a null value. let's check the address(es)\n",
    "train[train.Postal.isnull()]"
   ]
  },
  {
   "cell_type": "markdown",
   "metadata": {},
   "source": [
    "According to Wikipedia and some searching in Google, Greater Perth-Andover has postal codes starting with E7. As for Val-Comeau, it starts with E1. For Pokiok, its E6 and for Clarks Corner its E4. Greater New Maryland has a postal code starting with E3."
   ]
  },
  {
   "cell_type": "code",
   "execution_count": 14,
   "metadata": {},
   "outputs": [
    {
     "data": {
      "text/html": [
       "<div>\n",
       "<style scoped>\n",
       "    .dataframe tbody tr th:only-of-type {\n",
       "        vertical-align: middle;\n",
       "    }\n",
       "\n",
       "    .dataframe tbody tr th {\n",
       "        vertical-align: top;\n",
       "    }\n",
       "\n",
       "    .dataframe thead th {\n",
       "        text-align: right;\n",
       "    }\n",
       "</style>\n",
       "<table border=\"1\" class=\"dataframe\">\n",
       "  <thead>\n",
       "    <tr style=\"text-align: right;\">\n",
       "      <th></th>\n",
       "      <th>Address</th>\n",
       "      <th>Beds</th>\n",
       "      <th>Baths</th>\n",
       "      <th>House Size (sqft)</th>\n",
       "      <th>Lot Size (ac)</th>\n",
       "      <th>Type</th>\n",
       "      <th>Price</th>\n",
       "      <th>Postal</th>\n",
       "    </tr>\n",
       "  </thead>\n",
       "  <tbody>\n",
       "    <tr>\n",
       "      <th>71</th>\n",
       "      <td>2100 Bridletowne Cir, Clarks Corners, New Brun...</td>\n",
       "      <td>3.0</td>\n",
       "      <td>2.0</td>\n",
       "      <td>1390.0</td>\n",
       "      <td>NaN</td>\n",
       "      <td>Residential</td>\n",
       "      <td>820000</td>\n",
       "      <td>E4</td>\n",
       "    </tr>\n",
       "    <tr>\n",
       "      <th>94</th>\n",
       "      <td>20 Burlington Court, Pokiok, New Brunswick</td>\n",
       "      <td>NaN</td>\n",
       "      <td>NaN</td>\n",
       "      <td>NaN</td>\n",
       "      <td>NaN</td>\n",
       "      <td>Empty Land</td>\n",
       "      <td>124000</td>\n",
       "      <td>E6</td>\n",
       "    </tr>\n",
       "    <tr>\n",
       "      <th>207</th>\n",
       "      <td>642 Charters Settlement Road, Greater New Mary...</td>\n",
       "      <td>4.0</td>\n",
       "      <td>1.0</td>\n",
       "      <td>NaN</td>\n",
       "      <td>NaN</td>\n",
       "      <td>Family</td>\n",
       "      <td>224900</td>\n",
       "      <td>E3</td>\n",
       "    </tr>\n",
       "    <tr>\n",
       "      <th>279</th>\n",
       "      <td>71 Pointe des Robichaud, Val - Comeau, New Bru...</td>\n",
       "      <td>3.0</td>\n",
       "      <td>1.0</td>\n",
       "      <td>NaN</td>\n",
       "      <td>NaN</td>\n",
       "      <td>Family</td>\n",
       "      <td>319000</td>\n",
       "      <td>E1</td>\n",
       "    </tr>\n",
       "    <tr>\n",
       "      <th>357</th>\n",
       "      <td>Lot Route 390, Greater Perth - Andover, New Br...</td>\n",
       "      <td>NaN</td>\n",
       "      <td>NaN</td>\n",
       "      <td>NaN</td>\n",
       "      <td>NaN</td>\n",
       "      <td>Empty Land</td>\n",
       "      <td>80000</td>\n",
       "      <td>E7</td>\n",
       "    </tr>\n",
       "  </tbody>\n",
       "</table>\n",
       "</div>"
      ],
      "text/plain": [
       "                                               Address  Beds  Baths  \\\n",
       "71   2100 Bridletowne Cir, Clarks Corners, New Brun...   3.0    2.0   \n",
       "94          20 Burlington Court, Pokiok, New Brunswick   NaN    NaN   \n",
       "207  642 Charters Settlement Road, Greater New Mary...   4.0    1.0   \n",
       "279  71 Pointe des Robichaud, Val - Comeau, New Bru...   3.0    1.0   \n",
       "357  Lot Route 390, Greater Perth - Andover, New Br...   NaN    NaN   \n",
       "\n",
       "     House Size (sqft)  Lot Size (ac)         Type   Price Postal  \n",
       "71              1390.0            NaN  Residential  820000     E4  \n",
       "94                 NaN            NaN   Empty Land  124000     E6  \n",
       "207                NaN            NaN       Family  224900     E3  \n",
       "279                NaN            NaN       Family  319000     E1  \n",
       "357                NaN            NaN   Empty Land   80000     E7  "
      ]
     },
     "execution_count": 14,
     "metadata": {},
     "output_type": "execute_result"
    }
   ],
   "source": [
    "nan_postal = {71 : 'E4', 94: 'E6', 207: 'E3', 279: 'E1', 357: 'E7'}\n",
    "\n",
    "for index, post in nan_postal.items():\n",
    "    train.loc[index,'Postal'] = post\n",
    "\n",
    "train.loc[nan_postal.keys(),:]"
   ]
  },
  {
   "cell_type": "code",
   "execution_count": 15,
   "metadata": {},
   "outputs": [
    {
     "data": {
      "text/html": [
       "<div>\n",
       "<style scoped>\n",
       "    .dataframe tbody tr th:only-of-type {\n",
       "        vertical-align: middle;\n",
       "    }\n",
       "\n",
       "    .dataframe tbody tr th {\n",
       "        vertical-align: top;\n",
       "    }\n",
       "\n",
       "    .dataframe thead th {\n",
       "        text-align: right;\n",
       "    }\n",
       "</style>\n",
       "<table border=\"1\" class=\"dataframe\">\n",
       "  <thead>\n",
       "    <tr style=\"text-align: right;\">\n",
       "      <th></th>\n",
       "      <th>Address</th>\n",
       "      <th>Beds</th>\n",
       "      <th>Baths</th>\n",
       "      <th>House Size (sqft)</th>\n",
       "      <th>Lot Size (ac)</th>\n",
       "      <th>Type</th>\n",
       "      <th>Price</th>\n",
       "      <th>Postal</th>\n",
       "    </tr>\n",
       "  </thead>\n",
       "  <tbody>\n",
       "    <tr>\n",
       "      <th>0</th>\n",
       "      <td>Woodlot on Route 118, Miramichi, New Brunswick</td>\n",
       "      <td>NaN</td>\n",
       "      <td>NaN</td>\n",
       "      <td>NaN</td>\n",
       "      <td>NaN</td>\n",
       "      <td>Empty Land</td>\n",
       "      <td>39900</td>\n",
       "      <td>NaN</td>\n",
       "    </tr>\n",
       "  </tbody>\n",
       "</table>\n",
       "</div>"
      ],
      "text/plain": [
       "                                          Address  Beds  Baths  \\\n",
       "0  Woodlot on Route 118, Miramichi, New Brunswick   NaN    NaN   \n",
       "\n",
       "   House Size (sqft)  Lot Size (ac)        Type  Price Postal  \n",
       "0                NaN            NaN  Empty Land  39900    NaN  "
      ]
     },
     "execution_count": 15,
     "metadata": {},
     "output_type": "execute_result"
    }
   ],
   "source": [
    "# check null postal for test set\n",
    "val[val.Postal.isnull()]"
   ]
  },
  {
   "cell_type": "markdown",
   "metadata": {},
   "source": [
    "Miramichi has a postal code starting with E1."
   ]
  },
  {
   "cell_type": "code",
   "execution_count": 16,
   "metadata": {},
   "outputs": [
    {
     "data": {
      "text/html": [
       "<div>\n",
       "<style scoped>\n",
       "    .dataframe tbody tr th:only-of-type {\n",
       "        vertical-align: middle;\n",
       "    }\n",
       "\n",
       "    .dataframe tbody tr th {\n",
       "        vertical-align: top;\n",
       "    }\n",
       "\n",
       "    .dataframe thead th {\n",
       "        text-align: right;\n",
       "    }\n",
       "</style>\n",
       "<table border=\"1\" class=\"dataframe\">\n",
       "  <thead>\n",
       "    <tr style=\"text-align: right;\">\n",
       "      <th></th>\n",
       "      <th>Address</th>\n",
       "      <th>Beds</th>\n",
       "      <th>Baths</th>\n",
       "      <th>House Size (sqft)</th>\n",
       "      <th>Lot Size (ac)</th>\n",
       "      <th>Type</th>\n",
       "      <th>Price</th>\n",
       "      <th>Postal</th>\n",
       "    </tr>\n",
       "  </thead>\n",
       "  <tbody>\n",
       "  </tbody>\n",
       "</table>\n",
       "</div>"
      ],
      "text/plain": [
       "Empty DataFrame\n",
       "Columns: [Address, Beds, Baths, House Size (sqft), Lot Size (ac), Type, Price, Postal]\n",
       "Index: []"
      ]
     },
     "execution_count": 16,
     "metadata": {},
     "output_type": "execute_result"
    }
   ],
   "source": [
    "val['Postal'] = 'E1'\n",
    "\n",
    "# check if there are no more null values\n",
    "val[val.Postal.isnull()]"
   ]
  },
  {
   "cell_type": "markdown",
   "metadata": {},
   "source": [
    "We can also drop the addresses now since we have the postal codes. "
   ]
  },
  {
   "cell_type": "code",
   "execution_count": 17,
   "metadata": {},
   "outputs": [],
   "source": [
    "train.drop('Address',axis=1,inplace=True)\n",
    "val.drop('Address',axis=1,inplace=True)"
   ]
  },
  {
   "cell_type": "markdown",
   "metadata": {},
   "source": [
    "## 3.1 Imputations\n",
    "\n",
    "### 3.1.1 Beds and Baths\n",
    "We first check the distribution of beds and baths for both sets. First, the training set."
   ]
  },
  {
   "cell_type": "code",
   "execution_count": 18,
   "metadata": {},
   "outputs": [
    {
     "data": {
      "text/plain": [
       "<matplotlib.axes._subplots.AxesSubplot at 0x1a19e4e690>"
      ]
     },
     "execution_count": 18,
     "metadata": {},
     "output_type": "execute_result"
    },
    {
     "data": {
      "image/png": "[encoded data removed]",
      "text/plain": [
       "<Figure size 432x288 with 1 Axes>"
      ]
     },
     "metadata": {
      "needs_background": "light"
     },
     "output_type": "display_data"
    }
   ],
   "source": [
    "train['Beds'].hist()"
   ]
  },
  {
   "cell_type": "code",
   "execution_count": 19,
   "metadata": {},
   "outputs": [
    {
     "data": {
      "text/plain": [
       "<matplotlib.axes._subplots.AxesSubplot at 0x1a1b59bb10>"
      ]
     },
     "execution_count": 19,
     "metadata": {},
     "output_type": "execute_result"
    },
    {
     "data": {
      "image/png": "[encoded data removed]",
      "text/plain": [
       "<Figure size 432x288 with 1 Axes>"
      ]
     },
     "metadata": {
      "needs_background": "light"
     },
     "output_type": "display_data"
    }
   ],
   "source": [
    "train['Baths'].hist()"
   ]
  },
  {
   "cell_type": "markdown",
   "metadata": {},
   "source": [
    "Now we check how many null values there are for beds and baths."
   ]
  },
  {
   "cell_type": "code",
   "execution_count": 20,
   "metadata": {},
   "outputs": [
    {
     "name": "stdout",
     "output_type": "stream",
     "text": [
      "Null values for Beds on train:  170\n",
      "Null values for Baths on train:  172\n",
      "Rows in train:  537\n"
     ]
    }
   ],
   "source": [
    "print('Null values for Beds on train: ', train.Beds.isnull().sum())\n",
    "print('Null values for Baths on train: ',train.Baths.isnull().sum())\n",
    "print('Rows in train: ',len(train))"
   ]
  },
  {
   "cell_type": "markdown",
   "metadata": {},
   "source": [
    "Obviously, if its an empty land there would be no beds or baths, so lets check if they are null or zeroes for empty land."
   ]
  },
  {
   "cell_type": "code",
   "execution_count": 21,
   "metadata": {},
   "outputs": [
    {
     "data": {
      "text/plain": [
       "2      True\n",
       "13     True\n",
       "18     True\n",
       "33     True\n",
       "38     True\n",
       "       ... \n",
       "527    True\n",
       "529    True\n",
       "530    True\n",
       "532    True\n",
       "536    True\n",
       "Name: Beds, Length: 134, dtype: bool"
      ]
     },
     "execution_count": 21,
     "metadata": {},
     "output_type": "execute_result"
    }
   ],
   "source": [
    "train[train['Type']=='Empty Land'].Beds.isnull()"
   ]
  },
  {
   "cell_type": "markdown",
   "metadata": {},
   "source": [
    "So they are padded with null values, and not zeroes. About 32% of the training data have no beds or baths values. This seems problematic. Although, we could possibly have more predicting power if we just impute the nulls with the medians, since the distributions for beds and baths are right-skewed. As for empty land, we just replace them with zeroes."
   ]
  },
  {
   "cell_type": "code",
   "execution_count": 22,
   "metadata": {},
   "outputs": [
    {
     "data": {
      "text/plain": [
       "2     NaN\n",
       "13    NaN\n",
       "18    NaN\n",
       "33    NaN\n",
       "38    NaN\n",
       "       ..\n",
       "527   NaN\n",
       "529   NaN\n",
       "530   NaN\n",
       "532   NaN\n",
       "536   NaN\n",
       "Name: Beds, Length: 134, dtype: float64"
      ]
     },
     "execution_count": 22,
     "metadata": {},
     "output_type": "execute_result"
    }
   ],
   "source": [
    "train.loc[train['Type'] == 'Empty Land','Beds']"
   ]
  },
  {
   "cell_type": "code",
   "execution_count": 23,
   "metadata": {},
   "outputs": [
    {
     "data": {
      "application/vnd.jupyter.widget-view+json": {
       "model_id": "e3fce97254db44009a124ebebcf2dd8e",
       "version_major": 2,
       "version_minor": 0
      },
      "text/plain": [
       "HBox(children=(FloatProgress(value=0.0, max=537.0), HTML(value='')))"
      ]
     },
     "metadata": {},
     "output_type": "display_data"
    },
    {
     "name": "stdout",
     "output_type": "stream",
     "text": [
      "\n"
     ]
    },
    {
     "data": {
      "text/html": [
       "<div>\n",
       "<style scoped>\n",
       "    .dataframe tbody tr th:only-of-type {\n",
       "        vertical-align: middle;\n",
       "    }\n",
       "\n",
       "    .dataframe tbody tr th {\n",
       "        vertical-align: top;\n",
       "    }\n",
       "\n",
       "    .dataframe thead th {\n",
       "        text-align: right;\n",
       "    }\n",
       "</style>\n",
       "<table border=\"1\" class=\"dataframe\">\n",
       "  <thead>\n",
       "    <tr style=\"text-align: right;\">\n",
       "      <th></th>\n",
       "      <th>Beds</th>\n",
       "      <th>Baths</th>\n",
       "      <th>House Size (sqft)</th>\n",
       "      <th>Lot Size (ac)</th>\n",
       "      <th>Type</th>\n",
       "      <th>Price</th>\n",
       "      <th>Postal</th>\n",
       "    </tr>\n",
       "  </thead>\n",
       "  <tbody>\n",
       "    <tr>\n",
       "      <th>0</th>\n",
       "      <td>4.0</td>\n",
       "      <td>2.0</td>\n",
       "      <td>NaN</td>\n",
       "      <td>NaN</td>\n",
       "      <td>Family</td>\n",
       "      <td>169900</td>\n",
       "      <td>E2</td>\n",
       "    </tr>\n",
       "    <tr>\n",
       "      <th>1</th>\n",
       "      <td>4.0</td>\n",
       "      <td>2.0</td>\n",
       "      <td>1675.0</td>\n",
       "      <td>1.170</td>\n",
       "      <td>Residential</td>\n",
       "      <td>259000</td>\n",
       "      <td>E5</td>\n",
       "    </tr>\n",
       "    <tr>\n",
       "      <th>2</th>\n",
       "      <td>0.0</td>\n",
       "      <td>0.0</td>\n",
       "      <td>NaN</td>\n",
       "      <td>NaN</td>\n",
       "      <td>Empty Land</td>\n",
       "      <td>19000</td>\n",
       "      <td>E1</td>\n",
       "    </tr>\n",
       "    <tr>\n",
       "      <th>3</th>\n",
       "      <td>4.0</td>\n",
       "      <td>2.0</td>\n",
       "      <td>1780.0</td>\n",
       "      <td>0.134</td>\n",
       "      <td>Residential</td>\n",
       "      <td>104200</td>\n",
       "      <td>E1</td>\n",
       "    </tr>\n",
       "    <tr>\n",
       "      <th>4</th>\n",
       "      <td>4.0</td>\n",
       "      <td>3.0</td>\n",
       "      <td>NaN</td>\n",
       "      <td>NaN</td>\n",
       "      <td>Residential</td>\n",
       "      <td>269000</td>\n",
       "      <td>E3</td>\n",
       "    </tr>\n",
       "  </tbody>\n",
       "</table>\n",
       "</div>"
      ],
      "text/plain": [
       "   Beds  Baths  House Size (sqft)  Lot Size (ac)         Type   Price Postal\n",
       "0   4.0    2.0                NaN            NaN       Family  169900     E2\n",
       "1   4.0    2.0             1675.0          1.170  Residential  259000     E5\n",
       "2   0.0    0.0                NaN            NaN   Empty Land   19000     E1\n",
       "3   4.0    2.0             1780.0          0.134  Residential  104200     E1\n",
       "4   4.0    3.0                NaN            NaN  Residential  269000     E3"
      ]
     },
     "execution_count": 23,
     "metadata": {},
     "output_type": "execute_result"
    }
   ],
   "source": [
    "bed_median = train['Beds'].median(skipna=True)\n",
    "bath_median = train['Baths'].median(skipna=True)\n",
    "\n",
    "# no beds nor baths for empty land\n",
    "for index, typ in tqdm(train['Type'].items(),total=len(train['Type'])):\n",
    "    if np.isnan(train.loc[index,'Beds']):\n",
    "        if typ == 'Empty Land':\n",
    "            train.loc[index,'Beds'] = 0\n",
    "        else:\n",
    "            train.loc[index,'Beds'] = bed_median\n",
    "            \n",
    "    if np.isnan(train.loc[index,'Baths']):\n",
    "        if typ == 'Empty Land':\n",
    "            train.loc[index,'Baths'] = 0\n",
    "        else:\n",
    "            train.loc[index,'Baths'] = bath_median\n",
    "        \n",
    "train.head(5)"
   ]
  },
  {
   "cell_type": "code",
   "execution_count": 24,
   "metadata": {},
   "outputs": [
    {
     "data": {
      "text/plain": [
       "0"
      ]
     },
     "execution_count": 24,
     "metadata": {},
     "output_type": "execute_result"
    }
   ],
   "source": [
    "# check whether the imputation was successful\n",
    "train.Beds.isnull().sum()"
   ]
  },
  {
   "cell_type": "code",
   "execution_count": 25,
   "metadata": {},
   "outputs": [
    {
     "data": {
      "text/plain": [
       "<matplotlib.axes._subplots.AxesSubplot at 0x1a1b647ed0>"
      ]
     },
     "execution_count": 25,
     "metadata": {},
     "output_type": "execute_result"
    },
    {
     "data": {
      "image/png": "[encoded data removed]",
      "text/plain": [
       "<Figure size 432x288 with 1 Axes>"
      ]
     },
     "metadata": {
      "needs_background": "light"
     },
     "output_type": "display_data"
    }
   ],
   "source": [
    "# do the same thing for the validation set\n",
    "val['Beds'].hist()"
   ]
  },
  {
   "cell_type": "code",
   "execution_count": 26,
   "metadata": {},
   "outputs": [
    {
     "data": {
      "text/plain": [
       "<matplotlib.axes._subplots.AxesSubplot at 0x1a1b799090>"
      ]
     },
     "execution_count": 26,
     "metadata": {},
     "output_type": "execute_result"
    },
    {
     "data": {
      "image/png": "[encoded data removed]",
      "text/plain": [
       "<Figure size 432x288 with 1 Axes>"
      ]
     },
     "metadata": {
      "needs_background": "light"
     },
     "output_type": "display_data"
    }
   ],
   "source": [
    "val['Baths'].hist()"
   ]
  },
  {
   "cell_type": "code",
   "execution_count": 27,
   "metadata": {},
   "outputs": [
    {
     "name": "stdout",
     "output_type": "stream",
     "text": [
      "Null values for Beds on val:  26\n",
      "Null values for Baths on val:  28\n",
      "Rows in train:  95\n"
     ]
    }
   ],
   "source": [
    "# check how many null values for beds and baths are there\n",
    "print('Null values for Beds on val: ', val.Beds.isnull().sum())\n",
    "print('Null values for Baths on val: ',val.Baths.isnull().sum())\n",
    "print('Rows in train: ',len(val))"
   ]
  },
  {
   "cell_type": "markdown",
   "metadata": {},
   "source": [
    "Roughly 28% is missing, so not bad. For beds, it seems like the distribution is symmetric, so we can just impute with the mean, but for baths, the distribution is right-skewed, so we impute with the median (for residential types), zero for empty land."
   ]
  },
  {
   "cell_type": "code",
   "execution_count": 28,
   "metadata": {},
   "outputs": [
    {
     "data": {
      "application/vnd.jupyter.widget-view+json": {
       "model_id": "cd5357f080c24c1bbcd647be2aa4c4b7",
       "version_major": 2,
       "version_minor": 0
      },
      "text/plain": [
       "HBox(children=(FloatProgress(value=0.0, max=95.0), HTML(value='')))"
      ]
     },
     "metadata": {},
     "output_type": "display_data"
    },
    {
     "name": "stdout",
     "output_type": "stream",
     "text": [
      "\n"
     ]
    }
   ],
   "source": [
    "bed_median = val['Beds'].median(skipna=True)\n",
    "bath_median = val['Baths'].median(skipna=True)\n",
    "\n",
    "# no beds nor baths for empty land\n",
    "for index, typ in tqdm(val['Type'].items(),total=len(val['Type'])):\n",
    "    if np.isnan(val.loc[index,'Beds']):\n",
    "        if typ == 'Empty Land':\n",
    "            val.loc[index,'Beds'] = 0\n",
    "        else:\n",
    "            val.loc[index,'Beds'] = bed_median\n",
    "            \n",
    "    if np.isnan(val.loc[index,'Baths']):\n",
    "        if typ == 'Empty Land':\n",
    "            val.loc[index,'Baths'] = 0\n",
    "        else:\n",
    "            val.loc[index,'Baths'] = bath_median"
   ]
  },
  {
   "cell_type": "code",
   "execution_count": 29,
   "metadata": {},
   "outputs": [
    {
     "data": {
      "text/plain": [
       "0"
      ]
     },
     "execution_count": 29,
     "metadata": {},
     "output_type": "execute_result"
    }
   ],
   "source": [
    "# check whether imputation was successful\n",
    "val.Beds.isnull().sum()"
   ]
  },
  {
   "cell_type": "markdown",
   "metadata": {},
   "source": [
    "### 3.1.2 House Size\n",
    "\n",
    "Empty lands with null values (for house size) on them should be replaced with zero. Now as for residential types, we look at their distributions. First the training set."
   ]
  },
  {
   "cell_type": "code",
   "execution_count": 30,
   "metadata": {},
   "outputs": [
    {
     "data": {
      "text/plain": [
       "<matplotlib.axes._subplots.AxesSubplot at 0x1a1b8872d0>"
      ]
     },
     "execution_count": 30,
     "metadata": {},
     "output_type": "execute_result"
    },
    {
     "data": {
      "image/png": "[encoded data removed]",
      "text/plain": [
       "<Figure size 432x288 with 1 Axes>"
      ]
     },
     "metadata": {
      "needs_background": "light"
     },
     "output_type": "display_data"
    }
   ],
   "source": [
    "train['House Size (sqft)'].hist()"
   ]
  },
  {
   "cell_type": "markdown",
   "metadata": {},
   "source": [
    "Its skewed to the right, so we impute once again with the median."
   ]
  },
  {
   "cell_type": "code",
   "execution_count": 31,
   "metadata": {},
   "outputs": [
    {
     "data": {
      "application/vnd.jupyter.widget-view+json": {
       "model_id": "f7a2635aa1964ef39307453b5a5d9bfe",
       "version_major": 2,
       "version_minor": 0
      },
      "text/plain": [
       "HBox(children=(FloatProgress(value=0.0, max=537.0), HTML(value='')))"
      ]
     },
     "metadata": {},
     "output_type": "display_data"
    },
    {
     "name": "stdout",
     "output_type": "stream",
     "text": [
      "\n"
     ]
    },
    {
     "data": {
      "text/html": [
       "<div>\n",
       "<style scoped>\n",
       "    .dataframe tbody tr th:only-of-type {\n",
       "        vertical-align: middle;\n",
       "    }\n",
       "\n",
       "    .dataframe tbody tr th {\n",
       "        vertical-align: top;\n",
       "    }\n",
       "\n",
       "    .dataframe thead th {\n",
       "        text-align: right;\n",
       "    }\n",
       "</style>\n",
       "<table border=\"1\" class=\"dataframe\">\n",
       "  <thead>\n",
       "    <tr style=\"text-align: right;\">\n",
       "      <th></th>\n",
       "      <th>Beds</th>\n",
       "      <th>Baths</th>\n",
       "      <th>House Size (sqft)</th>\n",
       "      <th>Lot Size (ac)</th>\n",
       "      <th>Type</th>\n",
       "      <th>Price</th>\n",
       "      <th>Postal</th>\n",
       "    </tr>\n",
       "  </thead>\n",
       "  <tbody>\n",
       "    <tr>\n",
       "      <th>0</th>\n",
       "      <td>4.0</td>\n",
       "      <td>2.0</td>\n",
       "      <td>1584.0</td>\n",
       "      <td>NaN</td>\n",
       "      <td>Family</td>\n",
       "      <td>169900</td>\n",
       "      <td>E2</td>\n",
       "    </tr>\n",
       "    <tr>\n",
       "      <th>1</th>\n",
       "      <td>4.0</td>\n",
       "      <td>2.0</td>\n",
       "      <td>1675.0</td>\n",
       "      <td>1.170</td>\n",
       "      <td>Residential</td>\n",
       "      <td>259000</td>\n",
       "      <td>E5</td>\n",
       "    </tr>\n",
       "    <tr>\n",
       "      <th>2</th>\n",
       "      <td>0.0</td>\n",
       "      <td>0.0</td>\n",
       "      <td>0.0</td>\n",
       "      <td>NaN</td>\n",
       "      <td>Empty Land</td>\n",
       "      <td>19000</td>\n",
       "      <td>E1</td>\n",
       "    </tr>\n",
       "    <tr>\n",
       "      <th>3</th>\n",
       "      <td>4.0</td>\n",
       "      <td>2.0</td>\n",
       "      <td>1780.0</td>\n",
       "      <td>0.134</td>\n",
       "      <td>Residential</td>\n",
       "      <td>104200</td>\n",
       "      <td>E1</td>\n",
       "    </tr>\n",
       "    <tr>\n",
       "      <th>4</th>\n",
       "      <td>4.0</td>\n",
       "      <td>3.0</td>\n",
       "      <td>1584.0</td>\n",
       "      <td>NaN</td>\n",
       "      <td>Residential</td>\n",
       "      <td>269000</td>\n",
       "      <td>E3</td>\n",
       "    </tr>\n",
       "  </tbody>\n",
       "</table>\n",
       "</div>"
      ],
      "text/plain": [
       "   Beds  Baths  House Size (sqft)  Lot Size (ac)         Type   Price Postal\n",
       "0   4.0    2.0             1584.0            NaN       Family  169900     E2\n",
       "1   4.0    2.0             1675.0          1.170  Residential  259000     E5\n",
       "2   0.0    0.0                0.0            NaN   Empty Land   19000     E1\n",
       "3   4.0    2.0             1780.0          0.134  Residential  104200     E1\n",
       "4   4.0    3.0             1584.0            NaN  Residential  269000     E3"
      ]
     },
     "execution_count": 31,
     "metadata": {},
     "output_type": "execute_result"
    }
   ],
   "source": [
    "house_median = train['House Size (sqft)'].median(skipna=True)\n",
    "\n",
    "# no house size for empty land\n",
    "for index, typ in tqdm(train['Type'].items(),total=len(train['Type'])):\n",
    "    if np.isnan(train.loc[index,'House Size (sqft)']):\n",
    "        if typ == 'Empty Land':\n",
    "            train.loc[index,'House Size (sqft)'] = 0\n",
    "        else:\n",
    "            train.loc[index,'House Size (sqft)'] = house_median\n",
    "\n",
    "train.head(5)"
   ]
  },
  {
   "cell_type": "code",
   "execution_count": 32,
   "metadata": {},
   "outputs": [
    {
     "data": {
      "text/plain": [
       "<matplotlib.axes._subplots.AxesSubplot at 0x1a1b995590>"
      ]
     },
     "execution_count": 32,
     "metadata": {},
     "output_type": "execute_result"
    },
    {
     "data": {
      "image/png": "[encoded data removed]",
      "text/plain": [
       "<Figure size 432x288 with 1 Axes>"
      ]
     },
     "metadata": {
      "needs_background": "light"
     },
     "output_type": "display_data"
    }
   ],
   "source": [
    "# lets now check the validation set\n",
    "val['House Size (sqft)'].hist()"
   ]
  },
  {
   "cell_type": "markdown",
   "metadata": {},
   "source": [
    "We see the same behaviour on the distribution, so we employ the same strategy."
   ]
  },
  {
   "cell_type": "code",
   "execution_count": 33,
   "metadata": {},
   "outputs": [
    {
     "data": {
      "application/vnd.jupyter.widget-view+json": {
       "model_id": "87f614060b99407b93cefdf2ae4b336e",
       "version_major": 2,
       "version_minor": 0
      },
      "text/plain": [
       "HBox(children=(FloatProgress(value=0.0, max=95.0), HTML(value='')))"
      ]
     },
     "metadata": {},
     "output_type": "display_data"
    },
    {
     "name": "stdout",
     "output_type": "stream",
     "text": [
      "\n"
     ]
    },
    {
     "data": {
      "text/html": [
       "<div>\n",
       "<style scoped>\n",
       "    .dataframe tbody tr th:only-of-type {\n",
       "        vertical-align: middle;\n",
       "    }\n",
       "\n",
       "    .dataframe tbody tr th {\n",
       "        vertical-align: top;\n",
       "    }\n",
       "\n",
       "    .dataframe thead th {\n",
       "        text-align: right;\n",
       "    }\n",
       "</style>\n",
       "<table border=\"1\" class=\"dataframe\">\n",
       "  <thead>\n",
       "    <tr style=\"text-align: right;\">\n",
       "      <th></th>\n",
       "      <th>Beds</th>\n",
       "      <th>Baths</th>\n",
       "      <th>House Size (sqft)</th>\n",
       "      <th>Lot Size (ac)</th>\n",
       "      <th>Type</th>\n",
       "      <th>Price</th>\n",
       "      <th>Postal</th>\n",
       "    </tr>\n",
       "  </thead>\n",
       "  <tbody>\n",
       "    <tr>\n",
       "      <th>0</th>\n",
       "      <td>0.0</td>\n",
       "      <td>0.0</td>\n",
       "      <td>0.0</td>\n",
       "      <td>NaN</td>\n",
       "      <td>Empty Land</td>\n",
       "      <td>39900</td>\n",
       "      <td>E1</td>\n",
       "    </tr>\n",
       "    <tr>\n",
       "      <th>1</th>\n",
       "      <td>3.0</td>\n",
       "      <td>2.0</td>\n",
       "      <td>1519.0</td>\n",
       "      <td>10.00</td>\n",
       "      <td>Residential</td>\n",
       "      <td>70000</td>\n",
       "      <td>E1</td>\n",
       "    </tr>\n",
       "    <tr>\n",
       "      <th>2</th>\n",
       "      <td>0.0</td>\n",
       "      <td>0.0</td>\n",
       "      <td>0.0</td>\n",
       "      <td>1.03</td>\n",
       "      <td>Empty Land</td>\n",
       "      <td>8000</td>\n",
       "      <td>E1</td>\n",
       "    </tr>\n",
       "    <tr>\n",
       "      <th>3</th>\n",
       "      <td>0.0</td>\n",
       "      <td>0.0</td>\n",
       "      <td>0.0</td>\n",
       "      <td>NaN</td>\n",
       "      <td>Empty Land</td>\n",
       "      <td>24900</td>\n",
       "      <td>E1</td>\n",
       "    </tr>\n",
       "    <tr>\n",
       "      <th>4</th>\n",
       "      <td>3.0</td>\n",
       "      <td>1.0</td>\n",
       "      <td>1725.0</td>\n",
       "      <td>NaN</td>\n",
       "      <td>Family</td>\n",
       "      <td>119900</td>\n",
       "      <td>E1</td>\n",
       "    </tr>\n",
       "  </tbody>\n",
       "</table>\n",
       "</div>"
      ],
      "text/plain": [
       "   Beds  Baths  House Size (sqft)  Lot Size (ac)         Type   Price Postal\n",
       "0   0.0    0.0                0.0            NaN   Empty Land   39900     E1\n",
       "1   3.0    2.0             1519.0          10.00  Residential   70000     E1\n",
       "2   0.0    0.0                0.0           1.03   Empty Land    8000     E1\n",
       "3   0.0    0.0                0.0            NaN   Empty Land   24900     E1\n",
       "4   3.0    1.0             1725.0            NaN       Family  119900     E1"
      ]
     },
     "execution_count": 33,
     "metadata": {},
     "output_type": "execute_result"
    }
   ],
   "source": [
    "house_median = val['House Size (sqft)'].median(skipna=True)\n",
    "\n",
    "# no house size for empty land\n",
    "for index, typ in tqdm(val['Type'].items(),total=len(val['Type'])):\n",
    "    if np.isnan(val.loc[index,'House Size (sqft)']):\n",
    "        if typ == 'Empty Land':\n",
    "            val.loc[index,'House Size (sqft)'] = 0\n",
    "        else:\n",
    "            val.loc[index,'House Size (sqft)'] = house_median\n",
    "\n",
    "val.head(5)"
   ]
  },
  {
   "cell_type": "markdown",
   "metadata": {},
   "source": [
    "### 3.1.4 Lot Size"
   ]
  },
  {
   "cell_type": "code",
   "execution_count": 34,
   "metadata": {},
   "outputs": [
    {
     "data": {
      "text/plain": [
       "<matplotlib.axes._subplots.AxesSubplot at 0x1a1ba94590>"
      ]
     },
     "execution_count": 34,
     "metadata": {},
     "output_type": "execute_result"
    },
    {
     "data": {
      "image/png": "[encoded data removed]",
      "text/plain": [
       "<Figure size 432x288 with 1 Axes>"
      ]
     },
     "metadata": {
      "needs_background": "light"
     },
     "output_type": "display_data"
    }
   ],
   "source": [
    "train['Lot Size (ac)'].hist()"
   ]
  },
  {
   "cell_type": "code",
   "execution_count": 35,
   "metadata": {},
   "outputs": [
    {
     "data": {
      "text/plain": [
       "<matplotlib.axes._subplots.AxesSubplot at 0x1a1ba6b390>"
      ]
     },
     "execution_count": 35,
     "metadata": {},
     "output_type": "execute_result"
    },
    {
     "data": {
      "image/png": "[encoded data removed]",
      "text/plain": [
       "<Figure size 432x288 with 1 Axes>"
      ]
     },
     "metadata": {
      "needs_background": "light"
     },
     "output_type": "display_data"
    }
   ],
   "source": [
    "val['Lot Size (ac)'].hist()"
   ]
  },
  {
   "cell_type": "markdown",
   "metadata": {},
   "source": [
    "For lot size, the distributions are right-skewed. However, it might be better to distinguish between thouse with houses (residential and family) and empty land."
   ]
  },
  {
   "cell_type": "code",
   "execution_count": 36,
   "metadata": {},
   "outputs": [
    {
     "data": {
      "text/plain": [
       "<matplotlib.axes._subplots.AxesSubplot at 0x1a1bc7b150>"
      ]
     },
     "execution_count": 36,
     "metadata": {},
     "output_type": "execute_result"
    },
    {
     "data": {
      "image/png": "[encoded data removed]",
      "text/plain": [
       "<Figure size 432x288 with 1 Axes>"
      ]
     },
     "metadata": {
      "needs_background": "light"
     },
     "output_type": "display_data"
    }
   ],
   "source": [
    "train.loc[train['Type']!='Empty Land','Lot Size (ac)'].hist()"
   ]
  },
  {
   "cell_type": "code",
   "execution_count": 37,
   "metadata": {},
   "outputs": [
    {
     "data": {
      "text/plain": [
       "<matplotlib.axes._subplots.AxesSubplot at 0x1a1bd70810>"
      ]
     },
     "execution_count": 37,
     "metadata": {},
     "output_type": "execute_result"
    },
    {
     "data": {
      "image/png": "[encoded data removed]",
      "text/plain": [
       "<Figure size 432x288 with 1 Axes>"
      ]
     },
     "metadata": {
      "needs_background": "light"
     },
     "output_type": "display_data"
    }
   ],
   "source": [
    "train.loc[train['Type']=='Empty Land','Lot Size (ac)'].hist()"
   ]
  },
  {
   "cell_type": "markdown",
   "metadata": {},
   "source": [
    "It's pretty much the same behaviour. Now we check the null values."
   ]
  },
  {
   "cell_type": "code",
   "execution_count": 38,
   "metadata": {},
   "outputs": [
    {
     "name": "stdout",
     "output_type": "stream",
     "text": [
      "nonempty land:  286\n",
      "empty land:  80\n"
     ]
    }
   ],
   "source": [
    "# number of nulls on train\n",
    "print('nonempty land: ',train.loc[train['Type']!='Empty Land','Lot Size (ac)'].isnull().sum())\n",
    "print('empty land: ',train.loc[train['Type']=='Empty Land','Lot Size (ac)'].isnull().sum())\n"
   ]
  },
  {
   "cell_type": "code",
   "execution_count": 39,
   "metadata": {},
   "outputs": [
    {
     "name": "stdout",
     "output_type": "stream",
     "text": [
      "median nonempty land:  1.0\n",
      "median empty land:  2.2199999999999998\n"
     ]
    }
   ],
   "source": [
    "# check the medians\n",
    "print('median nonempty land: ',train.loc[train['Type']=='Residential','Lot Size (ac)'].median(skipna=True))\n",
    "print('median empty land: ',train.loc[train['Type']=='Empty Land','Lot Size (ac)'].median(skipna=True))"
   ]
  },
  {
   "cell_type": "code",
   "execution_count": 40,
   "metadata": {},
   "outputs": [
    {
     "data": {
      "application/vnd.jupyter.widget-view+json": {
       "model_id": "bdc6b33b44f045808d4f089f6df69bf5",
       "version_major": 2,
       "version_minor": 0
      },
      "text/plain": [
       "HBox(children=(FloatProgress(value=0.0, max=537.0), HTML(value='')))"
      ]
     },
     "metadata": {},
     "output_type": "display_data"
    },
    {
     "name": "stdout",
     "output_type": "stream",
     "text": [
      "\n"
     ]
    },
    {
     "data": {
      "text/html": [
       "<div>\n",
       "<style scoped>\n",
       "    .dataframe tbody tr th:only-of-type {\n",
       "        vertical-align: middle;\n",
       "    }\n",
       "\n",
       "    .dataframe tbody tr th {\n",
       "        vertical-align: top;\n",
       "    }\n",
       "\n",
       "    .dataframe thead th {\n",
       "        text-align: right;\n",
       "    }\n",
       "</style>\n",
       "<table border=\"1\" class=\"dataframe\">\n",
       "  <thead>\n",
       "    <tr style=\"text-align: right;\">\n",
       "      <th></th>\n",
       "      <th>Beds</th>\n",
       "      <th>Baths</th>\n",
       "      <th>House Size (sqft)</th>\n",
       "      <th>Lot Size (ac)</th>\n",
       "      <th>Type</th>\n",
       "      <th>Price</th>\n",
       "      <th>Postal</th>\n",
       "    </tr>\n",
       "  </thead>\n",
       "  <tbody>\n",
       "    <tr>\n",
       "      <th>0</th>\n",
       "      <td>4.0</td>\n",
       "      <td>2.0</td>\n",
       "      <td>1584.0</td>\n",
       "      <td>0.724</td>\n",
       "      <td>Family</td>\n",
       "      <td>169900</td>\n",
       "      <td>E2</td>\n",
       "    </tr>\n",
       "    <tr>\n",
       "      <th>1</th>\n",
       "      <td>4.0</td>\n",
       "      <td>2.0</td>\n",
       "      <td>1675.0</td>\n",
       "      <td>1.170</td>\n",
       "      <td>Residential</td>\n",
       "      <td>259000</td>\n",
       "      <td>E5</td>\n",
       "    </tr>\n",
       "    <tr>\n",
       "      <th>2</th>\n",
       "      <td>0.0</td>\n",
       "      <td>0.0</td>\n",
       "      <td>0.0</td>\n",
       "      <td>2.220</td>\n",
       "      <td>Empty Land</td>\n",
       "      <td>19000</td>\n",
       "      <td>E1</td>\n",
       "    </tr>\n",
       "    <tr>\n",
       "      <th>3</th>\n",
       "      <td>4.0</td>\n",
       "      <td>2.0</td>\n",
       "      <td>1780.0</td>\n",
       "      <td>0.134</td>\n",
       "      <td>Residential</td>\n",
       "      <td>104200</td>\n",
       "      <td>E1</td>\n",
       "    </tr>\n",
       "    <tr>\n",
       "      <th>4</th>\n",
       "      <td>4.0</td>\n",
       "      <td>3.0</td>\n",
       "      <td>1584.0</td>\n",
       "      <td>0.724</td>\n",
       "      <td>Residential</td>\n",
       "      <td>269000</td>\n",
       "      <td>E3</td>\n",
       "    </tr>\n",
       "  </tbody>\n",
       "</table>\n",
       "</div>"
      ],
      "text/plain": [
       "   Beds  Baths  House Size (sqft)  Lot Size (ac)         Type   Price Postal\n",
       "0   4.0    2.0             1584.0          0.724       Family  169900     E2\n",
       "1   4.0    2.0             1675.0          1.170  Residential  259000     E5\n",
       "2   0.0    0.0                0.0          2.220   Empty Land   19000     E1\n",
       "3   4.0    2.0             1780.0          0.134  Residential  104200     E1\n",
       "4   4.0    3.0             1584.0          0.724  Residential  269000     E3"
      ]
     },
     "execution_count": 40,
     "metadata": {},
     "output_type": "execute_result"
    }
   ],
   "source": [
    "# Okay, so we'll just impute with the medians for each type\n",
    "lot_nonempty = train.loc[train['Type']!='Empty Land','Lot Size (ac)'].median(skipna=True)\n",
    "lot_empty = train.loc[train['Type']=='Empty Land','Lot Size (ac)'].median(skipna=True)\n",
    "\n",
    "for index, typ in tqdm(train['Type'].items(),total=len(train['Type'])):\n",
    "    if np.isnan(train.loc[index,'Lot Size (ac)']):\n",
    "        if typ == 'Empty Land':\n",
    "            train.loc[index,'Lot Size (ac)'] = lot_empty\n",
    "        else:\n",
    "            train.loc[index,'Lot Size (ac)'] = lot_nonempty\n",
    "\n",
    "train.head(5)"
   ]
  },
  {
   "cell_type": "code",
   "execution_count": 41,
   "metadata": {},
   "outputs": [
    {
     "data": {
      "text/plain": [
       "<matplotlib.axes._subplots.AxesSubplot at 0x1a1be6d250>"
      ]
     },
     "execution_count": 41,
     "metadata": {},
     "output_type": "execute_result"
    },
    {
     "data": {
      "image/png": "[encoded data removed]",
      "text/plain": [
       "<Figure size 432x288 with 1 Axes>"
      ]
     },
     "metadata": {
      "needs_background": "light"
     },
     "output_type": "display_data"
    }
   ],
   "source": [
    "# Now, the validation set\n",
    "val.loc[val['Type']!='Empty Land','Lot Size (ac)'].hist()"
   ]
  },
  {
   "cell_type": "code",
   "execution_count": 42,
   "metadata": {},
   "outputs": [
    {
     "data": {
      "text/plain": [
       "<matplotlib.axes._subplots.AxesSubplot at 0x1a1bf76ad0>"
      ]
     },
     "execution_count": 42,
     "metadata": {},
     "output_type": "execute_result"
    },
    {
     "data": {
      "image/png": "[encoded data removed]",
      "text/plain": [
       "<Figure size 432x288 with 1 Axes>"
      ]
     },
     "metadata": {
      "needs_background": "light"
     },
     "output_type": "display_data"
    }
   ],
   "source": [
    "val.loc[val['Type']=='Empty Land','Lot Size (ac)'].hist()"
   ]
  },
  {
   "cell_type": "code",
   "execution_count": 43,
   "metadata": {},
   "outputs": [
    {
     "data": {
      "application/vnd.jupyter.widget-view+json": {
       "model_id": "fc2ab466d83f4720a16d081c9a432253",
       "version_major": 2,
       "version_minor": 0
      },
      "text/plain": [
       "HBox(children=(FloatProgress(value=0.0, max=95.0), HTML(value='')))"
      ]
     },
     "metadata": {},
     "output_type": "display_data"
    },
    {
     "name": "stdout",
     "output_type": "stream",
     "text": [
      "\n"
     ]
    },
    {
     "data": {
      "text/html": [
       "<div>\n",
       "<style scoped>\n",
       "    .dataframe tbody tr th:only-of-type {\n",
       "        vertical-align: middle;\n",
       "    }\n",
       "\n",
       "    .dataframe tbody tr th {\n",
       "        vertical-align: top;\n",
       "    }\n",
       "\n",
       "    .dataframe thead th {\n",
       "        text-align: right;\n",
       "    }\n",
       "</style>\n",
       "<table border=\"1\" class=\"dataframe\">\n",
       "  <thead>\n",
       "    <tr style=\"text-align: right;\">\n",
       "      <th></th>\n",
       "      <th>Beds</th>\n",
       "      <th>Baths</th>\n",
       "      <th>House Size (sqft)</th>\n",
       "      <th>Lot Size (ac)</th>\n",
       "      <th>Type</th>\n",
       "      <th>Price</th>\n",
       "      <th>Postal</th>\n",
       "    </tr>\n",
       "  </thead>\n",
       "  <tbody>\n",
       "    <tr>\n",
       "      <th>0</th>\n",
       "      <td>0.0</td>\n",
       "      <td>0.0</td>\n",
       "      <td>0.0</td>\n",
       "      <td>1.30</td>\n",
       "      <td>Empty Land</td>\n",
       "      <td>39900</td>\n",
       "      <td>E1</td>\n",
       "    </tr>\n",
       "    <tr>\n",
       "      <th>1</th>\n",
       "      <td>3.0</td>\n",
       "      <td>2.0</td>\n",
       "      <td>1519.0</td>\n",
       "      <td>10.00</td>\n",
       "      <td>Residential</td>\n",
       "      <td>70000</td>\n",
       "      <td>E1</td>\n",
       "    </tr>\n",
       "    <tr>\n",
       "      <th>2</th>\n",
       "      <td>0.0</td>\n",
       "      <td>0.0</td>\n",
       "      <td>0.0</td>\n",
       "      <td>1.03</td>\n",
       "      <td>Empty Land</td>\n",
       "      <td>8000</td>\n",
       "      <td>E1</td>\n",
       "    </tr>\n",
       "    <tr>\n",
       "      <th>3</th>\n",
       "      <td>0.0</td>\n",
       "      <td>0.0</td>\n",
       "      <td>0.0</td>\n",
       "      <td>1.30</td>\n",
       "      <td>Empty Land</td>\n",
       "      <td>24900</td>\n",
       "      <td>E1</td>\n",
       "    </tr>\n",
       "    <tr>\n",
       "      <th>4</th>\n",
       "      <td>3.0</td>\n",
       "      <td>1.0</td>\n",
       "      <td>1725.0</td>\n",
       "      <td>1.00</td>\n",
       "      <td>Family</td>\n",
       "      <td>119900</td>\n",
       "      <td>E1</td>\n",
       "    </tr>\n",
       "  </tbody>\n",
       "</table>\n",
       "</div>"
      ],
      "text/plain": [
       "   Beds  Baths  House Size (sqft)  Lot Size (ac)         Type   Price Postal\n",
       "0   0.0    0.0                0.0           1.30   Empty Land   39900     E1\n",
       "1   3.0    2.0             1519.0          10.00  Residential   70000     E1\n",
       "2   0.0    0.0                0.0           1.03   Empty Land    8000     E1\n",
       "3   0.0    0.0                0.0           1.30   Empty Land   24900     E1\n",
       "4   3.0    1.0             1725.0           1.00       Family  119900     E1"
      ]
     },
     "execution_count": 43,
     "metadata": {},
     "output_type": "execute_result"
    }
   ],
   "source": [
    "# since the distributions are right-skewed, we just impute with the medians once again\n",
    "# Okay, so we'll just impute with the medians for each type\n",
    "# Okay, so we'll just impute with the medians for each type\n",
    "lot_nonempty = val.loc[train['Type']!='Empty Land','Lot Size (ac)'].median(skipna=True)\n",
    "lot_empty = val.loc[train['Type']=='Empty Land','Lot Size (ac)'].median(skipna=True)\n",
    "\n",
    "for index, typ in tqdm(val['Type'].items(),total=len(val['Type'])):\n",
    "    if np.isnan(val.loc[index,'Lot Size (ac)']):\n",
    "        if typ == 'Empty Land':\n",
    "            val.loc[index,'Lot Size (ac)'] = lot_empty\n",
    "        else:\n",
    "            val.loc[index,'Lot Size (ac)'] = lot_nonempty\n",
    "\n",
    "val.head(5)"
   ]
  },
  {
   "cell_type": "code",
   "execution_count": 44,
   "metadata": {},
   "outputs": [],
   "source": [
    "# save cleaned datasets\n",
    "train.to_csv('train_cleaned.csv',index=False)\n",
    "val.to_csv('val_cleaned.csv',index=False)"
   ]
  },
  {
   "cell_type": "code",
   "execution_count": null,
   "metadata": {},
   "outputs": [],
   "source": []
  }
 ],
 "metadata": {
  "kernelspec": {
   "display_name": "Python 3",
   "language": "python",
   "name": "python3"
  },
  "language_info": {
   "codemirror_mode": {
    "name": "ipython",
    "version": 3
   },
   "file_extension": ".py",
   "mimetype": "text/x-python",
   "name": "python",
   "nbconvert_exporter": "python",
   "pygments_lexer": "ipython3",
   "version": "3.7.7"
  }
 },
 "nbformat": 4,
 "nbformat_minor": 4
}
