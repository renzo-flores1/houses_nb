{
 "cells": [
  {
   "cell_type": "markdown",
   "metadata": {},
   "source": [
    "# Houses and Empty Lots for Sale in New Brunswick (as of June 12, 2020)\n",
    "\n",
    "In this project, I scraped data from this [website](https://www.point2homes.com/CA/Real-Estate-Listings/NB.html) which lists houses and \n",
    "empty lots for sale. The selling price is listed along with the lot size. For houses, the number of bedrooms, bathrooms, the house size the house type are also given.\n",
    "\n",
    "## 1. Training and Validation Sets\n",
    "\n",
    "In order to implement any machine learning algorithms on the data, we must split the dataset into a training set and validation set. For this analysis, 85% of the data will be used for training, while 15% will be used for validation. "
   ]
  },
  {
   "cell_type": "code",
   "execution_count": 1,
   "metadata": {
    "scrolled": true
   },
   "outputs": [
    {
     "data": {
      "text/html": [
       "<div>\n",
       "<style scoped>\n",
       "    .dataframe tbody tr th:only-of-type {\n",
       "        vertical-align: middle;\n",
       "    }\n",
       "\n",
       "    .dataframe tbody tr th {\n",
       "        vertical-align: top;\n",
       "    }\n",
       "\n",
       "    .dataframe thead th {\n",
       "        text-align: right;\n",
       "    }\n",
       "</style>\n",
       "<table border=\"1\" class=\"dataframe\">\n",
       "  <thead>\n",
       "    <tr style=\"text-align: right;\">\n",
       "      <th></th>\n",
       "      <th>Address</th>\n",
       "      <th>Beds</th>\n",
       "      <th>Baths</th>\n",
       "      <th>House Size (sqft)</th>\n",
       "      <th>Lot Size (ac)</th>\n",
       "      <th>Type</th>\n",
       "      <th>Price</th>\n",
       "      <th>Postal Code</th>\n",
       "    </tr>\n",
       "  </thead>\n",
       "  <tbody>\n",
       "    <tr>\n",
       "      <th>0</th>\n",
       "      <td>10 Robin Dr, Fredericton, New Brunswick, E3C 1K6</td>\n",
       "      <td>5.0</td>\n",
       "      <td>2.0</td>\n",
       "      <td>1600.0</td>\n",
       "      <td>0.177</td>\n",
       "      <td>Residential</td>\n",
       "      <td>259900</td>\n",
       "      <td>E3C 1K6</td>\n",
       "    </tr>\n",
       "    <tr>\n",
       "      <th>1</th>\n",
       "      <td>03-2 Glebe Rd, Saint Andrews, New Brunswick</td>\n",
       "      <td>NaN</td>\n",
       "      <td>NaN</td>\n",
       "      <td>NaN</td>\n",
       "      <td>1.140</td>\n",
       "      <td>Residential</td>\n",
       "      <td>11400</td>\n",
       "      <td>E5B2Z5</td>\n",
       "    </tr>\n",
       "    <tr>\n",
       "      <th>2</th>\n",
       "      <td>62 Parkin Street, Salisbury, New Brunswick, E4...</td>\n",
       "      <td>3.0</td>\n",
       "      <td>2.0</td>\n",
       "      <td>3790.0</td>\n",
       "      <td>0.850</td>\n",
       "      <td>Residential</td>\n",
       "      <td>549900</td>\n",
       "      <td>E4J 2N3</td>\n",
       "    </tr>\n",
       "    <tr>\n",
       "      <th>3</th>\n",
       "      <td>14 Murray Lane, St. Andrews, New Brunswick</td>\n",
       "      <td>4.0</td>\n",
       "      <td>2.0</td>\n",
       "      <td>2200.0</td>\n",
       "      <td>1.150</td>\n",
       "      <td>Residential</td>\n",
       "      <td>449500</td>\n",
       "      <td>E3L4M6</td>\n",
       "    </tr>\n",
       "    <tr>\n",
       "      <th>4</th>\n",
       "      <td>140 Orleans St., Dieppe, New Brunswick, E1A 1W9</td>\n",
       "      <td>4.0</td>\n",
       "      <td>3.0</td>\n",
       "      <td>2808.0</td>\n",
       "      <td>0.124</td>\n",
       "      <td>Residential</td>\n",
       "      <td>236900</td>\n",
       "      <td>E1A 1W9</td>\n",
       "    </tr>\n",
       "  </tbody>\n",
       "</table>\n",
       "</div>"
      ],
      "text/plain": [
       "                                             Address  Beds  Baths  \\\n",
       "0   10 Robin Dr, Fredericton, New Brunswick, E3C 1K6   5.0    2.0   \n",
       "1        03-2 Glebe Rd, Saint Andrews, New Brunswick   NaN    NaN   \n",
       "2  62 Parkin Street, Salisbury, New Brunswick, E4...   3.0    2.0   \n",
       "3         14 Murray Lane, St. Andrews, New Brunswick   4.0    2.0   \n",
       "4    140 Orleans St., Dieppe, New Brunswick, E1A 1W9   4.0    3.0   \n",
       "\n",
       "   House Size (sqft)  Lot Size (ac)                             Type   Price  \\\n",
       "0             1600.0          0.177              Residential          259900   \n",
       "1                NaN          1.140              Residential           11400   \n",
       "2             3790.0          0.850              Residential          549900   \n",
       "3             2200.0          1.150              Residential          449500   \n",
       "4             2808.0          0.124              Residential          236900   \n",
       "\n",
       "  Postal Code  \n",
       "0     E3C 1K6  \n",
       "1      E5B2Z5  \n",
       "2     E4J 2N3  \n",
       "3      E3L4M6  \n",
       "4     E1A 1W9  "
      ]
     },
     "execution_count": 1,
     "metadata": {},
     "output_type": "execute_result"
    }
   ],
   "source": [
    "# load libraries\n",
    "import numpy as np\n",
    "import pandas as pd\n",
    "from sklearn.model_selection import train_test_split\n",
    "import re\n",
    "from tqdm.notebook import tqdm\n",
    "\n",
    "# load dataset\n",
    "df = pd.read_csv('houseprice_withpostalcodes.csv')\n",
    "\n",
    "# look at first 5 rows\n",
    "df.head(5)"
   ]
  },
  {
   "cell_type": "markdown",
   "metadata": {},
   "source": [
    "Believe it or not, the website lists duplicate addresses."
   ]
  },
  {
   "cell_type": "code",
   "execution_count": 2,
   "metadata": {},
   "outputs": [
    {
     "name": "stdout",
     "output_type": "stream",
     "text": [
      "Out of 720 addresses, 643 addresses are unique.\n"
     ]
    }
   ],
   "source": [
    "print('Out of', len(df.Address), 'addresses,', len(df.Address.unique()),'addresses are unique.')"
   ]
  },
  {
   "cell_type": "markdown",
   "metadata": {},
   "source": [
    "and so we remove these duplicates."
   ]
  },
  {
   "cell_type": "code",
   "execution_count": 3,
   "metadata": {
    "scrolled": true
   },
   "outputs": [
    {
     "data": {
      "text/html": [
       "<div>\n",
       "<style scoped>\n",
       "    .dataframe tbody tr th:only-of-type {\n",
       "        vertical-align: middle;\n",
       "    }\n",
       "\n",
       "    .dataframe tbody tr th {\n",
       "        vertical-align: top;\n",
       "    }\n",
       "\n",
       "    .dataframe thead th {\n",
       "        text-align: right;\n",
       "    }\n",
       "</style>\n",
       "<table border=\"1\" class=\"dataframe\">\n",
       "  <thead>\n",
       "    <tr style=\"text-align: right;\">\n",
       "      <th></th>\n",
       "      <th>Address</th>\n",
       "      <th>Beds</th>\n",
       "      <th>Baths</th>\n",
       "      <th>House Size (sqft)</th>\n",
       "      <th>Lot Size (ac)</th>\n",
       "      <th>Type</th>\n",
       "      <th>Price</th>\n",
       "      <th>Postal Code</th>\n",
       "    </tr>\n",
       "  </thead>\n",
       "  <tbody>\n",
       "    <tr>\n",
       "      <th>0</th>\n",
       "      <td>10 Robin Dr, Fredericton, New Brunswick, E3C 1K6</td>\n",
       "      <td>5.0</td>\n",
       "      <td>2.0</td>\n",
       "      <td>1600.0</td>\n",
       "      <td>0.177</td>\n",
       "      <td>Residential</td>\n",
       "      <td>259900</td>\n",
       "      <td>E3C 1K6</td>\n",
       "    </tr>\n",
       "    <tr>\n",
       "      <th>1</th>\n",
       "      <td>03-2 Glebe Rd, Saint Andrews, New Brunswick</td>\n",
       "      <td>NaN</td>\n",
       "      <td>NaN</td>\n",
       "      <td>NaN</td>\n",
       "      <td>1.140</td>\n",
       "      <td>Residential</td>\n",
       "      <td>11400</td>\n",
       "      <td>E5B2Z5</td>\n",
       "    </tr>\n",
       "    <tr>\n",
       "      <th>2</th>\n",
       "      <td>62 Parkin Street, Salisbury, New Brunswick, E4...</td>\n",
       "      <td>3.0</td>\n",
       "      <td>2.0</td>\n",
       "      <td>3790.0</td>\n",
       "      <td>0.850</td>\n",
       "      <td>Residential</td>\n",
       "      <td>549900</td>\n",
       "      <td>E4J 2N3</td>\n",
       "    </tr>\n",
       "    <tr>\n",
       "      <th>3</th>\n",
       "      <td>14 Murray Lane, St. Andrews, New Brunswick</td>\n",
       "      <td>4.0</td>\n",
       "      <td>2.0</td>\n",
       "      <td>2200.0</td>\n",
       "      <td>1.150</td>\n",
       "      <td>Residential</td>\n",
       "      <td>449500</td>\n",
       "      <td>E3L4M6</td>\n",
       "    </tr>\n",
       "    <tr>\n",
       "      <th>4</th>\n",
       "      <td>140 Orleans St., Dieppe, New Brunswick, E1A 1W9</td>\n",
       "      <td>4.0</td>\n",
       "      <td>3.0</td>\n",
       "      <td>2808.0</td>\n",
       "      <td>0.124</td>\n",
       "      <td>Residential</td>\n",
       "      <td>236900</td>\n",
       "      <td>E1A 1W9</td>\n",
       "    </tr>\n",
       "  </tbody>\n",
       "</table>\n",
       "</div>"
      ],
      "text/plain": [
       "                                             Address  Beds  Baths  \\\n",
       "0   10 Robin Dr, Fredericton, New Brunswick, E3C 1K6   5.0    2.0   \n",
       "1        03-2 Glebe Rd, Saint Andrews, New Brunswick   NaN    NaN   \n",
       "2  62 Parkin Street, Salisbury, New Brunswick, E4...   3.0    2.0   \n",
       "3         14 Murray Lane, St. Andrews, New Brunswick   4.0    2.0   \n",
       "4    140 Orleans St., Dieppe, New Brunswick, E1A 1W9   4.0    3.0   \n",
       "\n",
       "   House Size (sqft)  Lot Size (ac)                             Type   Price  \\\n",
       "0             1600.0          0.177              Residential          259900   \n",
       "1                NaN          1.140              Residential           11400   \n",
       "2             3790.0          0.850              Residential          549900   \n",
       "3             2200.0          1.150              Residential          449500   \n",
       "4             2808.0          0.124              Residential          236900   \n",
       "\n",
       "  Postal Code  \n",
       "0     E3C 1K6  \n",
       "1      E5B2Z5  \n",
       "2     E4J 2N3  \n",
       "3      E3L4M6  \n",
       "4     E1A 1W9  "
      ]
     },
     "execution_count": 3,
     "metadata": {},
     "output_type": "execute_result"
    }
   ],
   "source": [
    "df.drop_duplicates(subset='Address',keep='first',inplace=True,ignore_index=True)\n",
    "\n",
    "df.head(5)"
   ]
  },
  {
   "cell_type": "code",
   "execution_count": 4,
   "metadata": {},
   "outputs": [
    {
     "data": {
      "text/plain": [
       "643"
      ]
     },
     "execution_count": 4,
     "metadata": {},
     "output_type": "execute_result"
    }
   ],
   "source": [
    "# check new length\n",
    "len(df['Address'])"
   ]
  },
  {
   "cell_type": "markdown",
   "metadata": {},
   "source": [
    "Before we split the data, we have to check first if there is a class imbalance on the type of house (or land)."
   ]
  },
  {
   "cell_type": "code",
   "execution_count": 5,
   "metadata": {},
   "outputs": [
    {
     "data": {
      "text/plain": [
       "array(['            Residential        ',\n",
       "       '            Single Family        ',\n",
       "       '            Vacant Land        ',\n",
       "       '            Multi-family        ',\n",
       "       '            Lots and Land        ',\n",
       "       '            Lots And Land        ', '            Other        ',\n",
       "       '            MultiFamily        ',\n",
       "       '            Condominium        ',\n",
       "       '            Farm And Agriculture        '], dtype=object)"
      ]
     },
     "execution_count": 5,
     "metadata": {},
     "output_type": "execute_result"
    }
   ],
   "source": [
    "# load data visualization library\n",
    "from plotnine import *\n",
    "\n",
    "# check unique values for type\n",
    "df['Type'].unique()"
   ]
  },
  {
   "cell_type": "markdown",
   "metadata": {},
   "source": [
    "Multi-family and MultiFamily are essentially the same. There are also two entries of Lots And Land. We can easily fix this."
   ]
  },
  {
   "cell_type": "code",
   "execution_count": 6,
   "metadata": {},
   "outputs": [
    {
     "data": {
      "application/vnd.jupyter.widget-view+json": {
       "model_id": "868ba34f45e648b7959d97e48b48c1aa",
       "version_major": 2,
       "version_minor": 0
      },
      "text/plain": [
       "HBox(children=(FloatProgress(value=0.0, max=643.0), HTML(value='')))"
      ]
     },
     "metadata": {},
     "output_type": "display_data"
    },
    {
     "name": "stdout",
     "output_type": "stream",
     "text": [
      "\n"
     ]
    },
    {
     "data": {
      "text/html": [
       "<div>\n",
       "<style scoped>\n",
       "    .dataframe tbody tr th:only-of-type {\n",
       "        vertical-align: middle;\n",
       "    }\n",
       "\n",
       "    .dataframe tbody tr th {\n",
       "        vertical-align: top;\n",
       "    }\n",
       "\n",
       "    .dataframe thead th {\n",
       "        text-align: right;\n",
       "    }\n",
       "</style>\n",
       "<table border=\"1\" class=\"dataframe\">\n",
       "  <thead>\n",
       "    <tr style=\"text-align: right;\">\n",
       "      <th></th>\n",
       "      <th>Address</th>\n",
       "      <th>Beds</th>\n",
       "      <th>Baths</th>\n",
       "      <th>House Size (sqft)</th>\n",
       "      <th>Lot Size (ac)</th>\n",
       "      <th>Type</th>\n",
       "      <th>Price</th>\n",
       "      <th>Postal Code</th>\n",
       "    </tr>\n",
       "  </thead>\n",
       "  <tbody>\n",
       "    <tr>\n",
       "      <th>0</th>\n",
       "      <td>10 Robin Dr, Fredericton, New Brunswick, E3C 1K6</td>\n",
       "      <td>5.0</td>\n",
       "      <td>2.0</td>\n",
       "      <td>1600.0</td>\n",
       "      <td>0.177</td>\n",
       "      <td>Residential</td>\n",
       "      <td>259900</td>\n",
       "      <td>E3C 1K6</td>\n",
       "    </tr>\n",
       "    <tr>\n",
       "      <th>1</th>\n",
       "      <td>03-2 Glebe Rd, Saint Andrews, New Brunswick</td>\n",
       "      <td>NaN</td>\n",
       "      <td>NaN</td>\n",
       "      <td>NaN</td>\n",
       "      <td>1.140</td>\n",
       "      <td>Residential</td>\n",
       "      <td>11400</td>\n",
       "      <td>E5B2Z5</td>\n",
       "    </tr>\n",
       "    <tr>\n",
       "      <th>2</th>\n",
       "      <td>62 Parkin Street, Salisbury, New Brunswick, E4...</td>\n",
       "      <td>3.0</td>\n",
       "      <td>2.0</td>\n",
       "      <td>3790.0</td>\n",
       "      <td>0.850</td>\n",
       "      <td>Residential</td>\n",
       "      <td>549900</td>\n",
       "      <td>E4J 2N3</td>\n",
       "    </tr>\n",
       "    <tr>\n",
       "      <th>3</th>\n",
       "      <td>14 Murray Lane, St. Andrews, New Brunswick</td>\n",
       "      <td>4.0</td>\n",
       "      <td>2.0</td>\n",
       "      <td>2200.0</td>\n",
       "      <td>1.150</td>\n",
       "      <td>Residential</td>\n",
       "      <td>449500</td>\n",
       "      <td>E3L4M6</td>\n",
       "    </tr>\n",
       "    <tr>\n",
       "      <th>4</th>\n",
       "      <td>140 Orleans St., Dieppe, New Brunswick, E1A 1W9</td>\n",
       "      <td>4.0</td>\n",
       "      <td>3.0</td>\n",
       "      <td>2808.0</td>\n",
       "      <td>0.124</td>\n",
       "      <td>Residential</td>\n",
       "      <td>236900</td>\n",
       "      <td>E1A 1W9</td>\n",
       "    </tr>\n",
       "  </tbody>\n",
       "</table>\n",
       "</div>"
      ],
      "text/plain": [
       "                                             Address  Beds  Baths  \\\n",
       "0   10 Robin Dr, Fredericton, New Brunswick, E3C 1K6   5.0    2.0   \n",
       "1        03-2 Glebe Rd, Saint Andrews, New Brunswick   NaN    NaN   \n",
       "2  62 Parkin Street, Salisbury, New Brunswick, E4...   3.0    2.0   \n",
       "3         14 Murray Lane, St. Andrews, New Brunswick   4.0    2.0   \n",
       "4    140 Orleans St., Dieppe, New Brunswick, E1A 1W9   4.0    3.0   \n",
       "\n",
       "   House Size (sqft)  Lot Size (ac)         Type   Price Postal Code  \n",
       "0             1600.0          0.177  Residential  259900     E3C 1K6  \n",
       "1                NaN          1.140  Residential   11400      E5B2Z5  \n",
       "2             3790.0          0.850  Residential  549900     E4J 2N3  \n",
       "3             2200.0          1.150  Residential  449500      E3L4M6  \n",
       "4             2808.0          0.124  Residential  236900     E1A 1W9  "
      ]
     },
     "execution_count": 6,
     "metadata": {},
     "output_type": "execute_result"
    }
   ],
   "source": [
    "for index, typ in tqdm(df['Type'].items(), total=len(df['Type'])):\n",
    "    typ = re.search('[A-Z].*[a-z]',typ)\n",
    "    typ = typ.group(0)\n",
    "    \n",
    "    if typ == 'Multi-family' or typ == 'MultiFamily':\n",
    "        df.loc[index,'Type'] = 'Multifamily'\n",
    "    elif typ == 'Lots And Land' or typ == 'Lots and Land':\n",
    "        df.loc[index,'Type'] = 'Lots And Land'\n",
    "    else:\n",
    "        df.loc[index,'Type'] = typ\n",
    "\n",
    "df.head(5)"
   ]
  },
  {
   "cell_type": "code",
   "execution_count": 7,
   "metadata": {},
   "outputs": [
    {
     "data": {
      "text/plain": [
       "Single Family           246\n",
       "Residential             210\n",
       "Lots And Land           107\n",
       "Vacant Land              51\n",
       "Multifamily              18\n",
       "Other                     6\n",
       "Condominium               3\n",
       "Farm And Agriculture      2\n",
       "Name: Type, dtype: int64"
      ]
     },
     "execution_count": 7,
     "metadata": {},
     "output_type": "execute_result"
    }
   ],
   "source": [
    "# check counts of df['Type']\n",
    "type_counts = df['Type'].value_counts()\n",
    "type_counts"
   ]
  },
  {
   "cell_type": "markdown",
   "metadata": {},
   "source": [
    "There are certainly class imbalances. Only two farm and agriculture lands and 277 single family homes. We need to sample the validation accordingly to represent the same proportions in both the training and validation sets. We may as well combine **Lots And Land** and **Vacant Land** into Empty Land, and combine **Multifamily** with **Single Family** to produce **Family**, and since there are only a few instances of **Other**, **Condominium** and **Farm and Agriculture** types, we'll just omit them."
   ]
  },
  {
   "cell_type": "code",
   "execution_count": 8,
   "metadata": {},
   "outputs": [
    {
     "data": {
      "text/plain": [
       "array(['Residential', 'Single Family', 'Vacant Land', 'Multifamily',\n",
       "       'Lots And Land'], dtype=object)"
      ]
     },
     "execution_count": 8,
     "metadata": {},
     "output_type": "execute_result"
    }
   ],
   "source": [
    "df = df[(df.Type != 'Condominium') & (df.Type != 'Farm And Agriculture') & (df.Type != 'Other')]\n",
    "df.Type.unique()"
   ]
  },
  {
   "cell_type": "code",
   "execution_count": 9,
   "metadata": {},
   "outputs": [
    {
     "data": {
      "text/plain": [
       "632"
      ]
     },
     "execution_count": 9,
     "metadata": {},
     "output_type": "execute_result"
    }
   ],
   "source": [
    "# check new length\n",
    "len(df['Type'])"
   ]
  },
  {
   "cell_type": "code",
   "execution_count": 11,
   "metadata": {},
   "outputs": [
    {
     "data": {
      "application/vnd.jupyter.widget-view+json": {
       "model_id": "8803a541b1cf486fa8df9a68ede2ec18",
       "version_major": 2,
       "version_minor": 0
      },
      "text/plain": [
       "HBox(children=(FloatProgress(value=0.0, max=632.0), HTML(value='')))"
      ]
     },
     "metadata": {},
     "output_type": "display_data"
    },
    {
     "name": "stdout",
     "output_type": "stream",
     "text": [
      "\n"
     ]
    },
    {
     "data": {
      "text/html": [
       "<div>\n",
       "<style scoped>\n",
       "    .dataframe tbody tr th:only-of-type {\n",
       "        vertical-align: middle;\n",
       "    }\n",
       "\n",
       "    .dataframe tbody tr th {\n",
       "        vertical-align: top;\n",
       "    }\n",
       "\n",
       "    .dataframe thead th {\n",
       "        text-align: right;\n",
       "    }\n",
       "</style>\n",
       "<table border=\"1\" class=\"dataframe\">\n",
       "  <thead>\n",
       "    <tr style=\"text-align: right;\">\n",
       "      <th></th>\n",
       "      <th>Address</th>\n",
       "      <th>Beds</th>\n",
       "      <th>Baths</th>\n",
       "      <th>House Size (sqft)</th>\n",
       "      <th>Lot Size (ac)</th>\n",
       "      <th>Type</th>\n",
       "      <th>Price</th>\n",
       "      <th>Postal Code</th>\n",
       "    </tr>\n",
       "  </thead>\n",
       "  <tbody>\n",
       "    <tr>\n",
       "      <th>0</th>\n",
       "      <td>10 Robin Dr, Fredericton, New Brunswick, E3C 1K6</td>\n",
       "      <td>5.0</td>\n",
       "      <td>2.0</td>\n",
       "      <td>1600.0</td>\n",
       "      <td>0.177</td>\n",
       "      <td>Residential</td>\n",
       "      <td>259900</td>\n",
       "      <td>E3C 1K6</td>\n",
       "    </tr>\n",
       "    <tr>\n",
       "      <th>1</th>\n",
       "      <td>03-2 Glebe Rd, Saint Andrews, New Brunswick</td>\n",
       "      <td>NaN</td>\n",
       "      <td>NaN</td>\n",
       "      <td>NaN</td>\n",
       "      <td>1.140</td>\n",
       "      <td>Residential</td>\n",
       "      <td>11400</td>\n",
       "      <td>E5B2Z5</td>\n",
       "    </tr>\n",
       "    <tr>\n",
       "      <th>2</th>\n",
       "      <td>62 Parkin Street, Salisbury, New Brunswick, E4...</td>\n",
       "      <td>3.0</td>\n",
       "      <td>2.0</td>\n",
       "      <td>3790.0</td>\n",
       "      <td>0.850</td>\n",
       "      <td>Residential</td>\n",
       "      <td>549900</td>\n",
       "      <td>E4J 2N3</td>\n",
       "    </tr>\n",
       "    <tr>\n",
       "      <th>3</th>\n",
       "      <td>14 Murray Lane, St. Andrews, New Brunswick</td>\n",
       "      <td>4.0</td>\n",
       "      <td>2.0</td>\n",
       "      <td>2200.0</td>\n",
       "      <td>1.150</td>\n",
       "      <td>Residential</td>\n",
       "      <td>449500</td>\n",
       "      <td>E3L4M6</td>\n",
       "    </tr>\n",
       "    <tr>\n",
       "      <th>4</th>\n",
       "      <td>140 Orleans St., Dieppe, New Brunswick, E1A 1W9</td>\n",
       "      <td>4.0</td>\n",
       "      <td>3.0</td>\n",
       "      <td>2808.0</td>\n",
       "      <td>0.124</td>\n",
       "      <td>Residential</td>\n",
       "      <td>236900</td>\n",
       "      <td>E1A 1W9</td>\n",
       "    </tr>\n",
       "  </tbody>\n",
       "</table>\n",
       "</div>"
      ],
      "text/plain": [
       "                                             Address  Beds  Baths  \\\n",
       "0   10 Robin Dr, Fredericton, New Brunswick, E3C 1K6   5.0    2.0   \n",
       "1        03-2 Glebe Rd, Saint Andrews, New Brunswick   NaN    NaN   \n",
       "2  62 Parkin Street, Salisbury, New Brunswick, E4...   3.0    2.0   \n",
       "3         14 Murray Lane, St. Andrews, New Brunswick   4.0    2.0   \n",
       "4    140 Orleans St., Dieppe, New Brunswick, E1A 1W9   4.0    3.0   \n",
       "\n",
       "   House Size (sqft)  Lot Size (ac)         Type   Price Postal Code  \n",
       "0             1600.0          0.177  Residential  259900     E3C 1K6  \n",
       "1                NaN          1.140  Residential   11400      E5B2Z5  \n",
       "2             3790.0          0.850  Residential  549900     E4J 2N3  \n",
       "3             2200.0          1.150  Residential  449500      E3L4M6  \n",
       "4             2808.0          0.124  Residential  236900     E1A 1W9  "
      ]
     },
     "execution_count": 11,
     "metadata": {},
     "output_type": "execute_result"
    }
   ],
   "source": [
    "for index, typ in tqdm(df['Type'].items(), total=len(df['Type'])):\n",
    "    if typ == 'Multifamily' or typ == 'Single Family':\n",
    "        df.loc[index,'Type'] = 'Family'\n",
    "    elif typ == 'Lots And Land' or typ == 'Vacant Land':\n",
    "        df.loc[index,'Type'] = 'Empty Land'\n",
    "\n",
    "df.head(5)"
   ]
  },
  {
   "cell_type": "code",
   "execution_count": 14,
   "metadata": {
    "scrolled": true
   },
   "outputs": [
    {
     "data": {
      "text/html": [
       "<div>\n",
       "<style scoped>\n",
       "    .dataframe tbody tr th:only-of-type {\n",
       "        vertical-align: middle;\n",
       "    }\n",
       "\n",
       "    .dataframe tbody tr th {\n",
       "        vertical-align: top;\n",
       "    }\n",
       "\n",
       "    .dataframe thead th {\n",
       "        text-align: right;\n",
       "    }\n",
       "</style>\n",
       "<table border=\"1\" class=\"dataframe\">\n",
       "  <thead>\n",
       "    <tr style=\"text-align: right;\">\n",
       "      <th></th>\n",
       "      <th>Address</th>\n",
       "      <th>Beds</th>\n",
       "      <th>Baths</th>\n",
       "      <th>House Size (sqft)</th>\n",
       "      <th>Lot Size (ac)</th>\n",
       "      <th>Type</th>\n",
       "      <th>Postal Code</th>\n",
       "    </tr>\n",
       "  </thead>\n",
       "  <tbody>\n",
       "    <tr>\n",
       "      <th>280</th>\n",
       "      <td>254 Ledge Road, Crocker Hill, New Brunswick</td>\n",
       "      <td>3.0</td>\n",
       "      <td>2.0</td>\n",
       "      <td>NaN</td>\n",
       "      <td>NaN</td>\n",
       "      <td>Residential</td>\n",
       "      <td>E3L3Z3</td>\n",
       "    </tr>\n",
       "    <tr>\n",
       "      <th>84</th>\n",
       "      <td>53 Evergreen Street, Fredericton, New Brunswic...</td>\n",
       "      <td>3.0</td>\n",
       "      <td>2.0</td>\n",
       "      <td>1152.0</td>\n",
       "      <td>NaN</td>\n",
       "      <td>Single Family</td>\n",
       "      <td>E3B6N1</td>\n",
       "    </tr>\n",
       "    <tr>\n",
       "      <th>326</th>\n",
       "      <td>126 King Street, Saint Andrews, New Brunswick</td>\n",
       "      <td>5.0</td>\n",
       "      <td>3.0</td>\n",
       "      <td>3242.0</td>\n",
       "      <td>NaN</td>\n",
       "      <td>Residential</td>\n",
       "      <td>E5B1Y6</td>\n",
       "    </tr>\n",
       "    <tr>\n",
       "      <th>109</th>\n",
       "      <td>178 C K Justason Lane, Pennfield, New Brunswick</td>\n",
       "      <td>3.0</td>\n",
       "      <td>3.0</td>\n",
       "      <td>NaN</td>\n",
       "      <td>NaN</td>\n",
       "      <td>Residential</td>\n",
       "      <td>E5H1S2</td>\n",
       "    </tr>\n",
       "    <tr>\n",
       "      <th>365</th>\n",
       "      <td>124 Chamcook Lake #1 Road, Chamcook, New Bruns...</td>\n",
       "      <td>NaN</td>\n",
       "      <td>NaN</td>\n",
       "      <td>NaN</td>\n",
       "      <td>NaN</td>\n",
       "      <td>Lots And Land</td>\n",
       "      <td>E5B3C3</td>\n",
       "    </tr>\n",
       "  </tbody>\n",
       "</table>\n",
       "</div>"
      ],
      "text/plain": [
       "                                               Address  Beds  Baths  \\\n",
       "280        254 Ledge Road, Crocker Hill, New Brunswick   3.0    2.0   \n",
       "84   53 Evergreen Street, Fredericton, New Brunswic...   3.0    2.0   \n",
       "326      126 King Street, Saint Andrews, New Brunswick   5.0    3.0   \n",
       "109    178 C K Justason Lane, Pennfield, New Brunswick   3.0    3.0   \n",
       "365  124 Chamcook Lake #1 Road, Chamcook, New Bruns...   NaN    NaN   \n",
       "\n",
       "     House Size (sqft)  Lot Size (ac)           Type Postal Code  \n",
       "280                NaN            NaN    Residential      E3L3Z3  \n",
       "84              1152.0            NaN  Single Family      E3B6N1  \n",
       "326             3242.0            NaN    Residential      E5B1Y6  \n",
       "109                NaN            NaN    Residential      E5H1S2  \n",
       "365                NaN            NaN  Lots And Land      E5B3C3  "
      ]
     },
     "execution_count": 14,
     "metadata": {},
     "output_type": "execute_result"
    }
   ],
   "source": [
    "# we sample the dataset with the weights representing type_counts\n",
    "y = df['Price']\n",
    "X = df.drop('Price',axis=1)\n",
    "\n",
    "X_train, X_val, y_train, y_val = train_test_split(X, y, test_size = 0.15, stratify = X['Type'].values)\n",
    "\n",
    "X_train.head(5)"
   ]
  },
  {
   "cell_type": "code",
   "execution_count": 29,
   "metadata": {},
   "outputs": [],
   "source": [
    "# combine predictors and response\n",
    "train = pd.concat([X_train, y_train.to_frame()], axis=1)\n",
    "val = pd.concat([X_val, y_val.to_frame()], axis=1)\n",
    "\n",
    "train.reset_index(drop=True,inplace=True)\n",
    "val.reset_index(drop=True,inplace=True)\n",
    "\n",
    "train.head(5)\n",
    "\n",
    "# save training and validation to csv\n",
    "train.to_csv('train.csv',index=False)\n",
    "val.to_csv('val.csv',index=False)"
   ]
  },
  {
   "cell_type": "markdown",
   "metadata": {},
   "source": [
    "It would not make sense if both bedrooms and bathrooms contribute individually to the selling price. We can just make a column called **Rooms** which is simply the sum of the number of the bedrooms and bathrooms."
   ]
  },
  {
   "cell_type": "code",
   "execution_count": null,
   "metadata": {},
   "outputs": [],
   "source": [
    "df['Rooms'] = df['Beds'] + df['Baths']\n",
    "df.head(5)"
   ]
  },
  {
   "cell_type": "markdown",
   "metadata": {},
   "source": [
    "Now we check the type of house (or land)."
   ]
  },
  {
   "cell_type": "code",
   "execution_count": null,
   "metadata": {},
   "outputs": [],
   "source": [
    "df['Type'].unique()"
   ]
  },
  {
   "cell_type": "markdown",
   "metadata": {},
   "source": [
    "Multi-family and MultiFamily are essentially the same. There are also two entries of Lots And Land. We can easily fix this."
   ]
  },
  {
   "cell_type": "code",
   "execution_count": null,
   "metadata": {},
   "outputs": [],
   "source": [
    "import re\n",
    "from tqdm.notebook import tqdm\n",
    "\n",
    "for index, typ in tqdm(df['Type'].items(), total=len(df['Type'])):\n",
    "    typ = re.search('[A-Z].*[a-z]',typ)\n",
    "    typ = typ.group(0)\n",
    "    \n",
    "    if typ == 'Multi-family' or typ == 'MultiFamily':\n",
    "        df['Type'][index] = 'Multifamily'\n",
    "    else:\n",
    "        df['Type'][index] = typ\n",
    "\n",
    "df.head(5)"
   ]
  },
  {
   "cell_type": "code",
   "execution_count": null,
   "metadata": {},
   "outputs": [],
   "source": [
    "# Drop beds, baths and address\n",
    "df.drop(['Address','Beds','Baths'],axis=1,inplace=True)\n",
    "df.head(5)"
   ]
  },
  {
   "cell_type": "markdown",
   "metadata": {},
   "source": [
    "We now check null values."
   ]
  },
  {
   "cell_type": "code",
   "execution_count": null,
   "metadata": {},
   "outputs": [],
   "source": [
    "for column in df.columns:\n",
    "    print(column,' has', df[column].isna().sum(), ' null values.')"
   ]
  },
  {
   "cell_type": "markdown",
   "metadata": {},
   "source": [
    "Typically if rooms is nan, then it is usually a piece of land so we just let the rooms be zero."
   ]
  },
  {
   "cell_type": "code",
   "execution_count": null,
   "metadata": {},
   "outputs": [],
   "source": [
    "df['Rooms'].fillna(0, inplace=True)\n",
    "df.head(5)"
   ]
  },
  {
   "cell_type": "markdown",
   "metadata": {},
   "source": [
    "As for the house size and lot size, we can solve the null values if we could use the lot size instead. If there is no data on the lot size, we can use the house size, if there is any."
   ]
  },
  {
   "cell_type": "code",
   "execution_count": null,
   "metadata": {},
   "outputs": [],
   "source": [
    "# just make a column called size. It is lot size if lot size is present. Otherwise it is house size.\n",
    "df['Size'] = np.nan\n",
    "\n",
    "for ind in tqdm(range(len(df['Lot Size (ac)']))):\n",
    "    if ~np.isnan(df.iloc[ind,1]):\n",
    "        df.iloc[ind,6] = df.iloc[ind,1]\n",
    "    elif np.isnan(df.iloc[ind,1]) and ~np.isnan(df.iloc[ind,0]):\n",
    "        # convert sqft to ac\n",
    "        acre = df.iloc[ind,0]*2.29*10**(-5)\n",
    "        df.iloc[ind,6] = acre\n",
    "\n",
    "df.head(5)"
   ]
  },
  {
   "cell_type": "code",
   "execution_count": null,
   "metadata": {},
   "outputs": [],
   "source": [
    "# Now we check the null values for size\n",
    "print('Size has', df['Size'].isna().sum(), ' null values.')"
   ]
  },
  {
   "cell_type": "markdown",
   "metadata": {},
   "source": [
    "265 is not bad, compared to 371 and 496 earlier. Perhaps the best thing to do right now is to impute the size with the mean of its **corresponding house type**."
   ]
  },
  {
   "cell_type": "code",
   "execution_count": null,
   "metadata": {},
   "outputs": [],
   "source": [
    "for index, size in tqdm(df['Size'].items(), total=len(df['Size'])):\n",
    "    if np.isnan(size):\n",
    "        typ = df.iloc[index,2]\n",
    "        df.iloc[index,6] = df.groupby('Type')['Size'].mean()[typ]\n",
    "\n",
    "df.head(20)"
   ]
  },
  {
   "cell_type": "code",
   "execution_count": null,
   "metadata": {},
   "outputs": [],
   "source": []
  }
 ],
 "metadata": {
  "kernelspec": {
   "display_name": "Python 3",
   "language": "python",
   "name": "python3"
  },
  "language_info": {
   "codemirror_mode": {
    "name": "ipython",
    "version": 3
   },
   "file_extension": ".py",
   "mimetype": "text/x-python",
   "name": "python",
   "nbconvert_exporter": "python",
   "pygments_lexer": "ipython3",
   "version": "3.7.7"
  }
 },
 "nbformat": 4,
 "nbformat_minor": 4
}
