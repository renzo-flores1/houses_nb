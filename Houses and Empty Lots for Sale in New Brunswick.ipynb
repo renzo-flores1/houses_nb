{
 "cells": [
  {
   "cell_type": "markdown",
   "metadata": {},
   "source": [
    "# Houses and Empty Lots for Sale in New Brunswick (as of June 12, 2020)\n",
    "\n",
    "In this project, I scraped data from this [website](https://www.point2homes.com/CA/Real-Estate-Listings/NB.html) which lists houses and \n",
    "empty lots for sale. The selling price is listed along with the lot size. For houses, the number of bedrooms, bathrooms, the house size the house type are also given.\n",
    "\n",
    "## Exploratory Data Analysis\n",
    "\n"
   ]
  },
  {
   "cell_type": "code",
   "execution_count": 1,
   "metadata": {},
   "outputs": [
    {
     "data": {
      "text/html": [
       "<div>\n",
       "<style scoped>\n",
       "    .dataframe tbody tr th:only-of-type {\n",
       "        vertical-align: middle;\n",
       "    }\n",
       "\n",
       "    .dataframe tbody tr th {\n",
       "        vertical-align: top;\n",
       "    }\n",
       "\n",
       "    .dataframe thead th {\n",
       "        text-align: right;\n",
       "    }\n",
       "</style>\n",
       "<table border=\"1\" class=\"dataframe\">\n",
       "  <thead>\n",
       "    <tr style=\"text-align: right;\">\n",
       "      <th></th>\n",
       "      <th>Address</th>\n",
       "      <th>Beds</th>\n",
       "      <th>Baths</th>\n",
       "      <th>House Size</th>\n",
       "      <th>Lot Size</th>\n",
       "      <th>Type</th>\n",
       "      <th>Price</th>\n",
       "    </tr>\n",
       "  </thead>\n",
       "  <tbody>\n",
       "    <tr>\n",
       "      <th>0</th>\n",
       "      <td>10 Robin Dr, Fredericton, New Brunswick, E3C 1K6</td>\n",
       "      <td>5.0</td>\n",
       "      <td>2.0</td>\n",
       "      <td>1600.0</td>\n",
       "      <td>0.177</td>\n",
       "      <td>\\r\\n            Residential\\r\\n</td>\n",
       "      <td>259900</td>\n",
       "    </tr>\n",
       "    <tr>\n",
       "      <th>1</th>\n",
       "      <td>03-2 Glebe Rd, Saint Andrews, New Brunswick</td>\n",
       "      <td>NaN</td>\n",
       "      <td>NaN</td>\n",
       "      <td>NaN</td>\n",
       "      <td>1.140</td>\n",
       "      <td>\\r\\n            Residential\\r\\n</td>\n",
       "      <td>11400</td>\n",
       "    </tr>\n",
       "    <tr>\n",
       "      <th>2</th>\n",
       "      <td>62 Parkin Street, Salisbury, New Brunswick, E4...</td>\n",
       "      <td>3.0</td>\n",
       "      <td>2.0</td>\n",
       "      <td>3790.0</td>\n",
       "      <td>0.850</td>\n",
       "      <td>\\r\\n            Residential\\r\\n</td>\n",
       "      <td>549900</td>\n",
       "    </tr>\n",
       "    <tr>\n",
       "      <th>3</th>\n",
       "      <td>14 Murray Lane, St. Andrews, New Brunswick</td>\n",
       "      <td>4.0</td>\n",
       "      <td>2.0</td>\n",
       "      <td>2200.0</td>\n",
       "      <td>1.150</td>\n",
       "      <td>\\r\\n            Residential\\r\\n</td>\n",
       "      <td>449500</td>\n",
       "    </tr>\n",
       "    <tr>\n",
       "      <th>4</th>\n",
       "      <td>140 Orleans St., Dieppe, New Brunswick, E1A 1W9</td>\n",
       "      <td>4.0</td>\n",
       "      <td>3.0</td>\n",
       "      <td>2808.0</td>\n",
       "      <td>0.124</td>\n",
       "      <td>\\r\\n            Residential\\r\\n</td>\n",
       "      <td>236900</td>\n",
       "    </tr>\n",
       "  </tbody>\n",
       "</table>\n",
       "</div>"
      ],
      "text/plain": [
       "                                             Address  Beds  Baths  House Size  \\\n",
       "0   10 Robin Dr, Fredericton, New Brunswick, E3C 1K6   5.0    2.0      1600.0   \n",
       "1        03-2 Glebe Rd, Saint Andrews, New Brunswick   NaN    NaN         NaN   \n",
       "2  62 Parkin Street, Salisbury, New Brunswick, E4...   3.0    2.0      3790.0   \n",
       "3         14 Murray Lane, St. Andrews, New Brunswick   4.0    2.0      2200.0   \n",
       "4    140 Orleans St., Dieppe, New Brunswick, E1A 1W9   4.0    3.0      2808.0   \n",
       "\n",
       "   Lot Size                                     Type   Price  \n",
       "0     0.177  \\r\\n            Residential\\r\\n          259900  \n",
       "1     1.140  \\r\\n            Residential\\r\\n           11400  \n",
       "2     0.850  \\r\\n            Residential\\r\\n          549900  \n",
       "3     1.150  \\r\\n            Residential\\r\\n          449500  \n",
       "4     0.124  \\r\\n            Residential\\r\\n          236900  "
      ]
     },
     "execution_count": 1,
     "metadata": {},
     "output_type": "execute_result"
    }
   ],
   "source": [
    "# load libraries\n",
    "import numpy as np\n",
    "import pandas as pd\n",
    "import mechanize\n",
    "\n",
    "# read csv file\n",
    "df = pd.read_csv(\"houseprices_nbf.csv\")\n",
    "df.head(5)"
   ]
  },
  {
   "cell_type": "markdown",
   "metadata": {},
   "source": [
    "The type of house seem to have extra characters \\r\\n at the beginning and the end. This can be easily removed."
   ]
  },
  {
   "cell_type": "code",
   "execution_count": 2,
   "metadata": {},
   "outputs": [
    {
     "data": {
      "text/html": [
       "<div>\n",
       "<style scoped>\n",
       "    .dataframe tbody tr th:only-of-type {\n",
       "        vertical-align: middle;\n",
       "    }\n",
       "\n",
       "    .dataframe tbody tr th {\n",
       "        vertical-align: top;\n",
       "    }\n",
       "\n",
       "    .dataframe thead th {\n",
       "        text-align: right;\n",
       "    }\n",
       "</style>\n",
       "<table border=\"1\" class=\"dataframe\">\n",
       "  <thead>\n",
       "    <tr style=\"text-align: right;\">\n",
       "      <th></th>\n",
       "      <th>Address</th>\n",
       "      <th>Beds</th>\n",
       "      <th>Baths</th>\n",
       "      <th>House Size</th>\n",
       "      <th>Lot Size</th>\n",
       "      <th>Type</th>\n",
       "      <th>Price</th>\n",
       "    </tr>\n",
       "  </thead>\n",
       "  <tbody>\n",
       "    <tr>\n",
       "      <th>0</th>\n",
       "      <td>10 Robin Dr, Fredericton, New Brunswick, E3C 1K6</td>\n",
       "      <td>5.0</td>\n",
       "      <td>2.0</td>\n",
       "      <td>1600.0</td>\n",
       "      <td>0.177</td>\n",
       "      <td>Residential</td>\n",
       "      <td>259900</td>\n",
       "    </tr>\n",
       "    <tr>\n",
       "      <th>1</th>\n",
       "      <td>03-2 Glebe Rd, Saint Andrews, New Brunswick</td>\n",
       "      <td>NaN</td>\n",
       "      <td>NaN</td>\n",
       "      <td>NaN</td>\n",
       "      <td>1.140</td>\n",
       "      <td>Residential</td>\n",
       "      <td>11400</td>\n",
       "    </tr>\n",
       "    <tr>\n",
       "      <th>2</th>\n",
       "      <td>62 Parkin Street, Salisbury, New Brunswick, E4...</td>\n",
       "      <td>3.0</td>\n",
       "      <td>2.0</td>\n",
       "      <td>3790.0</td>\n",
       "      <td>0.850</td>\n",
       "      <td>Residential</td>\n",
       "      <td>549900</td>\n",
       "    </tr>\n",
       "    <tr>\n",
       "      <th>3</th>\n",
       "      <td>14 Murray Lane, St. Andrews, New Brunswick</td>\n",
       "      <td>4.0</td>\n",
       "      <td>2.0</td>\n",
       "      <td>2200.0</td>\n",
       "      <td>1.150</td>\n",
       "      <td>Residential</td>\n",
       "      <td>449500</td>\n",
       "    </tr>\n",
       "    <tr>\n",
       "      <th>4</th>\n",
       "      <td>140 Orleans St., Dieppe, New Brunswick, E1A 1W9</td>\n",
       "      <td>4.0</td>\n",
       "      <td>3.0</td>\n",
       "      <td>2808.0</td>\n",
       "      <td>0.124</td>\n",
       "      <td>Residential</td>\n",
       "      <td>236900</td>\n",
       "    </tr>\n",
       "  </tbody>\n",
       "</table>\n",
       "</div>"
      ],
      "text/plain": [
       "                                             Address  Beds  Baths  House Size  \\\n",
       "0   10 Robin Dr, Fredericton, New Brunswick, E3C 1K6   5.0    2.0      1600.0   \n",
       "1        03-2 Glebe Rd, Saint Andrews, New Brunswick   NaN    NaN         NaN   \n",
       "2  62 Parkin Street, Salisbury, New Brunswick, E4...   3.0    2.0      3790.0   \n",
       "3         14 Murray Lane, St. Andrews, New Brunswick   4.0    2.0      2200.0   \n",
       "4    140 Orleans St., Dieppe, New Brunswick, E1A 1W9   4.0    3.0      2808.0   \n",
       "\n",
       "   Lot Size                             Type   Price  \n",
       "0     0.177              Residential          259900  \n",
       "1     1.140              Residential           11400  \n",
       "2     0.850              Residential          549900  \n",
       "3     1.150              Residential          449500  \n",
       "4     0.124              Residential          236900  "
      ]
     },
     "execution_count": 2,
     "metadata": {},
     "output_type": "execute_result"
    }
   ],
   "source": [
    "df['Type'] = df['Type'].str.replace(r'\\r\\n','')\n",
    "df.head(5)"
   ]
  },
  {
   "cell_type": "markdown",
   "metadata": {},
   "source": [
    "As for the address, it would not make sense to feed in the complete address to our machine learning algorithm. As such we would only be getting the postal code. If there is no postal code, fortunately, we can get the postal code of a given address on [worldpostalcode.com](https://worldpostalcode.com/lookup)."
   ]
  },
  {
   "cell_type": "code",
   "execution_count": 10,
   "metadata": {},
   "outputs": [
    {
     "name": "stdout",
     "output_type": "stream",
     "text": [
      "[]\n",
      "587\n"
     ]
    },
    {
     "name": "stderr",
     "output_type": "stream",
     "text": [
      "/Users/renzoflores/anaconda3/lib/python3.7/site-packages/ipykernel_launcher.py:14: SettingWithCopyWarning: \n",
      "A value is trying to be set on a copy of a slice from a DataFrame\n",
      "\n",
      "See the caveats in the documentation: https://pandas.pydata.org/pandas-docs/stable/user_guide/indexing.html#returning-a-view-versus-a-copy\n",
      "  \n"
     ]
    }
   ],
   "source": [
    "# postal codes in New Brunswick start with E and followed by a number\n",
    "# like E1, E2 and so on.\n",
    "\n",
    "df['Postal Code'] = np.nan\n",
    "\n",
    "br = mechanize.Browser()\n",
    "br.open('https://www.canadapost.ca/cpo/mc/personal/postalcode/fpc.jsf')\n",
    "\n",
    "print(br.forms())\n",
    "\n",
    "\n",
    "for index, address in df['Address'].items():\n",
    "    if address[-7] == 'E' and address[-6].isnumeric():\n",
    "        df['Postal Code'][index] = address[-7:]\n",
    "    #else:\n",
    "    #    br.select_form('addressComplete')\n",
    "    #    br.form['addressComplete'] = address\n",
    "    #    br.submit()\n",
    "        \n",
    "        \n",
    "\n",
    "df.head(5)\n",
    "print(df['Postal Code'].isna().sum())"
   ]
  },
  {
   "cell_type": "code",
   "execution_count": null,
   "metadata": {},
   "outputs": [],
   "source": [
    "df[0,'Address']"
   ]
  },
  {
   "cell_type": "code",
   "execution_count": 6,
   "metadata": {},
   "outputs": [
    {
     "ename": "AttributeError",
     "evalue": "<class 'mechanize._mechanize.Browser'> instance has no attribute quit (perhaps you forgot to .select_form()?)",
     "output_type": "error",
     "traceback": [
      "\u001b[0;31m---------------------------------------------------------------------------\u001b[0m",
      "\u001b[0;31mAttributeError\u001b[0m                            Traceback (most recent call last)",
      "\u001b[0;32m<ipython-input-6-fecec3767e8a>\u001b[0m in \u001b[0;36m<module>\u001b[0;34m\u001b[0m\n\u001b[0;32m----> 1\u001b[0;31m \u001b[0mbr\u001b[0m\u001b[0;34m.\u001b[0m\u001b[0mquit\u001b[0m\u001b[0;34m(\u001b[0m\u001b[0;34m)\u001b[0m\u001b[0;34m\u001b[0m\u001b[0;34m\u001b[0m\u001b[0m\n\u001b[0m",
      "\u001b[0;32m~/anaconda3/lib/python3.7/site-packages/mechanize/_mechanize.py\u001b[0m in \u001b[0;36m__getattr__\u001b[0;34m(self, name)\u001b[0m\n\u001b[1;32m    796\u001b[0m             raise AttributeError(\n\u001b[1;32m    797\u001b[0m                 \u001b[0;34m\"%s instance has no attribute %s (perhaps you forgot to \"\u001b[0m\u001b[0;34m\u001b[0m\u001b[0;34m\u001b[0m\u001b[0m\n\u001b[0;32m--> 798\u001b[0;31m                 \".select_form()?)\" % (self.__class__, name))\n\u001b[0m\u001b[1;32m    799\u001b[0m         \u001b[0;32mreturn\u001b[0m \u001b[0mgetattr\u001b[0m\u001b[0;34m(\u001b[0m\u001b[0mform\u001b[0m\u001b[0;34m,\u001b[0m \u001b[0mname\u001b[0m\u001b[0;34m)\u001b[0m\u001b[0;34m\u001b[0m\u001b[0;34m\u001b[0m\u001b[0m\n\u001b[1;32m    800\u001b[0m \u001b[0;34m\u001b[0m\u001b[0m\n",
      "\u001b[0;31mAttributeError\u001b[0m: <class 'mechanize._mechanize.Browser'> instance has no attribute quit (perhaps you forgot to .select_form()?)"
     ]
    }
   ],
   "source": [
    "br.quit()"
   ]
  },
  {
   "cell_type": "code",
   "execution_count": null,
   "metadata": {},
   "outputs": [],
   "source": []
  }
 ],
 "metadata": {
  "kernelspec": {
   "display_name": "Python 3",
   "language": "python",
   "name": "python3"
  },
  "language_info": {
   "codemirror_mode": {
    "name": "ipython",
    "version": 3
   },
   "file_extension": ".py",
   "mimetype": "text/x-python",
   "name": "python",
   "nbconvert_exporter": "python",
   "pygments_lexer": "ipython3",
   "version": "3.7.7"
  }
 },
 "nbformat": 4,
 "nbformat_minor": 4
}
