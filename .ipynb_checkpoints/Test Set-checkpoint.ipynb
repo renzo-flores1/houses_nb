{
 "cells": [
  {
   "cell_type": "markdown",
   "metadata": {},
   "source": [
    "# Houses and Empty Lots for Sale in New Brunswick (as of June 12, 2020)\n",
    "\n",
    "In this project, I scraped data from this [website](https://www.point2homes.com/CA/Real-Estate-Listings/NB.html) which lists houses and \n",
    "empty lots for sale. The selling price is listed along with the lot size. For houses, the number of bedrooms, bathrooms, the house size the house type are also given.\n",
    "\n",
    "## 1.1 The Training Set\n"
   ]
  },
  {
   "cell_type": "code",
   "execution_count": 1,
   "metadata": {},
   "outputs": [
    {
     "data": {
      "text/html": [
       "<div>\n",
       "<style scoped>\n",
       "    .dataframe tbody tr th:only-of-type {\n",
       "        vertical-align: middle;\n",
       "    }\n",
       "\n",
       "    .dataframe tbody tr th {\n",
       "        vertical-align: top;\n",
       "    }\n",
       "\n",
       "    .dataframe thead th {\n",
       "        text-align: right;\n",
       "    }\n",
       "</style>\n",
       "<table border=\"1\" class=\"dataframe\">\n",
       "  <thead>\n",
       "    <tr style=\"text-align: right;\">\n",
       "      <th></th>\n",
       "      <th>Address</th>\n",
       "      <th>Beds</th>\n",
       "      <th>Baths</th>\n",
       "      <th>House Size (sqft)</th>\n",
       "      <th>Lot Size (ac)</th>\n",
       "      <th>Type</th>\n",
       "      <th>Postal Code</th>\n",
       "      <th>Price</th>\n",
       "    </tr>\n",
       "  </thead>\n",
       "  <tbody>\n",
       "    <tr>\n",
       "      <th>0</th>\n",
       "      <td>Haute Aboujagane Land, Haute Aboujagane, New B...</td>\n",
       "      <td>NaN</td>\n",
       "      <td>NaN</td>\n",
       "      <td>NaN</td>\n",
       "      <td>NaN</td>\n",
       "      <td>Residential</td>\n",
       "      <td>E4P5M8</td>\n",
       "      <td>43000</td>\n",
       "    </tr>\n",
       "    <tr>\n",
       "      <th>1</th>\n",
       "      <td>121-127 Wright Street, Indiantown, New Brunswick</td>\n",
       "      <td>NaN</td>\n",
       "      <td>NaN</td>\n",
       "      <td>10000.0</td>\n",
       "      <td>NaN</td>\n",
       "      <td>Family</td>\n",
       "      <td>E2K3Z5</td>\n",
       "      <td>899900</td>\n",
       "    </tr>\n",
       "    <tr>\n",
       "      <th>2</th>\n",
       "      <td>2852 Route 117, Kouchibouguac, New Brunswick</td>\n",
       "      <td>NaN</td>\n",
       "      <td>NaN</td>\n",
       "      <td>NaN</td>\n",
       "      <td>1.02</td>\n",
       "      <td>Residential</td>\n",
       "      <td>E4X2P2</td>\n",
       "      <td>75000</td>\n",
       "    </tr>\n",
       "    <tr>\n",
       "      <th>3</th>\n",
       "      <td>Lot Route 955, Murray Corner, New Brunswick, E...</td>\n",
       "      <td>NaN</td>\n",
       "      <td>NaN</td>\n",
       "      <td>NaN</td>\n",
       "      <td>NaN</td>\n",
       "      <td>Empty Land</td>\n",
       "      <td>E4M3M2</td>\n",
       "      <td>99000</td>\n",
       "    </tr>\n",
       "    <tr>\n",
       "      <th>4</th>\n",
       "      <td>298 French Lake Road, French Lake, New Brunswick</td>\n",
       "      <td>3.0</td>\n",
       "      <td>2.0</td>\n",
       "      <td>1245.0</td>\n",
       "      <td>NaN</td>\n",
       "      <td>Family</td>\n",
       "      <td>E2V4E2</td>\n",
       "      <td>94900</td>\n",
       "    </tr>\n",
       "  </tbody>\n",
       "</table>\n",
       "</div>"
      ],
      "text/plain": [
       "                                             Address  Beds  Baths  \\\n",
       "0  Haute Aboujagane Land, Haute Aboujagane, New B...   NaN    NaN   \n",
       "1   121-127 Wright Street, Indiantown, New Brunswick   NaN    NaN   \n",
       "2       2852 Route 117, Kouchibouguac, New Brunswick   NaN    NaN   \n",
       "3  Lot Route 955, Murray Corner, New Brunswick, E...   NaN    NaN   \n",
       "4   298 French Lake Road, French Lake, New Brunswick   3.0    2.0   \n",
       "\n",
       "   House Size (sqft)  Lot Size (ac)         Type Postal Code   Price  \n",
       "0                NaN            NaN  Residential      E4P5M8   43000  \n",
       "1            10000.0            NaN       Family      E2K3Z5  899900  \n",
       "2                NaN           1.02  Residential      E4X2P2   75000  \n",
       "3                NaN            NaN   Empty Land      E4M3M2   99000  \n",
       "4             1245.0            NaN       Family      E2V4E2   94900  "
      ]
     },
     "execution_count": 1,
     "metadata": {},
     "output_type": "execute_result"
    }
   ],
   "source": [
    "# load libraries\n",
    "import numpy as np\n",
    "import pandas as pd\n",
    "from sklearn.model_selection import train_test_split\n",
    "import re\n",
    "from tqdm.notebook import tqdm\n",
    "\n",
    "train = pd.read_csv('train.csv')\n",
    "val = pd.read_csv('val.csv')\n",
    "\n",
    "# look at first 5 rows of training set\n",
    "train.head(5)"
   ]
  },
  {
   "cell_type": "code",
   "execution_count": 2,
   "metadata": {},
   "outputs": [
    {
     "data": {
      "text/html": [
       "<div>\n",
       "<style scoped>\n",
       "    .dataframe tbody tr th:only-of-type {\n",
       "        vertical-align: middle;\n",
       "    }\n",
       "\n",
       "    .dataframe tbody tr th {\n",
       "        vertical-align: top;\n",
       "    }\n",
       "\n",
       "    .dataframe thead th {\n",
       "        text-align: right;\n",
       "    }\n",
       "</style>\n",
       "<table border=\"1\" class=\"dataframe\">\n",
       "  <thead>\n",
       "    <tr style=\"text-align: right;\">\n",
       "      <th></th>\n",
       "      <th>Beds</th>\n",
       "      <th>Baths</th>\n",
       "      <th>House Size (sqft)</th>\n",
       "      <th>Lot Size (ac)</th>\n",
       "      <th>Price</th>\n",
       "    </tr>\n",
       "  </thead>\n",
       "  <tbody>\n",
       "    <tr>\n",
       "      <th>count</th>\n",
       "      <td>374.000000</td>\n",
       "      <td>369.00000</td>\n",
       "      <td>265.000000</td>\n",
       "      <td>180.000000</td>\n",
       "      <td>5.370000e+02</td>\n",
       "    </tr>\n",
       "    <tr>\n",
       "      <th>mean</th>\n",
       "      <td>3.278075</td>\n",
       "      <td>1.97019</td>\n",
       "      <td>1918.037736</td>\n",
       "      <td>15.348144</td>\n",
       "      <td>1.949296e+05</td>\n",
       "    </tr>\n",
       "    <tr>\n",
       "      <th>std</th>\n",
       "      <td>1.133313</td>\n",
       "      <td>0.89484</td>\n",
       "      <td>1174.246637</td>\n",
       "      <td>86.120217</td>\n",
       "      <td>1.731198e+05</td>\n",
       "    </tr>\n",
       "    <tr>\n",
       "      <th>min</th>\n",
       "      <td>1.000000</td>\n",
       "      <td>1.00000</td>\n",
       "      <td>256.000000</td>\n",
       "      <td>0.019000</td>\n",
       "      <td>8.000000e+03</td>\n",
       "    </tr>\n",
       "    <tr>\n",
       "      <th>25%</th>\n",
       "      <td>3.000000</td>\n",
       "      <td>1.00000</td>\n",
       "      <td>1176.000000</td>\n",
       "      <td>0.309500</td>\n",
       "      <td>7.990000e+04</td>\n",
       "    </tr>\n",
       "    <tr>\n",
       "      <th>50%</th>\n",
       "      <td>3.000000</td>\n",
       "      <td>2.00000</td>\n",
       "      <td>1566.000000</td>\n",
       "      <td>1.000000</td>\n",
       "      <td>1.499000e+05</td>\n",
       "    </tr>\n",
       "    <tr>\n",
       "      <th>75%</th>\n",
       "      <td>4.000000</td>\n",
       "      <td>2.00000</td>\n",
       "      <td>2300.000000</td>\n",
       "      <td>2.767500</td>\n",
       "      <td>2.599000e+05</td>\n",
       "    </tr>\n",
       "    <tr>\n",
       "      <th>max</th>\n",
       "      <td>10.000000</td>\n",
       "      <td>5.00000</td>\n",
       "      <td>10000.000000</td>\n",
       "      <td>869.000000</td>\n",
       "      <td>1.530000e+06</td>\n",
       "    </tr>\n",
       "  </tbody>\n",
       "</table>\n",
       "</div>"
      ],
      "text/plain": [
       "             Beds      Baths  House Size (sqft)  Lot Size (ac)         Price\n",
       "count  374.000000  369.00000         265.000000     180.000000  5.370000e+02\n",
       "mean     3.278075    1.97019        1918.037736      15.348144  1.949296e+05\n",
       "std      1.133313    0.89484        1174.246637      86.120217  1.731198e+05\n",
       "min      1.000000    1.00000         256.000000       0.019000  8.000000e+03\n",
       "25%      3.000000    1.00000        1176.000000       0.309500  7.990000e+04\n",
       "50%      3.000000    2.00000        1566.000000       1.000000  1.499000e+05\n",
       "75%      4.000000    2.00000        2300.000000       2.767500  2.599000e+05\n",
       "max     10.000000    5.00000       10000.000000     869.000000  1.530000e+06"
      ]
     },
     "execution_count": 2,
     "metadata": {},
     "output_type": "execute_result"
    }
   ],
   "source": [
    "# get summary statistics\n",
    "train.describe()"
   ]
  },
  {
   "cell_type": "code",
   "execution_count": 3,
   "metadata": {},
   "outputs": [
    {
     "data": {
      "text/plain": [
       "487"
      ]
     },
     "execution_count": 3,
     "metadata": {},
     "output_type": "execute_result"
    }
   ],
   "source": [
    "# get unique postal codes\n",
    "len(train['Postal Code'].unique())"
   ]
  },
  {
   "cell_type": "markdown",
   "metadata": {},
   "source": [
    "There are a lot of postal codes. To reduce the variability of postal codes, we just get the first half of the postal code."
   ]
  },
  {
   "cell_type": "code",
   "execution_count": 4,
   "metadata": {},
   "outputs": [
    {
     "data": {
      "text/html": [
       "<div>\n",
       "<style scoped>\n",
       "    .dataframe tbody tr th:only-of-type {\n",
       "        vertical-align: middle;\n",
       "    }\n",
       "\n",
       "    .dataframe tbody tr th {\n",
       "        vertical-align: top;\n",
       "    }\n",
       "\n",
       "    .dataframe thead th {\n",
       "        text-align: right;\n",
       "    }\n",
       "</style>\n",
       "<table border=\"1\" class=\"dataframe\">\n",
       "  <thead>\n",
       "    <tr style=\"text-align: right;\">\n",
       "      <th></th>\n",
       "      <th>Address</th>\n",
       "      <th>Beds</th>\n",
       "      <th>Baths</th>\n",
       "      <th>House Size (sqft)</th>\n",
       "      <th>Lot Size (ac)</th>\n",
       "      <th>Type</th>\n",
       "      <th>Postal Code</th>\n",
       "      <th>Price</th>\n",
       "      <th>Postal</th>\n",
       "    </tr>\n",
       "  </thead>\n",
       "  <tbody>\n",
       "    <tr>\n",
       "      <th>0</th>\n",
       "      <td>Haute Aboujagane Land, Haute Aboujagane, New B...</td>\n",
       "      <td>NaN</td>\n",
       "      <td>NaN</td>\n",
       "      <td>NaN</td>\n",
       "      <td>NaN</td>\n",
       "      <td>Residential</td>\n",
       "      <td>E4P5M8</td>\n",
       "      <td>43000</td>\n",
       "      <td>E4P</td>\n",
       "    </tr>\n",
       "    <tr>\n",
       "      <th>1</th>\n",
       "      <td>121-127 Wright Street, Indiantown, New Brunswick</td>\n",
       "      <td>NaN</td>\n",
       "      <td>NaN</td>\n",
       "      <td>10000.0</td>\n",
       "      <td>NaN</td>\n",
       "      <td>Family</td>\n",
       "      <td>E2K3Z5</td>\n",
       "      <td>899900</td>\n",
       "      <td>E2K</td>\n",
       "    </tr>\n",
       "    <tr>\n",
       "      <th>2</th>\n",
       "      <td>2852 Route 117, Kouchibouguac, New Brunswick</td>\n",
       "      <td>NaN</td>\n",
       "      <td>NaN</td>\n",
       "      <td>NaN</td>\n",
       "      <td>1.02</td>\n",
       "      <td>Residential</td>\n",
       "      <td>E4X2P2</td>\n",
       "      <td>75000</td>\n",
       "      <td>E4X</td>\n",
       "    </tr>\n",
       "    <tr>\n",
       "      <th>3</th>\n",
       "      <td>Lot Route 955, Murray Corner, New Brunswick, E...</td>\n",
       "      <td>NaN</td>\n",
       "      <td>NaN</td>\n",
       "      <td>NaN</td>\n",
       "      <td>NaN</td>\n",
       "      <td>Empty Land</td>\n",
       "      <td>E4M3M2</td>\n",
       "      <td>99000</td>\n",
       "      <td>E4M</td>\n",
       "    </tr>\n",
       "    <tr>\n",
       "      <th>4</th>\n",
       "      <td>298 French Lake Road, French Lake, New Brunswick</td>\n",
       "      <td>3.0</td>\n",
       "      <td>2.0</td>\n",
       "      <td>1245.0</td>\n",
       "      <td>NaN</td>\n",
       "      <td>Family</td>\n",
       "      <td>E2V4E2</td>\n",
       "      <td>94900</td>\n",
       "      <td>E2V</td>\n",
       "    </tr>\n",
       "  </tbody>\n",
       "</table>\n",
       "</div>"
      ],
      "text/plain": [
       "                                             Address  Beds  Baths  \\\n",
       "0  Haute Aboujagane Land, Haute Aboujagane, New B...   NaN    NaN   \n",
       "1   121-127 Wright Street, Indiantown, New Brunswick   NaN    NaN   \n",
       "2       2852 Route 117, Kouchibouguac, New Brunswick   NaN    NaN   \n",
       "3  Lot Route 955, Murray Corner, New Brunswick, E...   NaN    NaN   \n",
       "4   298 French Lake Road, French Lake, New Brunswick   3.0    2.0   \n",
       "\n",
       "   House Size (sqft)  Lot Size (ac)         Type Postal Code   Price Postal  \n",
       "0                NaN            NaN  Residential      E4P5M8   43000    E4P  \n",
       "1            10000.0            NaN       Family      E2K3Z5  899900    E2K  \n",
       "2                NaN           1.02  Residential      E4X2P2   75000    E4X  \n",
       "3                NaN            NaN   Empty Land      E4M3M2   99000    E4M  \n",
       "4             1245.0            NaN       Family      E2V4E2   94900    E2V  "
      ]
     },
     "execution_count": 4,
     "metadata": {},
     "output_type": "execute_result"
    }
   ],
   "source": [
    "train['Postal'] = train['Postal Code'].str[:3]\n",
    "train.head(5)"
   ]
  },
  {
   "cell_type": "code",
   "execution_count": 5,
   "metadata": {},
   "outputs": [
    {
     "data": {
      "text/plain": [
       "88"
      ]
     },
     "execution_count": 5,
     "metadata": {},
     "output_type": "execute_result"
    }
   ],
   "source": [
    "# get number if unique 'Postal'\n",
    "len(train.Postal.unique())"
   ]
  },
  {
   "cell_type": "markdown",
   "metadata": {},
   "source": [
    "Ninety is not that bad. Now we check the histogram of **Postal**."
   ]
  },
  {
   "cell_type": "code",
   "execution_count": 6,
   "metadata": {},
   "outputs": [
    {
     "name": "stderr",
     "output_type": "stream",
     "text": [
      "/Users/renzoflores/anaconda3/lib/python3.7/site-packages/plotnine/stats/stat_bin.py:93: PlotnineWarning: 'stat_bin()' using 'bins = 10'. Pick better value with 'binwidth'.\n"
     ]
    },
    {
     "data": {
      "image/png": "[encoded data removed]",
      "text/plain": [
       "<Figure size 640x480 with 1 Axes>"
      ]
     },
     "metadata": {},
     "output_type": "display_data"
    },
    {
     "data": {
      "text/plain": [
       "<ggplot: (7010128453)>"
      ]
     },
     "execution_count": 6,
     "metadata": {},
     "output_type": "execute_result"
    }
   ],
   "source": [
    "from plotnine import *\n",
    "\n",
    "ggplot(train, aes(x='Postal')) + geom_histogram()"
   ]
  },
  {
   "cell_type": "code",
   "execution_count": 7,
   "metadata": {},
   "outputs": [
    {
     "data": {
      "text/plain": [
       "E3L    57\n",
       "E1A    30\n",
       "E5B    27\n",
       "E3A    25\n",
       "E4P    24\n",
       "       ..\n",
       "E7P     1\n",
       "E7N     1\n",
       "E7G     1\n",
       "E2Z     1\n",
       "E7L     1\n",
       "Name: Postal, Length: 87, dtype: int64"
      ]
     },
     "execution_count": 7,
     "metadata": {},
     "output_type": "execute_result"
    }
   ],
   "source": [
    "# get minimum counts for postal\n",
    "train.Postal.value_counts()"
   ]
  },
  {
   "cell_type": "markdown",
   "metadata": {},
   "source": [
    "Okay, so there are plenty of postal codes with only ones in them. So we just pick the first two characters of the postal code instead."
   ]
  },
  {
   "cell_type": "code",
   "execution_count": 8,
   "metadata": {},
   "outputs": [
    {
     "data": {
      "text/plain": [
       "E3    121\n",
       "E4    115\n",
       "E1    110\n",
       "E5     72\n",
       "E2     61\n",
       "E9     18\n",
       "E7     14\n",
       "E6     13\n",
       "E8      8\n",
       "Name: Postal, dtype: int64"
      ]
     },
     "execution_count": 8,
     "metadata": {},
     "output_type": "execute_result"
    }
   ],
   "source": [
    "train['Postal'] = train['Postal'].str[:-1]\n",
    "train.Postal.value_counts()"
   ]
  },
  {
   "cell_type": "markdown",
   "metadata": {},
   "source": [
    "Much better. We can now drop the postal code."
   ]
  },
  {
   "cell_type": "code",
   "execution_count": 9,
   "metadata": {},
   "outputs": [
    {
     "data": {
      "text/html": [
       "<div>\n",
       "<style scoped>\n",
       "    .dataframe tbody tr th:only-of-type {\n",
       "        vertical-align: middle;\n",
       "    }\n",
       "\n",
       "    .dataframe tbody tr th {\n",
       "        vertical-align: top;\n",
       "    }\n",
       "\n",
       "    .dataframe thead th {\n",
       "        text-align: right;\n",
       "    }\n",
       "</style>\n",
       "<table border=\"1\" class=\"dataframe\">\n",
       "  <thead>\n",
       "    <tr style=\"text-align: right;\">\n",
       "      <th></th>\n",
       "      <th>Address</th>\n",
       "      <th>Beds</th>\n",
       "      <th>Baths</th>\n",
       "      <th>House Size (sqft)</th>\n",
       "      <th>Lot Size (ac)</th>\n",
       "      <th>Type</th>\n",
       "      <th>Price</th>\n",
       "      <th>Postal</th>\n",
       "    </tr>\n",
       "  </thead>\n",
       "  <tbody>\n",
       "    <tr>\n",
       "      <th>0</th>\n",
       "      <td>Haute Aboujagane Land, Haute Aboujagane, New B...</td>\n",
       "      <td>NaN</td>\n",
       "      <td>NaN</td>\n",
       "      <td>NaN</td>\n",
       "      <td>NaN</td>\n",
       "      <td>Residential</td>\n",
       "      <td>43000</td>\n",
       "      <td>E4</td>\n",
       "    </tr>\n",
       "    <tr>\n",
       "      <th>1</th>\n",
       "      <td>121-127 Wright Street, Indiantown, New Brunswick</td>\n",
       "      <td>NaN</td>\n",
       "      <td>NaN</td>\n",
       "      <td>10000.0</td>\n",
       "      <td>NaN</td>\n",
       "      <td>Family</td>\n",
       "      <td>899900</td>\n",
       "      <td>E2</td>\n",
       "    </tr>\n",
       "    <tr>\n",
       "      <th>2</th>\n",
       "      <td>2852 Route 117, Kouchibouguac, New Brunswick</td>\n",
       "      <td>NaN</td>\n",
       "      <td>NaN</td>\n",
       "      <td>NaN</td>\n",
       "      <td>1.02</td>\n",
       "      <td>Residential</td>\n",
       "      <td>75000</td>\n",
       "      <td>E4</td>\n",
       "    </tr>\n",
       "    <tr>\n",
       "      <th>3</th>\n",
       "      <td>Lot Route 955, Murray Corner, New Brunswick, E...</td>\n",
       "      <td>NaN</td>\n",
       "      <td>NaN</td>\n",
       "      <td>NaN</td>\n",
       "      <td>NaN</td>\n",
       "      <td>Empty Land</td>\n",
       "      <td>99000</td>\n",
       "      <td>E4</td>\n",
       "    </tr>\n",
       "    <tr>\n",
       "      <th>4</th>\n",
       "      <td>298 French Lake Road, French Lake, New Brunswick</td>\n",
       "      <td>3.0</td>\n",
       "      <td>2.0</td>\n",
       "      <td>1245.0</td>\n",
       "      <td>NaN</td>\n",
       "      <td>Family</td>\n",
       "      <td>94900</td>\n",
       "      <td>E2</td>\n",
       "    </tr>\n",
       "  </tbody>\n",
       "</table>\n",
       "</div>"
      ],
      "text/plain": [
       "                                             Address  Beds  Baths  \\\n",
       "0  Haute Aboujagane Land, Haute Aboujagane, New B...   NaN    NaN   \n",
       "1   121-127 Wright Street, Indiantown, New Brunswick   NaN    NaN   \n",
       "2       2852 Route 117, Kouchibouguac, New Brunswick   NaN    NaN   \n",
       "3  Lot Route 955, Murray Corner, New Brunswick, E...   NaN    NaN   \n",
       "4   298 French Lake Road, French Lake, New Brunswick   3.0    2.0   \n",
       "\n",
       "   House Size (sqft)  Lot Size (ac)         Type   Price Postal  \n",
       "0                NaN            NaN  Residential   43000     E4  \n",
       "1            10000.0            NaN       Family  899900     E2  \n",
       "2                NaN           1.02  Residential   75000     E4  \n",
       "3                NaN            NaN   Empty Land   99000     E4  \n",
       "4             1245.0            NaN       Family   94900     E2  "
      ]
     },
     "execution_count": 9,
     "metadata": {},
     "output_type": "execute_result"
    }
   ],
   "source": [
    "train.drop('Postal Code',axis=1,inplace=True)\n",
    "train.head(5)"
   ]
  },
  {
   "cell_type": "code",
   "execution_count": 10,
   "metadata": {},
   "outputs": [
    {
     "name": "stderr",
     "output_type": "stream",
     "text": [
      "/Users/renzoflores/anaconda3/lib/python3.7/site-packages/plotnine/stats/stat_bin.py:93: PlotnineWarning: 'stat_bin()' using 'bins = 19'. Pick better value with 'binwidth'.\n"
     ]
    },
    {
     "data": {
      "image/png": "[encoded data removed]",
      "text/plain": [
       "<Figure size 640x480 with 1 Axes>"
      ]
     },
     "metadata": {},
     "output_type": "display_data"
    },
    {
     "data": {
      "text/plain": [
       "<ggplot: (7012267945)>"
      ]
     },
     "execution_count": 10,
     "metadata": {},
     "output_type": "execute_result"
    }
   ],
   "source": [
    "# check histogram for Postal\n",
    "ggplot(train, aes(x='Postal')) + geom_histogram()"
   ]
  },
  {
   "cell_type": "code",
   "execution_count": 11,
   "metadata": {},
   "outputs": [
    {
     "data": {
      "text/html": [
       "<div>\n",
       "<style scoped>\n",
       "    .dataframe tbody tr th:only-of-type {\n",
       "        vertical-align: middle;\n",
       "    }\n",
       "\n",
       "    .dataframe tbody tr th {\n",
       "        vertical-align: top;\n",
       "    }\n",
       "\n",
       "    .dataframe thead th {\n",
       "        text-align: right;\n",
       "    }\n",
       "</style>\n",
       "<table border=\"1\" class=\"dataframe\">\n",
       "  <thead>\n",
       "    <tr style=\"text-align: right;\">\n",
       "      <th></th>\n",
       "      <th>Address</th>\n",
       "      <th>Beds</th>\n",
       "      <th>Baths</th>\n",
       "      <th>House Size (sqft)</th>\n",
       "      <th>Lot Size (ac)</th>\n",
       "      <th>Type</th>\n",
       "      <th>Price</th>\n",
       "      <th>Postal</th>\n",
       "    </tr>\n",
       "  </thead>\n",
       "  <tbody>\n",
       "    <tr>\n",
       "      <th>25</th>\n",
       "      <td>Lot Route 390, Greater Perth - Andover, New Br...</td>\n",
       "      <td>NaN</td>\n",
       "      <td>NaN</td>\n",
       "      <td>NaN</td>\n",
       "      <td>NaN</td>\n",
       "      <td>Empty Land</td>\n",
       "      <td>80000</td>\n",
       "      <td>NaN</td>\n",
       "    </tr>\n",
       "    <tr>\n",
       "      <th>146</th>\n",
       "      <td>2100 Bridletowne Cir, Clarks Corners, New Brun...</td>\n",
       "      <td>3.0</td>\n",
       "      <td>2.0</td>\n",
       "      <td>1390.0</td>\n",
       "      <td>NaN</td>\n",
       "      <td>Residential</td>\n",
       "      <td>820000</td>\n",
       "      <td>NaN</td>\n",
       "    </tr>\n",
       "    <tr>\n",
       "      <th>179</th>\n",
       "      <td>20 Burlington Court, Pokiok, New Brunswick</td>\n",
       "      <td>NaN</td>\n",
       "      <td>NaN</td>\n",
       "      <td>NaN</td>\n",
       "      <td>NaN</td>\n",
       "      <td>Empty Land</td>\n",
       "      <td>124000</td>\n",
       "      <td>NaN</td>\n",
       "    </tr>\n",
       "    <tr>\n",
       "      <th>389</th>\n",
       "      <td>Woodlot on Route 118, Miramichi, New Brunswick</td>\n",
       "      <td>NaN</td>\n",
       "      <td>NaN</td>\n",
       "      <td>NaN</td>\n",
       "      <td>NaN</td>\n",
       "      <td>Empty Land</td>\n",
       "      <td>39900</td>\n",
       "      <td>NaN</td>\n",
       "    </tr>\n",
       "    <tr>\n",
       "      <th>451</th>\n",
       "      <td>71 Pointe des Robichaud, Val - Comeau, New Bru...</td>\n",
       "      <td>3.0</td>\n",
       "      <td>1.0</td>\n",
       "      <td>NaN</td>\n",
       "      <td>NaN</td>\n",
       "      <td>Family</td>\n",
       "      <td>319000</td>\n",
       "      <td>NaN</td>\n",
       "    </tr>\n",
       "  </tbody>\n",
       "</table>\n",
       "</div>"
      ],
      "text/plain": [
       "                                               Address  Beds  Baths  \\\n",
       "25   Lot Route 390, Greater Perth - Andover, New Br...   NaN    NaN   \n",
       "146  2100 Bridletowne Cir, Clarks Corners, New Brun...   3.0    2.0   \n",
       "179         20 Burlington Court, Pokiok, New Brunswick   NaN    NaN   \n",
       "389     Woodlot on Route 118, Miramichi, New Brunswick   NaN    NaN   \n",
       "451  71 Pointe des Robichaud, Val - Comeau, New Bru...   3.0    1.0   \n",
       "\n",
       "     House Size (sqft)  Lot Size (ac)         Type   Price Postal  \n",
       "25                 NaN            NaN   Empty Land   80000    NaN  \n",
       "146             1390.0            NaN  Residential  820000    NaN  \n",
       "179                NaN            NaN   Empty Land  124000    NaN  \n",
       "389                NaN            NaN   Empty Land   39900    NaN  \n",
       "451                NaN            NaN       Family  319000    NaN  "
      ]
     },
     "execution_count": 11,
     "metadata": {},
     "output_type": "execute_result"
    }
   ],
   "source": [
    "# there is a null value. let's check the address(es)\n",
    "train[train.Postal.isnull()]"
   ]
  },
  {
   "cell_type": "markdown",
   "metadata": {},
   "source": [
    "According to Wikipedia and some searching in Google, Greater Perth-Andover has postal codes starting with E7. As for Miramichi and Val-Comeau, it starts with E1. For Pokiok, its E6 and for Clarks Corner its E4."
   ]
  },
  {
   "cell_type": "code",
   "execution_count": 12,
   "metadata": {},
   "outputs": [
    {
     "data": {
      "text/html": [
       "<div>\n",
       "<style scoped>\n",
       "    .dataframe tbody tr th:only-of-type {\n",
       "        vertical-align: middle;\n",
       "    }\n",
       "\n",
       "    .dataframe tbody tr th {\n",
       "        vertical-align: top;\n",
       "    }\n",
       "\n",
       "    .dataframe thead th {\n",
       "        text-align: right;\n",
       "    }\n",
       "</style>\n",
       "<table border=\"1\" class=\"dataframe\">\n",
       "  <thead>\n",
       "    <tr style=\"text-align: right;\">\n",
       "      <th></th>\n",
       "      <th>Address</th>\n",
       "      <th>Beds</th>\n",
       "      <th>Baths</th>\n",
       "      <th>House Size (sqft)</th>\n",
       "      <th>Lot Size (ac)</th>\n",
       "      <th>Type</th>\n",
       "      <th>Price</th>\n",
       "      <th>Postal</th>\n",
       "    </tr>\n",
       "  </thead>\n",
       "  <tbody>\n",
       "    <tr>\n",
       "      <th>25</th>\n",
       "      <td>Lot Route 390, Greater Perth - Andover, New Br...</td>\n",
       "      <td>NaN</td>\n",
       "      <td>NaN</td>\n",
       "      <td>NaN</td>\n",
       "      <td>NaN</td>\n",
       "      <td>Empty Land</td>\n",
       "      <td>80000</td>\n",
       "      <td>E7</td>\n",
       "    </tr>\n",
       "    <tr>\n",
       "      <th>389</th>\n",
       "      <td>Woodlot on Route 118, Miramichi, New Brunswick</td>\n",
       "      <td>NaN</td>\n",
       "      <td>NaN</td>\n",
       "      <td>NaN</td>\n",
       "      <td>NaN</td>\n",
       "      <td>Empty Land</td>\n",
       "      <td>39900</td>\n",
       "      <td>E1</td>\n",
       "    </tr>\n",
       "    <tr>\n",
       "      <th>451</th>\n",
       "      <td>71 Pointe des Robichaud, Val - Comeau, New Bru...</td>\n",
       "      <td>3.0</td>\n",
       "      <td>1.0</td>\n",
       "      <td>NaN</td>\n",
       "      <td>NaN</td>\n",
       "      <td>Family</td>\n",
       "      <td>319000</td>\n",
       "      <td>E1</td>\n",
       "    </tr>\n",
       "    <tr>\n",
       "      <th>179</th>\n",
       "      <td>20 Burlington Court, Pokiok, New Brunswick</td>\n",
       "      <td>NaN</td>\n",
       "      <td>NaN</td>\n",
       "      <td>NaN</td>\n",
       "      <td>NaN</td>\n",
       "      <td>Empty Land</td>\n",
       "      <td>124000</td>\n",
       "      <td>E6</td>\n",
       "    </tr>\n",
       "    <tr>\n",
       "      <th>146</th>\n",
       "      <td>2100 Bridletowne Cir, Clarks Corners, New Brun...</td>\n",
       "      <td>3.0</td>\n",
       "      <td>2.0</td>\n",
       "      <td>1390.0</td>\n",
       "      <td>NaN</td>\n",
       "      <td>Residential</td>\n",
       "      <td>820000</td>\n",
       "      <td>E4</td>\n",
       "    </tr>\n",
       "  </tbody>\n",
       "</table>\n",
       "</div>"
      ],
      "text/plain": [
       "                                               Address  Beds  Baths  \\\n",
       "25   Lot Route 390, Greater Perth - Andover, New Br...   NaN    NaN   \n",
       "389     Woodlot on Route 118, Miramichi, New Brunswick   NaN    NaN   \n",
       "451  71 Pointe des Robichaud, Val - Comeau, New Bru...   3.0    1.0   \n",
       "179         20 Burlington Court, Pokiok, New Brunswick   NaN    NaN   \n",
       "146  2100 Bridletowne Cir, Clarks Corners, New Brun...   3.0    2.0   \n",
       "\n",
       "     House Size (sqft)  Lot Size (ac)         Type   Price Postal  \n",
       "25                 NaN            NaN   Empty Land   80000     E7  \n",
       "389                NaN            NaN   Empty Land   39900     E1  \n",
       "451                NaN            NaN       Family  319000     E1  \n",
       "179                NaN            NaN   Empty Land  124000     E6  \n",
       "146             1390.0            NaN  Residential  820000     E4  "
      ]
     },
     "execution_count": 12,
     "metadata": {},
     "output_type": "execute_result"
    }
   ],
   "source": [
    "nan_postal = {25 : 'E7', 389: 'E1', 451: 'E1', 179: 'E6', 146: 'E4'}\n",
    "\n",
    "for index, post in nan_postal.items():\n",
    "    train.loc[index,'Postal'] = post\n",
    "\n",
    "train.loc[nan_postal.keys(),:]"
   ]
  },
  {
   "cell_type": "markdown",
   "metadata": {},
   "source": [
    "We can also drop the addresses now since we have the postal codes. "
   ]
  },
  {
   "cell_type": "code",
   "execution_count": 13,
   "metadata": {},
   "outputs": [],
   "source": [
    "train.drop('Address',axis=1, inplace=True)"
   ]
  },
  {
   "cell_type": "code",
   "execution_count": 14,
   "metadata": {},
   "outputs": [
    {
     "data": {
      "text/html": [
       "<div>\n",
       "<style scoped>\n",
       "    .dataframe tbody tr th:only-of-type {\n",
       "        vertical-align: middle;\n",
       "    }\n",
       "\n",
       "    .dataframe tbody tr th {\n",
       "        vertical-align: top;\n",
       "    }\n",
       "\n",
       "    .dataframe thead th {\n",
       "        text-align: right;\n",
       "    }\n",
       "</style>\n",
       "<table border=\"1\" class=\"dataframe\">\n",
       "  <thead>\n",
       "    <tr style=\"text-align: right;\">\n",
       "      <th></th>\n",
       "      <th>Beds</th>\n",
       "      <th>Baths</th>\n",
       "      <th>House Size (sqft)</th>\n",
       "      <th>Lot Size (ac)</th>\n",
       "      <th>Type</th>\n",
       "      <th>Price</th>\n",
       "      <th>Postal</th>\n",
       "    </tr>\n",
       "  </thead>\n",
       "  <tbody>\n",
       "    <tr>\n",
       "      <th>0</th>\n",
       "      <td>NaN</td>\n",
       "      <td>NaN</td>\n",
       "      <td>NaN</td>\n",
       "      <td>NaN</td>\n",
       "      <td>Residential</td>\n",
       "      <td>43000</td>\n",
       "      <td>E4</td>\n",
       "    </tr>\n",
       "    <tr>\n",
       "      <th>1</th>\n",
       "      <td>NaN</td>\n",
       "      <td>NaN</td>\n",
       "      <td>10000.0</td>\n",
       "      <td>NaN</td>\n",
       "      <td>Family</td>\n",
       "      <td>899900</td>\n",
       "      <td>E2</td>\n",
       "    </tr>\n",
       "    <tr>\n",
       "      <th>2</th>\n",
       "      <td>NaN</td>\n",
       "      <td>NaN</td>\n",
       "      <td>NaN</td>\n",
       "      <td>1.02</td>\n",
       "      <td>Residential</td>\n",
       "      <td>75000</td>\n",
       "      <td>E4</td>\n",
       "    </tr>\n",
       "    <tr>\n",
       "      <th>3</th>\n",
       "      <td>NaN</td>\n",
       "      <td>NaN</td>\n",
       "      <td>NaN</td>\n",
       "      <td>NaN</td>\n",
       "      <td>Empty Land</td>\n",
       "      <td>99000</td>\n",
       "      <td>E4</td>\n",
       "    </tr>\n",
       "    <tr>\n",
       "      <th>4</th>\n",
       "      <td>3.0</td>\n",
       "      <td>2.0</td>\n",
       "      <td>1245.0</td>\n",
       "      <td>NaN</td>\n",
       "      <td>Family</td>\n",
       "      <td>94900</td>\n",
       "      <td>E2</td>\n",
       "    </tr>\n",
       "  </tbody>\n",
       "</table>\n",
       "</div>"
      ],
      "text/plain": [
       "   Beds  Baths  House Size (sqft)  Lot Size (ac)         Type   Price Postal\n",
       "0   NaN    NaN                NaN            NaN  Residential   43000     E4\n",
       "1   NaN    NaN            10000.0            NaN       Family  899900     E2\n",
       "2   NaN    NaN                NaN           1.02  Residential   75000     E4\n",
       "3   NaN    NaN                NaN            NaN   Empty Land   99000     E4\n",
       "4   3.0    2.0             1245.0            NaN       Family   94900     E2"
      ]
     },
     "execution_count": 14,
     "metadata": {},
     "output_type": "execute_result"
    }
   ],
   "source": [
    "train.head(5)"
   ]
  },
  {
   "cell_type": "markdown",
   "metadata": {},
   "source": [
    "We now look at the distributions of beds and baths."
   ]
  },
  {
   "cell_type": "code",
   "execution_count": 15,
   "metadata": {},
   "outputs": [
    {
     "data": {
      "text/plain": [
       "<matplotlib.axes._subplots.AxesSubplot at 0x1a1f751750>"
      ]
     },
     "execution_count": 15,
     "metadata": {},
     "output_type": "execute_result"
    },
    {
     "data": {
      "image/png": "[encoded data removed]",
      "text/plain": [
       "<Figure size 432x288 with 1 Axes>"
      ]
     },
     "metadata": {
      "needs_background": "light"
     },
     "output_type": "display_data"
    }
   ],
   "source": [
    "train[train['Type']=='Residential']['Beds'].hist()"
   ]
  },
  {
   "cell_type": "code",
   "execution_count": 16,
   "metadata": {},
   "outputs": [
    {
     "data": {
      "text/plain": [
       "<matplotlib.axes._subplots.AxesSubplot at 0x1a1f935510>"
      ]
     },
     "execution_count": 16,
     "metadata": {},
     "output_type": "execute_result"
    },
    {
     "data": {
      "image/png": "[encoded data removed]",
      "text/plain": [
       "<Figure size 432x288 with 1 Axes>"
      ]
     },
     "metadata": {
      "needs_background": "light"
     },
     "output_type": "display_data"
    }
   ],
   "source": [
    "train[train['Type']=='Family']['Beds'].hist()"
   ]
  },
  {
   "cell_type": "markdown",
   "metadata": {},
   "source": [
    "The distribution is slightly skewed to the right for both types, indicating that most houses typically have ~3 beds. Now, if the type is Empty Land, obviously there are no beds, so we set Beds = 0, and we impute the beds with the median number. We also add a column indicating missingness of beds."
   ]
  },
  {
   "cell_type": "code",
   "execution_count": 17,
   "metadata": {},
   "outputs": [
    {
     "name": "stdout",
     "output_type": "stream",
     "text": [
      "3.0\n",
      "3.0\n"
     ]
    }
   ],
   "source": [
    "# check the median\n",
    "beds_resid_impute = train[train['Type']=='Residential']['Beds'].median(skipna=True)\n",
    "print(beds_resid_impute)\n",
    "beds_fam_impute = train[train['Type']=='Family']['Beds'].median(skipna=True)\n",
    "print(beds_fam_impute)"
   ]
  },
  {
   "cell_type": "code",
   "execution_count": 19,
   "metadata": {},
   "outputs": [
    {
     "data": {
      "text/plain": [
       "array(['Residential', 'Empty Land'], dtype=object)"
      ]
     },
     "execution_count": 19,
     "metadata": {},
     "output_type": "execute_result"
    }
   ],
   "source": [
    "# for residential and family houses, the median number of beds are essentially the same.\n",
    "# now I'm thinking of just joining Residential and Family.\n",
    "\n",
    "train = train.replace('Family','Residential')\n",
    "train['Type'].unique()"
   ]
  },
  {
   "cell_type": "code",
   "execution_count": 21,
   "metadata": {},
   "outputs": [
    {
     "data": {
      "application/vnd.jupyter.widget-view+json": {
       "model_id": "b073f25912664b1a8c5a3cd428b24742",
       "version_major": 2,
       "version_minor": 0
      },
      "text/plain": [
       "HBox(children=(FloatProgress(value=0.0, max=537.0), HTML(value='')))"
      ]
     },
     "metadata": {},
     "output_type": "display_data"
    },
    {
     "name": "stdout",
     "output_type": "stream",
     "text": [
      "\n"
     ]
    },
    {
     "data": {
      "text/html": [
       "<div>\n",
       "<style scoped>\n",
       "    .dataframe tbody tr th:only-of-type {\n",
       "        vertical-align: middle;\n",
       "    }\n",
       "\n",
       "    .dataframe tbody tr th {\n",
       "        vertical-align: top;\n",
       "    }\n",
       "\n",
       "    .dataframe thead th {\n",
       "        text-align: right;\n",
       "    }\n",
       "</style>\n",
       "<table border=\"1\" class=\"dataframe\">\n",
       "  <thead>\n",
       "    <tr style=\"text-align: right;\">\n",
       "      <th></th>\n",
       "      <th>Beds</th>\n",
       "      <th>Baths</th>\n",
       "      <th>House Size (sqft)</th>\n",
       "      <th>Lot Size (ac)</th>\n",
       "      <th>Type</th>\n",
       "      <th>Price</th>\n",
       "      <th>Postal</th>\n",
       "      <th>Missing Beds</th>\n",
       "    </tr>\n",
       "  </thead>\n",
       "  <tbody>\n",
       "    <tr>\n",
       "      <th>0</th>\n",
       "      <td>3.0</td>\n",
       "      <td>NaN</td>\n",
       "      <td>NaN</td>\n",
       "      <td>NaN</td>\n",
       "      <td>Residential</td>\n",
       "      <td>43000</td>\n",
       "      <td>E4</td>\n",
       "      <td>1</td>\n",
       "    </tr>\n",
       "    <tr>\n",
       "      <th>1</th>\n",
       "      <td>3.0</td>\n",
       "      <td>NaN</td>\n",
       "      <td>10000.0</td>\n",
       "      <td>NaN</td>\n",
       "      <td>Residential</td>\n",
       "      <td>899900</td>\n",
       "      <td>E2</td>\n",
       "      <td>1</td>\n",
       "    </tr>\n",
       "    <tr>\n",
       "      <th>2</th>\n",
       "      <td>3.0</td>\n",
       "      <td>NaN</td>\n",
       "      <td>NaN</td>\n",
       "      <td>1.02</td>\n",
       "      <td>Residential</td>\n",
       "      <td>75000</td>\n",
       "      <td>E4</td>\n",
       "      <td>1</td>\n",
       "    </tr>\n",
       "    <tr>\n",
       "      <th>3</th>\n",
       "      <td>0.0</td>\n",
       "      <td>NaN</td>\n",
       "      <td>NaN</td>\n",
       "      <td>NaN</td>\n",
       "      <td>Empty Land</td>\n",
       "      <td>99000</td>\n",
       "      <td>E4</td>\n",
       "      <td>0</td>\n",
       "    </tr>\n",
       "    <tr>\n",
       "      <th>4</th>\n",
       "      <td>3.0</td>\n",
       "      <td>2.0</td>\n",
       "      <td>1245.0</td>\n",
       "      <td>NaN</td>\n",
       "      <td>Residential</td>\n",
       "      <td>94900</td>\n",
       "      <td>E2</td>\n",
       "      <td>0</td>\n",
       "    </tr>\n",
       "  </tbody>\n",
       "</table>\n",
       "</div>"
      ],
      "text/plain": [
       "   Beds  Baths  House Size (sqft)  Lot Size (ac)         Type   Price Postal  \\\n",
       "0   3.0    NaN                NaN            NaN  Residential   43000     E4   \n",
       "1   3.0    NaN            10000.0            NaN  Residential  899900     E2   \n",
       "2   3.0    NaN                NaN           1.02  Residential   75000     E4   \n",
       "3   0.0    NaN                NaN            NaN   Empty Land   99000     E4   \n",
       "4   3.0    2.0             1245.0            NaN  Residential   94900     E2   \n",
       "\n",
       "   Missing Beds  \n",
       "0             1  \n",
       "1             1  \n",
       "2             1  \n",
       "3             0  \n",
       "4             0  "
      ]
     },
     "execution_count": 21,
     "metadata": {},
     "output_type": "execute_result"
    }
   ],
   "source": [
    "train['Missing Beds'] = 0\n",
    "train.head(5)\n",
    "\n",
    "for ind, typ in tqdm(train['Type'].items(), total = len(train['Type'])):\n",
    "    if typ == 'Empty Land':\n",
    "        train.loc[ind,'Beds'] = 0\n",
    "    elif np.isnan(train.loc[ind,'Beds']):\n",
    "        train.loc[ind,'Beds'] = beds_fam_impute\n",
    "        train.loc[ind,'Missing Beds'] = 1\n",
    "\n",
    "train.head(5)"
   ]
  },
  {
   "cell_type": "markdown",
   "metadata": {},
   "source": [
    "We do the same thing for baths."
   ]
  },
  {
   "cell_type": "code",
   "execution_count": 22,
   "metadata": {},
   "outputs": [
    {
     "data": {
      "text/plain": [
       "<matplotlib.axes._subplots.AxesSubplot at 0x1a1f755a50>"
      ]
     },
     "execution_count": 22,
     "metadata": {},
     "output_type": "execute_result"
    },
    {
     "data": {
      "image/png": "[encoded data removed]",
      "text/plain": [
       "<Figure size 432x288 with 1 Axes>"
      ]
     },
     "metadata": {
      "needs_background": "light"
     },
     "output_type": "display_data"
    }
   ],
   "source": [
    "train['Baths'].hist()"
   ]
  },
  {
   "cell_type": "code",
   "execution_count": 23,
   "metadata": {},
   "outputs": [
    {
     "data": {
      "application/vnd.jupyter.widget-view+json": {
       "model_id": "9c35efe5dfc0416b8e87d8c818cda3d1",
       "version_major": 2,
       "version_minor": 0
      },
      "text/plain": [
       "HBox(children=(FloatProgress(value=0.0, max=537.0), HTML(value='')))"
      ]
     },
     "metadata": {},
     "output_type": "display_data"
    },
    {
     "name": "stdout",
     "output_type": "stream",
     "text": [
      "\n"
     ]
    },
    {
     "data": {
      "text/html": [
       "<div>\n",
       "<style scoped>\n",
       "    .dataframe tbody tr th:only-of-type {\n",
       "        vertical-align: middle;\n",
       "    }\n",
       "\n",
       "    .dataframe tbody tr th {\n",
       "        vertical-align: top;\n",
       "    }\n",
       "\n",
       "    .dataframe thead th {\n",
       "        text-align: right;\n",
       "    }\n",
       "</style>\n",
       "<table border=\"1\" class=\"dataframe\">\n",
       "  <thead>\n",
       "    <tr style=\"text-align: right;\">\n",
       "      <th></th>\n",
       "      <th>Beds</th>\n",
       "      <th>Baths</th>\n",
       "      <th>House Size (sqft)</th>\n",
       "      <th>Lot Size (ac)</th>\n",
       "      <th>Type</th>\n",
       "      <th>Price</th>\n",
       "      <th>Postal</th>\n",
       "      <th>Missing Beds</th>\n",
       "      <th>Missing Baths</th>\n",
       "    </tr>\n",
       "  </thead>\n",
       "  <tbody>\n",
       "    <tr>\n",
       "      <th>0</th>\n",
       "      <td>3.0</td>\n",
       "      <td>2.0</td>\n",
       "      <td>NaN</td>\n",
       "      <td>NaN</td>\n",
       "      <td>Residential</td>\n",
       "      <td>43000</td>\n",
       "      <td>E4</td>\n",
       "      <td>1</td>\n",
       "      <td>1</td>\n",
       "    </tr>\n",
       "    <tr>\n",
       "      <th>1</th>\n",
       "      <td>3.0</td>\n",
       "      <td>2.0</td>\n",
       "      <td>10000.0</td>\n",
       "      <td>NaN</td>\n",
       "      <td>Residential</td>\n",
       "      <td>899900</td>\n",
       "      <td>E2</td>\n",
       "      <td>1</td>\n",
       "      <td>1</td>\n",
       "    </tr>\n",
       "    <tr>\n",
       "      <th>2</th>\n",
       "      <td>3.0</td>\n",
       "      <td>2.0</td>\n",
       "      <td>NaN</td>\n",
       "      <td>1.02</td>\n",
       "      <td>Residential</td>\n",
       "      <td>75000</td>\n",
       "      <td>E4</td>\n",
       "      <td>1</td>\n",
       "      <td>1</td>\n",
       "    </tr>\n",
       "    <tr>\n",
       "      <th>3</th>\n",
       "      <td>0.0</td>\n",
       "      <td>0.0</td>\n",
       "      <td>NaN</td>\n",
       "      <td>NaN</td>\n",
       "      <td>Empty Land</td>\n",
       "      <td>99000</td>\n",
       "      <td>E4</td>\n",
       "      <td>0</td>\n",
       "      <td>0</td>\n",
       "    </tr>\n",
       "    <tr>\n",
       "      <th>4</th>\n",
       "      <td>3.0</td>\n",
       "      <td>2.0</td>\n",
       "      <td>1245.0</td>\n",
       "      <td>NaN</td>\n",
       "      <td>Residential</td>\n",
       "      <td>94900</td>\n",
       "      <td>E2</td>\n",
       "      <td>0</td>\n",
       "      <td>0</td>\n",
       "    </tr>\n",
       "  </tbody>\n",
       "</table>\n",
       "</div>"
      ],
      "text/plain": [
       "   Beds  Baths  House Size (sqft)  Lot Size (ac)         Type   Price Postal  \\\n",
       "0   3.0    2.0                NaN            NaN  Residential   43000     E4   \n",
       "1   3.0    2.0            10000.0            NaN  Residential  899900     E2   \n",
       "2   3.0    2.0                NaN           1.02  Residential   75000     E4   \n",
       "3   0.0    0.0                NaN            NaN   Empty Land   99000     E4   \n",
       "4   3.0    2.0             1245.0            NaN  Residential   94900     E2   \n",
       "\n",
       "   Missing Beds  Missing Baths  \n",
       "0             1              1  \n",
       "1             1              1  \n",
       "2             1              1  \n",
       "3             0              0  \n",
       "4             0              0  "
      ]
     },
     "execution_count": 23,
     "metadata": {},
     "output_type": "execute_result"
    }
   ],
   "source": [
    "baths_impute = train['Baths'].median(skipna=True)\n",
    "train['Missing Baths'] = 0\n",
    "\n",
    "for ind, typ in tqdm(train['Type'].items(), total = len(train['Type'])):\n",
    "    if typ == 'Empty Land':\n",
    "        train.loc[ind,'Baths'] = 0\n",
    "    elif np.isnan(train.loc[ind,'Baths']):\n",
    "        train.loc[ind,'Baths'] = baths_impute\n",
    "        train.loc[ind,'Missing Baths'] = 1\n",
    "\n",
    "train.head(5)"
   ]
  },
  {
   "cell_type": "markdown",
   "metadata": {},
   "source": [
    "Perhaps if we combine the number of bedrooms and the number of bathrooms into rooms it could probably help with the learning algorithm, and so we create one."
   ]
  },
  {
   "cell_type": "code",
   "execution_count": 24,
   "metadata": {},
   "outputs": [
    {
     "data": {
      "text/html": [
       "<div>\n",
       "<style scoped>\n",
       "    .dataframe tbody tr th:only-of-type {\n",
       "        vertical-align: middle;\n",
       "    }\n",
       "\n",
       "    .dataframe tbody tr th {\n",
       "        vertical-align: top;\n",
       "    }\n",
       "\n",
       "    .dataframe thead th {\n",
       "        text-align: right;\n",
       "    }\n",
       "</style>\n",
       "<table border=\"1\" class=\"dataframe\">\n",
       "  <thead>\n",
       "    <tr style=\"text-align: right;\">\n",
       "      <th></th>\n",
       "      <th>Beds</th>\n",
       "      <th>Baths</th>\n",
       "      <th>House Size (sqft)</th>\n",
       "      <th>Lot Size (ac)</th>\n",
       "      <th>Type</th>\n",
       "      <th>Price</th>\n",
       "      <th>Postal</th>\n",
       "      <th>Missing Beds</th>\n",
       "      <th>Missing Baths</th>\n",
       "      <th>Rooms</th>\n",
       "    </tr>\n",
       "  </thead>\n",
       "  <tbody>\n",
       "    <tr>\n",
       "      <th>0</th>\n",
       "      <td>3.0</td>\n",
       "      <td>2.0</td>\n",
       "      <td>NaN</td>\n",
       "      <td>NaN</td>\n",
       "      <td>Residential</td>\n",
       "      <td>43000</td>\n",
       "      <td>E4</td>\n",
       "      <td>1</td>\n",
       "      <td>1</td>\n",
       "      <td>5.0</td>\n",
       "    </tr>\n",
       "    <tr>\n",
       "      <th>1</th>\n",
       "      <td>3.0</td>\n",
       "      <td>2.0</td>\n",
       "      <td>10000.0</td>\n",
       "      <td>NaN</td>\n",
       "      <td>Residential</td>\n",
       "      <td>899900</td>\n",
       "      <td>E2</td>\n",
       "      <td>1</td>\n",
       "      <td>1</td>\n",
       "      <td>5.0</td>\n",
       "    </tr>\n",
       "    <tr>\n",
       "      <th>2</th>\n",
       "      <td>3.0</td>\n",
       "      <td>2.0</td>\n",
       "      <td>NaN</td>\n",
       "      <td>1.02</td>\n",
       "      <td>Residential</td>\n",
       "      <td>75000</td>\n",
       "      <td>E4</td>\n",
       "      <td>1</td>\n",
       "      <td>1</td>\n",
       "      <td>5.0</td>\n",
       "    </tr>\n",
       "    <tr>\n",
       "      <th>3</th>\n",
       "      <td>0.0</td>\n",
       "      <td>0.0</td>\n",
       "      <td>NaN</td>\n",
       "      <td>NaN</td>\n",
       "      <td>Empty Land</td>\n",
       "      <td>99000</td>\n",
       "      <td>E4</td>\n",
       "      <td>0</td>\n",
       "      <td>0</td>\n",
       "      <td>0.0</td>\n",
       "    </tr>\n",
       "    <tr>\n",
       "      <th>4</th>\n",
       "      <td>3.0</td>\n",
       "      <td>2.0</td>\n",
       "      <td>1245.0</td>\n",
       "      <td>NaN</td>\n",
       "      <td>Residential</td>\n",
       "      <td>94900</td>\n",
       "      <td>E2</td>\n",
       "      <td>0</td>\n",
       "      <td>0</td>\n",
       "      <td>5.0</td>\n",
       "    </tr>\n",
       "  </tbody>\n",
       "</table>\n",
       "</div>"
      ],
      "text/plain": [
       "   Beds  Baths  House Size (sqft)  Lot Size (ac)         Type   Price Postal  \\\n",
       "0   3.0    2.0                NaN            NaN  Residential   43000     E4   \n",
       "1   3.0    2.0            10000.0            NaN  Residential  899900     E2   \n",
       "2   3.0    2.0                NaN           1.02  Residential   75000     E4   \n",
       "3   0.0    0.0                NaN            NaN   Empty Land   99000     E4   \n",
       "4   3.0    2.0             1245.0            NaN  Residential   94900     E2   \n",
       "\n",
       "   Missing Beds  Missing Baths  Rooms  \n",
       "0             1              1    5.0  \n",
       "1             1              1    5.0  \n",
       "2             1              1    5.0  \n",
       "3             0              0    0.0  \n",
       "4             0              0    5.0  "
      ]
     },
     "execution_count": 24,
     "metadata": {},
     "output_type": "execute_result"
    }
   ],
   "source": [
    "train['Rooms'] = train['Beds'] + train['Baths']\n",
    "train.head(5)"
   ]
  },
  {
   "cell_type": "markdown",
   "metadata": {},
   "source": [
    "Now we check the house size and lot size."
   ]
  },
  {
   "cell_type": "code",
   "execution_count": 25,
   "metadata": {},
   "outputs": [
    {
     "name": "stderr",
     "output_type": "stream",
     "text": [
      "/Users/renzoflores/anaconda3/lib/python3.7/site-packages/plotnine/layer.py:369: PlotnineWarning: stat_density : Removed 139 rows containing non-finite values.\n"
     ]
    },
    {
     "data": {
      "image/png": "[encoded data removed]",
      "text/plain": [
       "<Figure size 640x480 with 1 Axes>"
      ]
     },
     "metadata": {},
     "output_type": "display_data"
    },
    {
     "data": {
      "text/plain": [
       "<ggplot: (7012525293)>"
      ]
     },
     "execution_count": 25,
     "metadata": {},
     "output_type": "execute_result"
    }
   ],
   "source": [
    "df = train[train['Type'] == 'Residential']\n",
    "ggplot(df, aes(x='House Size (sqft)')) + geom_density()"
   ]
  },
  {
   "cell_type": "code",
   "execution_count": 26,
   "metadata": {
    "scrolled": false
   },
   "outputs": [
    {
     "name": "stderr",
     "output_type": "stream",
     "text": [
      "/Users/renzoflores/anaconda3/lib/python3.7/site-packages/plotnine/layer.py:369: PlotnineWarning: stat_density : Removed 76 rows containing non-finite values.\n"
     ]
    },
    {
     "data": {
      "image/png": "[encoded data removed]",
      "text/plain": [
       "<Figure size 640x480 with 1 Axes>"
      ]
     },
     "metadata": {},
     "output_type": "display_data"
    },
    {
     "data": {
      "text/plain": [
       "<ggplot: (7012544981)>"
      ]
     },
     "execution_count": 26,
     "metadata": {},
     "output_type": "execute_result"
    }
   ],
   "source": [
    "df = train[train['Type'] == 'Empty Land']\n",
    "ggplot(df, aes(x='Lot Size (ac)')) + geom_density()"
   ]
  },
  {
   "cell_type": "code",
   "execution_count": 27,
   "metadata": {},
   "outputs": [
    {
     "name": "stderr",
     "output_type": "stream",
     "text": [
      "/Users/renzoflores/anaconda3/lib/python3.7/site-packages/plotnine/layer.py:369: PlotnineWarning: stat_density : Removed 281 rows containing non-finite values.\n"
     ]
    },
    {
     "data": {
      "image/png": "[encoded data removed]",
      "text/plain": [
       "<Figure size 640x480 with 1 Axes>"
      ]
     },
     "metadata": {},
     "output_type": "display_data"
    },
    {
     "data": {
      "text/plain": [
       "<ggplot: (7012544873)>"
      ]
     },
     "execution_count": 27,
     "metadata": {},
     "output_type": "execute_result"
    }
   ],
   "source": [
    "df = train[train['Type'] == 'Residential']\n",
    "ggplot(df, aes(x='Lot Size (ac)')) + geom_density()"
   ]
  },
  {
   "cell_type": "markdown",
   "metadata": {},
   "source": [
    "Once again, all distributions are skewed to the right, so we impute with their median."
   ]
  },
  {
   "cell_type": "code",
   "execution_count": 28,
   "metadata": {},
   "outputs": [
    {
     "data": {
      "application/vnd.jupyter.widget-view+json": {
       "model_id": "3e0593bdaedb4d87aae6f6426b6d2ec8",
       "version_major": 2,
       "version_minor": 0
      },
      "text/plain": [
       "HBox(children=(FloatProgress(value=0.0, max=537.0), HTML(value='')))"
      ]
     },
     "metadata": {},
     "output_type": "display_data"
    },
    {
     "name": "stdout",
     "output_type": "stream",
     "text": [
      "\n"
     ]
    }
   ],
   "source": [
    "train['Missing House'] = 0\n",
    "train['Missing Land'] = 0\n",
    "\n",
    "for ind, typ in tqdm(train['Type'].items(), total=len(train['Type'])):\n",
    "    if typ == 'Empty Land':\n",
    "        train.loc[ind,'House Size (sqft)'] = 0\n",
    "        \n",
    "        if np.isnan(train.loc[ind,'Lot Size (ac)']):\n",
    "            train.loc[ind,'Lot Size (ac)'] = train[train['Type'] == typ]['Lot Size (ac)'].median(skipna=True)\n",
    "            train.loc[ind,'Missing Land'] = 1\n",
    "            \n",
    "    elif typ == 'Residential':\n",
    "        \n",
    "        if np.isnan(train.loc[ind,'House Size (sqft)']):\n",
    "            train.loc[ind, 'House Size (sqft)'] = train[train['Type'] == typ]['House Size (sqft)'].median(skipna=True)\n",
    "            train.loc[ind, 'Missing House'] = 1\n",
    "        \n",
    "        if np.isnan(train.loc[ind,'Lot Size (ac)']):\n",
    "            train.loc[ind,'Lot Size (ac)'] = train[train['Type'] == typ]['Lot Size (ac)'].median(skipna=True)\n",
    "            train.loc[ind, 'Missing Land'] = 1"
   ]
  },
  {
   "cell_type": "code",
   "execution_count": 29,
   "metadata": {},
   "outputs": [
    {
     "data": {
      "text/html": [
       "<div>\n",
       "<style scoped>\n",
       "    .dataframe tbody tr th:only-of-type {\n",
       "        vertical-align: middle;\n",
       "    }\n",
       "\n",
       "    .dataframe tbody tr th {\n",
       "        vertical-align: top;\n",
       "    }\n",
       "\n",
       "    .dataframe thead th {\n",
       "        text-align: right;\n",
       "    }\n",
       "</style>\n",
       "<table border=\"1\" class=\"dataframe\">\n",
       "  <thead>\n",
       "    <tr style=\"text-align: right;\">\n",
       "      <th></th>\n",
       "      <th>Beds</th>\n",
       "      <th>Baths</th>\n",
       "      <th>House Size (sqft)</th>\n",
       "      <th>Lot Size (ac)</th>\n",
       "      <th>Type</th>\n",
       "      <th>Price</th>\n",
       "      <th>Postal</th>\n",
       "      <th>Missing Beds</th>\n",
       "      <th>Missing Baths</th>\n",
       "      <th>Rooms</th>\n",
       "      <th>Missing House</th>\n",
       "      <th>Missing Land</th>\n",
       "    </tr>\n",
       "  </thead>\n",
       "  <tbody>\n",
       "    <tr>\n",
       "      <th>0</th>\n",
       "      <td>3.0</td>\n",
       "      <td>2.0</td>\n",
       "      <td>1575.0</td>\n",
       "      <td>0.68</td>\n",
       "      <td>Residential</td>\n",
       "      <td>43000</td>\n",
       "      <td>E4</td>\n",
       "      <td>1</td>\n",
       "      <td>1</td>\n",
       "      <td>5.0</td>\n",
       "      <td>1</td>\n",
       "      <td>1</td>\n",
       "    </tr>\n",
       "    <tr>\n",
       "      <th>1</th>\n",
       "      <td>3.0</td>\n",
       "      <td>2.0</td>\n",
       "      <td>10000.0</td>\n",
       "      <td>0.68</td>\n",
       "      <td>Residential</td>\n",
       "      <td>899900</td>\n",
       "      <td>E2</td>\n",
       "      <td>1</td>\n",
       "      <td>1</td>\n",
       "      <td>5.0</td>\n",
       "      <td>0</td>\n",
       "      <td>1</td>\n",
       "    </tr>\n",
       "    <tr>\n",
       "      <th>2</th>\n",
       "      <td>3.0</td>\n",
       "      <td>2.0</td>\n",
       "      <td>1575.0</td>\n",
       "      <td>1.02</td>\n",
       "      <td>Residential</td>\n",
       "      <td>75000</td>\n",
       "      <td>E4</td>\n",
       "      <td>1</td>\n",
       "      <td>1</td>\n",
       "      <td>5.0</td>\n",
       "      <td>1</td>\n",
       "      <td>0</td>\n",
       "    </tr>\n",
       "    <tr>\n",
       "      <th>3</th>\n",
       "      <td>0.0</td>\n",
       "      <td>0.0</td>\n",
       "      <td>0.0</td>\n",
       "      <td>1.80</td>\n",
       "      <td>Empty Land</td>\n",
       "      <td>99000</td>\n",
       "      <td>E4</td>\n",
       "      <td>0</td>\n",
       "      <td>0</td>\n",
       "      <td>0.0</td>\n",
       "      <td>0</td>\n",
       "      <td>1</td>\n",
       "    </tr>\n",
       "    <tr>\n",
       "      <th>4</th>\n",
       "      <td>3.0</td>\n",
       "      <td>2.0</td>\n",
       "      <td>1245.0</td>\n",
       "      <td>0.68</td>\n",
       "      <td>Residential</td>\n",
       "      <td>94900</td>\n",
       "      <td>E2</td>\n",
       "      <td>0</td>\n",
       "      <td>0</td>\n",
       "      <td>5.0</td>\n",
       "      <td>0</td>\n",
       "      <td>1</td>\n",
       "    </tr>\n",
       "  </tbody>\n",
       "</table>\n",
       "</div>"
      ],
      "text/plain": [
       "   Beds  Baths  House Size (sqft)  Lot Size (ac)         Type   Price Postal  \\\n",
       "0   3.0    2.0             1575.0           0.68  Residential   43000     E4   \n",
       "1   3.0    2.0            10000.0           0.68  Residential  899900     E2   \n",
       "2   3.0    2.0             1575.0           1.02  Residential   75000     E4   \n",
       "3   0.0    0.0                0.0           1.80   Empty Land   99000     E4   \n",
       "4   3.0    2.0             1245.0           0.68  Residential   94900     E2   \n",
       "\n",
       "   Missing Beds  Missing Baths  Rooms  Missing House  Missing Land  \n",
       "0             1              1    5.0              1             1  \n",
       "1             1              1    5.0              0             1  \n",
       "2             1              1    5.0              1             0  \n",
       "3             0              0    0.0              0             1  \n",
       "4             0              0    5.0              0             1  "
      ]
     },
     "execution_count": 29,
     "metadata": {},
     "output_type": "execute_result"
    }
   ],
   "source": [
    "train.head(5)"
   ]
  },
  {
   "cell_type": "code",
   "execution_count": 30,
   "metadata": {},
   "outputs": [],
   "source": [
    "# save file\n",
    "train.to_csv('train_cleaned.csv',index=False)"
   ]
  },
  {
   "cell_type": "code",
   "execution_count": null,
   "metadata": {},
   "outputs": [],
   "source": []
  }
 ],
 "metadata": {
  "kernelspec": {
   "display_name": "Python 3",
   "language": "python",
   "name": "python3"
  },
  "language_info": {
   "codemirror_mode": {
    "name": "ipython",
    "version": 3
   },
   "file_extension": ".py",
   "mimetype": "text/x-python",
   "name": "python",
   "nbconvert_exporter": "python",
   "pygments_lexer": "ipython3",
   "version": "3.7.7"
  }
 },
 "nbformat": 4,
 "nbformat_minor": 4
}
