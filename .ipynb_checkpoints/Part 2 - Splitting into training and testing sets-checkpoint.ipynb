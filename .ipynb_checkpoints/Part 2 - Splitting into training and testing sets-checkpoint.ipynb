{
 "cells": [
  {
   "cell_type": "markdown",
   "metadata": {},
   "source": [
    "# Houses and Empty Lots for Sale in New Brunswick (as of June 12, 2020)\n",
    "\n",
    "In this project, I scraped data from this [website](https://www.point2homes.com/CA/Real-Estate-Listings/NB.html) which lists houses and \n",
    "empty lots for sale. The selling price is listed along with the lot size. For houses, the number of bedrooms, bathrooms, the house size the house type are also given.\n",
    "\n",
    "## 2. Training and Validation Sets\n",
    "\n",
    "In order to implement any machine learning algorithms on the data, we must split the dataset into a training set and validation set. For this analysis, 85% of the data will be used for training, while 15% will be used for validation. "
   ]
  },
  {
   "cell_type": "code",
   "execution_count": 1,
   "metadata": {
    "scrolled": true
   },
   "outputs": [
    {
     "data": {
      "text/html": [
       "<div>\n",
       "<style scoped>\n",
       "    .dataframe tbody tr th:only-of-type {\n",
       "        vertical-align: middle;\n",
       "    }\n",
       "\n",
       "    .dataframe tbody tr th {\n",
       "        vertical-align: top;\n",
       "    }\n",
       "\n",
       "    .dataframe thead th {\n",
       "        text-align: right;\n",
       "    }\n",
       "</style>\n",
       "<table border=\"1\" class=\"dataframe\">\n",
       "  <thead>\n",
       "    <tr style=\"text-align: right;\">\n",
       "      <th></th>\n",
       "      <th>Address</th>\n",
       "      <th>Beds</th>\n",
       "      <th>Baths</th>\n",
       "      <th>House Size (sqft)</th>\n",
       "      <th>Lot Size (ac)</th>\n",
       "      <th>Type</th>\n",
       "      <th>Price</th>\n",
       "      <th>Postal Code</th>\n",
       "    </tr>\n",
       "  </thead>\n",
       "  <tbody>\n",
       "    <tr>\n",
       "      <th>0</th>\n",
       "      <td>10 Robin Dr, Fredericton, New Brunswick, E3C 1K6</td>\n",
       "      <td>5.0</td>\n",
       "      <td>2.0</td>\n",
       "      <td>1600.0</td>\n",
       "      <td>0.177</td>\n",
       "      <td>Residential</td>\n",
       "      <td>259900</td>\n",
       "      <td>E3C 1K6</td>\n",
       "    </tr>\n",
       "    <tr>\n",
       "      <th>1</th>\n",
       "      <td>03-2 Glebe Rd, Saint Andrews, New Brunswick</td>\n",
       "      <td>NaN</td>\n",
       "      <td>NaN</td>\n",
       "      <td>NaN</td>\n",
       "      <td>1.140</td>\n",
       "      <td>Residential</td>\n",
       "      <td>11400</td>\n",
       "      <td>E5B2Z5</td>\n",
       "    </tr>\n",
       "    <tr>\n",
       "      <th>2</th>\n",
       "      <td>62 Parkin Street, Salisbury, New Brunswick, E4...</td>\n",
       "      <td>3.0</td>\n",
       "      <td>2.0</td>\n",
       "      <td>3790.0</td>\n",
       "      <td>0.850</td>\n",
       "      <td>Residential</td>\n",
       "      <td>549900</td>\n",
       "      <td>E4J 2N3</td>\n",
       "    </tr>\n",
       "    <tr>\n",
       "      <th>3</th>\n",
       "      <td>14 Murray Lane, St. Andrews, New Brunswick</td>\n",
       "      <td>4.0</td>\n",
       "      <td>2.0</td>\n",
       "      <td>2200.0</td>\n",
       "      <td>1.150</td>\n",
       "      <td>Residential</td>\n",
       "      <td>449500</td>\n",
       "      <td>E3L4M6</td>\n",
       "    </tr>\n",
       "    <tr>\n",
       "      <th>4</th>\n",
       "      <td>140 Orleans St., Dieppe, New Brunswick, E1A 1W9</td>\n",
       "      <td>4.0</td>\n",
       "      <td>3.0</td>\n",
       "      <td>2808.0</td>\n",
       "      <td>0.124</td>\n",
       "      <td>Residential</td>\n",
       "      <td>236900</td>\n",
       "      <td>E1A 1W9</td>\n",
       "    </tr>\n",
       "  </tbody>\n",
       "</table>\n",
       "</div>"
      ],
      "text/plain": [
       "                                             Address  Beds  Baths  \\\n",
       "0   10 Robin Dr, Fredericton, New Brunswick, E3C 1K6   5.0    2.0   \n",
       "1        03-2 Glebe Rd, Saint Andrews, New Brunswick   NaN    NaN   \n",
       "2  62 Parkin Street, Salisbury, New Brunswick, E4...   3.0    2.0   \n",
       "3         14 Murray Lane, St. Andrews, New Brunswick   4.0    2.0   \n",
       "4    140 Orleans St., Dieppe, New Brunswick, E1A 1W9   4.0    3.0   \n",
       "\n",
       "   House Size (sqft)  Lot Size (ac)                             Type   Price  \\\n",
       "0             1600.0          0.177              Residential          259900   \n",
       "1                NaN          1.140              Residential           11400   \n",
       "2             3790.0          0.850              Residential          549900   \n",
       "3             2200.0          1.150              Residential          449500   \n",
       "4             2808.0          0.124              Residential          236900   \n",
       "\n",
       "  Postal Code  \n",
       "0     E3C 1K6  \n",
       "1      E5B2Z5  \n",
       "2     E4J 2N3  \n",
       "3      E3L4M6  \n",
       "4     E1A 1W9  "
      ]
     },
     "execution_count": 1,
     "metadata": {},
     "output_type": "execute_result"
    }
   ],
   "source": [
    "# load libraries\n",
    "import numpy as np\n",
    "import pandas as pd\n",
    "from sklearn.model_selection import train_test_split\n",
    "import re\n",
    "from tqdm.notebook import tqdm\n",
    "\n",
    "# load dataset\n",
    "df = pd.read_csv('houseprice_withpostalcodes.csv')\n",
    "\n",
    "# look at first 5 rows\n",
    "df.head(5)"
   ]
  },
  {
   "cell_type": "markdown",
   "metadata": {},
   "source": [
    "Believe it or not, the website lists duplicate addresses."
   ]
  },
  {
   "cell_type": "code",
   "execution_count": 2,
   "metadata": {},
   "outputs": [
    {
     "name": "stdout",
     "output_type": "stream",
     "text": [
      "Out of 720 addresses, 643 addresses are unique.\n"
     ]
    }
   ],
   "source": [
    "print('Out of', len(df.Address), 'addresses,', len(df.Address.unique()),'addresses are unique.')"
   ]
  },
  {
   "cell_type": "markdown",
   "metadata": {},
   "source": [
    "and so we remove these duplicates."
   ]
  },
  {
   "cell_type": "code",
   "execution_count": 3,
   "metadata": {
    "scrolled": true
   },
   "outputs": [
    {
     "data": {
      "text/html": [
       "<div>\n",
       "<style scoped>\n",
       "    .dataframe tbody tr th:only-of-type {\n",
       "        vertical-align: middle;\n",
       "    }\n",
       "\n",
       "    .dataframe tbody tr th {\n",
       "        vertical-align: top;\n",
       "    }\n",
       "\n",
       "    .dataframe thead th {\n",
       "        text-align: right;\n",
       "    }\n",
       "</style>\n",
       "<table border=\"1\" class=\"dataframe\">\n",
       "  <thead>\n",
       "    <tr style=\"text-align: right;\">\n",
       "      <th></th>\n",
       "      <th>Address</th>\n",
       "      <th>Beds</th>\n",
       "      <th>Baths</th>\n",
       "      <th>House Size (sqft)</th>\n",
       "      <th>Lot Size (ac)</th>\n",
       "      <th>Type</th>\n",
       "      <th>Price</th>\n",
       "      <th>Postal Code</th>\n",
       "    </tr>\n",
       "  </thead>\n",
       "  <tbody>\n",
       "    <tr>\n",
       "      <th>0</th>\n",
       "      <td>10 Robin Dr, Fredericton, New Brunswick, E3C 1K6</td>\n",
       "      <td>5.0</td>\n",
       "      <td>2.0</td>\n",
       "      <td>1600.0</td>\n",
       "      <td>0.177</td>\n",
       "      <td>Residential</td>\n",
       "      <td>259900</td>\n",
       "      <td>E3C 1K6</td>\n",
       "    </tr>\n",
       "    <tr>\n",
       "      <th>1</th>\n",
       "      <td>03-2 Glebe Rd, Saint Andrews, New Brunswick</td>\n",
       "      <td>NaN</td>\n",
       "      <td>NaN</td>\n",
       "      <td>NaN</td>\n",
       "      <td>1.140</td>\n",
       "      <td>Residential</td>\n",
       "      <td>11400</td>\n",
       "      <td>E5B2Z5</td>\n",
       "    </tr>\n",
       "    <tr>\n",
       "      <th>2</th>\n",
       "      <td>62 Parkin Street, Salisbury, New Brunswick, E4...</td>\n",
       "      <td>3.0</td>\n",
       "      <td>2.0</td>\n",
       "      <td>3790.0</td>\n",
       "      <td>0.850</td>\n",
       "      <td>Residential</td>\n",
       "      <td>549900</td>\n",
       "      <td>E4J 2N3</td>\n",
       "    </tr>\n",
       "    <tr>\n",
       "      <th>3</th>\n",
       "      <td>14 Murray Lane, St. Andrews, New Brunswick</td>\n",
       "      <td>4.0</td>\n",
       "      <td>2.0</td>\n",
       "      <td>2200.0</td>\n",
       "      <td>1.150</td>\n",
       "      <td>Residential</td>\n",
       "      <td>449500</td>\n",
       "      <td>E3L4M6</td>\n",
       "    </tr>\n",
       "    <tr>\n",
       "      <th>4</th>\n",
       "      <td>140 Orleans St., Dieppe, New Brunswick, E1A 1W9</td>\n",
       "      <td>4.0</td>\n",
       "      <td>3.0</td>\n",
       "      <td>2808.0</td>\n",
       "      <td>0.124</td>\n",
       "      <td>Residential</td>\n",
       "      <td>236900</td>\n",
       "      <td>E1A 1W9</td>\n",
       "    </tr>\n",
       "  </tbody>\n",
       "</table>\n",
       "</div>"
      ],
      "text/plain": [
       "                                             Address  Beds  Baths  \\\n",
       "0   10 Robin Dr, Fredericton, New Brunswick, E3C 1K6   5.0    2.0   \n",
       "1        03-2 Glebe Rd, Saint Andrews, New Brunswick   NaN    NaN   \n",
       "2  62 Parkin Street, Salisbury, New Brunswick, E4...   3.0    2.0   \n",
       "3         14 Murray Lane, St. Andrews, New Brunswick   4.0    2.0   \n",
       "4    140 Orleans St., Dieppe, New Brunswick, E1A 1W9   4.0    3.0   \n",
       "\n",
       "   House Size (sqft)  Lot Size (ac)                             Type   Price  \\\n",
       "0             1600.0          0.177              Residential          259900   \n",
       "1                NaN          1.140              Residential           11400   \n",
       "2             3790.0          0.850              Residential          549900   \n",
       "3             2200.0          1.150              Residential          449500   \n",
       "4             2808.0          0.124              Residential          236900   \n",
       "\n",
       "  Postal Code  \n",
       "0     E3C 1K6  \n",
       "1      E5B2Z5  \n",
       "2     E4J 2N3  \n",
       "3      E3L4M6  \n",
       "4     E1A 1W9  "
      ]
     },
     "execution_count": 3,
     "metadata": {},
     "output_type": "execute_result"
    }
   ],
   "source": [
    "df.drop_duplicates(subset='Address',keep='first',inplace=True,ignore_index=True)\n",
    "\n",
    "df.head(5)"
   ]
  },
  {
   "cell_type": "code",
   "execution_count": 4,
   "metadata": {},
   "outputs": [
    {
     "data": {
      "text/plain": [
       "643"
      ]
     },
     "execution_count": 4,
     "metadata": {},
     "output_type": "execute_result"
    }
   ],
   "source": [
    "# check new length\n",
    "len(df['Address'])"
   ]
  },
  {
   "cell_type": "markdown",
   "metadata": {},
   "source": [
    "Before we split the data, we have to check first if there is a class imbalance on the type of house (or land)."
   ]
  },
  {
   "cell_type": "code",
   "execution_count": 5,
   "metadata": {},
   "outputs": [
    {
     "data": {
      "text/plain": [
       "array(['            Residential        ',\n",
       "       '            Single Family        ',\n",
       "       '            Vacant Land        ',\n",
       "       '            Multi-family        ',\n",
       "       '            Lots and Land        ',\n",
       "       '            Lots And Land        ', '            Other        ',\n",
       "       '            MultiFamily        ',\n",
       "       '            Condominium        ',\n",
       "       '            Farm And Agriculture        '], dtype=object)"
      ]
     },
     "execution_count": 5,
     "metadata": {},
     "output_type": "execute_result"
    }
   ],
   "source": [
    "# load data visualization library\n",
    "from plotnine import *\n",
    "\n",
    "# check unique values for type\n",
    "df['Type'].unique()"
   ]
  },
  {
   "cell_type": "markdown",
   "metadata": {},
   "source": [
    "Multi-family and MultiFamily are essentially the same. There are also two entries of Lots And Land. We can easily fix this."
   ]
  },
  {
   "cell_type": "code",
   "execution_count": 6,
   "metadata": {},
   "outputs": [
    {
     "data": {
      "application/vnd.jupyter.widget-view+json": {
       "model_id": "83e469508ead4015804ec8d01b3507eb",
       "version_major": 2,
       "version_minor": 0
      },
      "text/plain": [
       "HBox(children=(FloatProgress(value=0.0, max=643.0), HTML(value='')))"
      ]
     },
     "metadata": {},
     "output_type": "display_data"
    },
    {
     "name": "stdout",
     "output_type": "stream",
     "text": [
      "\n"
     ]
    },
    {
     "data": {
      "text/html": [
       "<div>\n",
       "<style scoped>\n",
       "    .dataframe tbody tr th:only-of-type {\n",
       "        vertical-align: middle;\n",
       "    }\n",
       "\n",
       "    .dataframe tbody tr th {\n",
       "        vertical-align: top;\n",
       "    }\n",
       "\n",
       "    .dataframe thead th {\n",
       "        text-align: right;\n",
       "    }\n",
       "</style>\n",
       "<table border=\"1\" class=\"dataframe\">\n",
       "  <thead>\n",
       "    <tr style=\"text-align: right;\">\n",
       "      <th></th>\n",
       "      <th>Address</th>\n",
       "      <th>Beds</th>\n",
       "      <th>Baths</th>\n",
       "      <th>House Size (sqft)</th>\n",
       "      <th>Lot Size (ac)</th>\n",
       "      <th>Type</th>\n",
       "      <th>Price</th>\n",
       "      <th>Postal Code</th>\n",
       "    </tr>\n",
       "  </thead>\n",
       "  <tbody>\n",
       "    <tr>\n",
       "      <th>0</th>\n",
       "      <td>10 Robin Dr, Fredericton, New Brunswick, E3C 1K6</td>\n",
       "      <td>5.0</td>\n",
       "      <td>2.0</td>\n",
       "      <td>1600.0</td>\n",
       "      <td>0.177</td>\n",
       "      <td>Residential</td>\n",
       "      <td>259900</td>\n",
       "      <td>E3C 1K6</td>\n",
       "    </tr>\n",
       "    <tr>\n",
       "      <th>1</th>\n",
       "      <td>03-2 Glebe Rd, Saint Andrews, New Brunswick</td>\n",
       "      <td>NaN</td>\n",
       "      <td>NaN</td>\n",
       "      <td>NaN</td>\n",
       "      <td>1.140</td>\n",
       "      <td>Residential</td>\n",
       "      <td>11400</td>\n",
       "      <td>E5B2Z5</td>\n",
       "    </tr>\n",
       "    <tr>\n",
       "      <th>2</th>\n",
       "      <td>62 Parkin Street, Salisbury, New Brunswick, E4...</td>\n",
       "      <td>3.0</td>\n",
       "      <td>2.0</td>\n",
       "      <td>3790.0</td>\n",
       "      <td>0.850</td>\n",
       "      <td>Residential</td>\n",
       "      <td>549900</td>\n",
       "      <td>E4J 2N3</td>\n",
       "    </tr>\n",
       "    <tr>\n",
       "      <th>3</th>\n",
       "      <td>14 Murray Lane, St. Andrews, New Brunswick</td>\n",
       "      <td>4.0</td>\n",
       "      <td>2.0</td>\n",
       "      <td>2200.0</td>\n",
       "      <td>1.150</td>\n",
       "      <td>Residential</td>\n",
       "      <td>449500</td>\n",
       "      <td>E3L4M6</td>\n",
       "    </tr>\n",
       "    <tr>\n",
       "      <th>4</th>\n",
       "      <td>140 Orleans St., Dieppe, New Brunswick, E1A 1W9</td>\n",
       "      <td>4.0</td>\n",
       "      <td>3.0</td>\n",
       "      <td>2808.0</td>\n",
       "      <td>0.124</td>\n",
       "      <td>Residential</td>\n",
       "      <td>236900</td>\n",
       "      <td>E1A 1W9</td>\n",
       "    </tr>\n",
       "  </tbody>\n",
       "</table>\n",
       "</div>"
      ],
      "text/plain": [
       "                                             Address  Beds  Baths  \\\n",
       "0   10 Robin Dr, Fredericton, New Brunswick, E3C 1K6   5.0    2.0   \n",
       "1        03-2 Glebe Rd, Saint Andrews, New Brunswick   NaN    NaN   \n",
       "2  62 Parkin Street, Salisbury, New Brunswick, E4...   3.0    2.0   \n",
       "3         14 Murray Lane, St. Andrews, New Brunswick   4.0    2.0   \n",
       "4    140 Orleans St., Dieppe, New Brunswick, E1A 1W9   4.0    3.0   \n",
       "\n",
       "   House Size (sqft)  Lot Size (ac)         Type   Price Postal Code  \n",
       "0             1600.0          0.177  Residential  259900     E3C 1K6  \n",
       "1                NaN          1.140  Residential   11400      E5B2Z5  \n",
       "2             3790.0          0.850  Residential  549900     E4J 2N3  \n",
       "3             2200.0          1.150  Residential  449500      E3L4M6  \n",
       "4             2808.0          0.124  Residential  236900     E1A 1W9  "
      ]
     },
     "execution_count": 6,
     "metadata": {},
     "output_type": "execute_result"
    }
   ],
   "source": [
    "for index, typ in tqdm(df['Type'].items(), total=len(df['Type'])):\n",
    "    \n",
    "    # remove unnecessary spaces\n",
    "    typ = re.search('[A-Z].*[a-z]',typ)\n",
    "    typ = typ.group(0)\n",
    "    \n",
    "    if typ == 'Multi-family' or typ == 'MultiFamily':\n",
    "        df.loc[index,'Type'] = 'Multifamily'\n",
    "    elif typ == 'Lots And Land' or typ == 'Lots and Land':\n",
    "        df.loc[index,'Type'] = 'Lots And Land'\n",
    "    else:\n",
    "        df.loc[index,'Type'] = typ\n",
    "\n",
    "df.head(5)"
   ]
  },
  {
   "cell_type": "code",
   "execution_count": 7,
   "metadata": {},
   "outputs": [
    {
     "data": {
      "text/plain": [
       "Single Family           246\n",
       "Residential             210\n",
       "Lots And Land           107\n",
       "Vacant Land              51\n",
       "Multifamily              18\n",
       "Other                     6\n",
       "Condominium               3\n",
       "Farm And Agriculture      2\n",
       "Name: Type, dtype: int64"
      ]
     },
     "execution_count": 7,
     "metadata": {},
     "output_type": "execute_result"
    }
   ],
   "source": [
    "# check counts of df['Type']\n",
    "type_counts = df['Type'].value_counts()\n",
    "type_counts"
   ]
  },
  {
   "cell_type": "markdown",
   "metadata": {},
   "source": [
    "There are certainly class imbalances. Only two farm and agriculture lands and 277 single family homes. We need to sample the validation accordingly to represent the same proportions in both the training and validation sets. We may as well combine **Lots And Land** and **Vacant Land** into Empty Land, and combine **Multifamily** with **Single Family** to produce **Family**, and since there are only a few instances of **Other**, **Condominium** and **Farm and Agriculture** types, we'll just omit them."
   ]
  },
  {
   "cell_type": "code",
   "execution_count": 8,
   "metadata": {},
   "outputs": [
    {
     "data": {
      "text/plain": [
       "array(['Residential', 'Single Family', 'Vacant Land', 'Multifamily',\n",
       "       'Lots And Land'], dtype=object)"
      ]
     },
     "execution_count": 8,
     "metadata": {},
     "output_type": "execute_result"
    }
   ],
   "source": [
    "df = df[(df.Type != 'Condominium') & (df.Type != 'Farm And Agriculture') & (df.Type != 'Other')]\n",
    "df.Type.unique()"
   ]
  },
  {
   "cell_type": "code",
   "execution_count": 9,
   "metadata": {},
   "outputs": [
    {
     "data": {
      "text/plain": [
       "632"
      ]
     },
     "execution_count": 9,
     "metadata": {},
     "output_type": "execute_result"
    }
   ],
   "source": [
    "# check new length\n",
    "len(df['Type'])"
   ]
  },
  {
   "cell_type": "code",
   "execution_count": 10,
   "metadata": {},
   "outputs": [
    {
     "data": {
      "application/vnd.jupyter.widget-view+json": {
       "model_id": "5185f1bc4ae9404db428946d01e3f304",
       "version_major": 2,
       "version_minor": 0
      },
      "text/plain": [
       "HBox(children=(FloatProgress(value=0.0, max=632.0), HTML(value='')))"
      ]
     },
     "metadata": {},
     "output_type": "display_data"
    },
    {
     "name": "stdout",
     "output_type": "stream",
     "text": [
      "\n"
     ]
    },
    {
     "data": {
      "text/html": [
       "<div>\n",
       "<style scoped>\n",
       "    .dataframe tbody tr th:only-of-type {\n",
       "        vertical-align: middle;\n",
       "    }\n",
       "\n",
       "    .dataframe tbody tr th {\n",
       "        vertical-align: top;\n",
       "    }\n",
       "\n",
       "    .dataframe thead th {\n",
       "        text-align: right;\n",
       "    }\n",
       "</style>\n",
       "<table border=\"1\" class=\"dataframe\">\n",
       "  <thead>\n",
       "    <tr style=\"text-align: right;\">\n",
       "      <th></th>\n",
       "      <th>Address</th>\n",
       "      <th>Beds</th>\n",
       "      <th>Baths</th>\n",
       "      <th>House Size (sqft)</th>\n",
       "      <th>Lot Size (ac)</th>\n",
       "      <th>Type</th>\n",
       "      <th>Price</th>\n",
       "      <th>Postal Code</th>\n",
       "    </tr>\n",
       "  </thead>\n",
       "  <tbody>\n",
       "    <tr>\n",
       "      <th>0</th>\n",
       "      <td>10 Robin Dr, Fredericton, New Brunswick, E3C 1K6</td>\n",
       "      <td>5.0</td>\n",
       "      <td>2.0</td>\n",
       "      <td>1600.0</td>\n",
       "      <td>0.177</td>\n",
       "      <td>Residential</td>\n",
       "      <td>259900</td>\n",
       "      <td>E3C 1K6</td>\n",
       "    </tr>\n",
       "    <tr>\n",
       "      <th>1</th>\n",
       "      <td>03-2 Glebe Rd, Saint Andrews, New Brunswick</td>\n",
       "      <td>NaN</td>\n",
       "      <td>NaN</td>\n",
       "      <td>NaN</td>\n",
       "      <td>1.140</td>\n",
       "      <td>Residential</td>\n",
       "      <td>11400</td>\n",
       "      <td>E5B2Z5</td>\n",
       "    </tr>\n",
       "    <tr>\n",
       "      <th>2</th>\n",
       "      <td>62 Parkin Street, Salisbury, New Brunswick, E4...</td>\n",
       "      <td>3.0</td>\n",
       "      <td>2.0</td>\n",
       "      <td>3790.0</td>\n",
       "      <td>0.850</td>\n",
       "      <td>Residential</td>\n",
       "      <td>549900</td>\n",
       "      <td>E4J 2N3</td>\n",
       "    </tr>\n",
       "    <tr>\n",
       "      <th>3</th>\n",
       "      <td>14 Murray Lane, St. Andrews, New Brunswick</td>\n",
       "      <td>4.0</td>\n",
       "      <td>2.0</td>\n",
       "      <td>2200.0</td>\n",
       "      <td>1.150</td>\n",
       "      <td>Residential</td>\n",
       "      <td>449500</td>\n",
       "      <td>E3L4M6</td>\n",
       "    </tr>\n",
       "    <tr>\n",
       "      <th>4</th>\n",
       "      <td>140 Orleans St., Dieppe, New Brunswick, E1A 1W9</td>\n",
       "      <td>4.0</td>\n",
       "      <td>3.0</td>\n",
       "      <td>2808.0</td>\n",
       "      <td>0.124</td>\n",
       "      <td>Residential</td>\n",
       "      <td>236900</td>\n",
       "      <td>E1A 1W9</td>\n",
       "    </tr>\n",
       "  </tbody>\n",
       "</table>\n",
       "</div>"
      ],
      "text/plain": [
       "                                             Address  Beds  Baths  \\\n",
       "0   10 Robin Dr, Fredericton, New Brunswick, E3C 1K6   5.0    2.0   \n",
       "1        03-2 Glebe Rd, Saint Andrews, New Brunswick   NaN    NaN   \n",
       "2  62 Parkin Street, Salisbury, New Brunswick, E4...   3.0    2.0   \n",
       "3         14 Murray Lane, St. Andrews, New Brunswick   4.0    2.0   \n",
       "4    140 Orleans St., Dieppe, New Brunswick, E1A 1W9   4.0    3.0   \n",
       "\n",
       "   House Size (sqft)  Lot Size (ac)         Type   Price Postal Code  \n",
       "0             1600.0          0.177  Residential  259900     E3C 1K6  \n",
       "1                NaN          1.140  Residential   11400      E5B2Z5  \n",
       "2             3790.0          0.850  Residential  549900     E4J 2N3  \n",
       "3             2200.0          1.150  Residential  449500      E3L4M6  \n",
       "4             2808.0          0.124  Residential  236900     E1A 1W9  "
      ]
     },
     "execution_count": 10,
     "metadata": {},
     "output_type": "execute_result"
    }
   ],
   "source": [
    "for index, typ in tqdm(df['Type'].items(), total=len(df['Type'])):\n",
    "    if typ == 'Multifamily' or typ == 'Single Family':\n",
    "        df.loc[index,'Type'] = 'Family'\n",
    "    elif typ == 'Lots And Land' or typ == 'Vacant Land':\n",
    "        df.loc[index,'Type'] = 'Empty Land'\n",
    "\n",
    "df.head(5)"
   ]
  },
  {
   "cell_type": "code",
   "execution_count": 11,
   "metadata": {
    "scrolled": true
   },
   "outputs": [
    {
     "data": {
      "text/html": [
       "<div>\n",
       "<style scoped>\n",
       "    .dataframe tbody tr th:only-of-type {\n",
       "        vertical-align: middle;\n",
       "    }\n",
       "\n",
       "    .dataframe tbody tr th {\n",
       "        vertical-align: top;\n",
       "    }\n",
       "\n",
       "    .dataframe thead th {\n",
       "        text-align: right;\n",
       "    }\n",
       "</style>\n",
       "<table border=\"1\" class=\"dataframe\">\n",
       "  <thead>\n",
       "    <tr style=\"text-align: right;\">\n",
       "      <th></th>\n",
       "      <th>Address</th>\n",
       "      <th>Beds</th>\n",
       "      <th>Baths</th>\n",
       "      <th>House Size (sqft)</th>\n",
       "      <th>Lot Size (ac)</th>\n",
       "      <th>Type</th>\n",
       "      <th>Postal Code</th>\n",
       "    </tr>\n",
       "  </thead>\n",
       "  <tbody>\n",
       "    <tr>\n",
       "      <th>613</th>\n",
       "      <td>11 Coronation Court, Oromocto, New Brunswick, ...</td>\n",
       "      <td>4.0</td>\n",
       "      <td>2.0</td>\n",
       "      <td>NaN</td>\n",
       "      <td>NaN</td>\n",
       "      <td>Family</td>\n",
       "      <td>E2V2M9</td>\n",
       "    </tr>\n",
       "    <tr>\n",
       "      <th>16</th>\n",
       "      <td>5185 Route 127, St. Andrews, New Brunswick</td>\n",
       "      <td>4.0</td>\n",
       "      <td>2.0</td>\n",
       "      <td>1675.0</td>\n",
       "      <td>1.170</td>\n",
       "      <td>Residential</td>\n",
       "      <td>E5B3A7</td>\n",
       "    </tr>\n",
       "    <tr>\n",
       "      <th>514</th>\n",
       "      <td>Lot du Portage, Caraquet, New Brunswick, E1W1A8</td>\n",
       "      <td>NaN</td>\n",
       "      <td>NaN</td>\n",
       "      <td>NaN</td>\n",
       "      <td>NaN</td>\n",
       "      <td>Empty Land</td>\n",
       "      <td>E1W1A8</td>\n",
       "    </tr>\n",
       "    <tr>\n",
       "      <th>298</th>\n",
       "      <td>175 Ledden Street, Miramichi, New Brunswick, E...</td>\n",
       "      <td>4.0</td>\n",
       "      <td>2.0</td>\n",
       "      <td>1780.0</td>\n",
       "      <td>0.134</td>\n",
       "      <td>Residential</td>\n",
       "      <td>E1V 2G8</td>\n",
       "    </tr>\n",
       "    <tr>\n",
       "      <th>129</th>\n",
       "      <td>96 Todds Point Road, Saint Stephen, New Brunswick</td>\n",
       "      <td>4.0</td>\n",
       "      <td>3.0</td>\n",
       "      <td>NaN</td>\n",
       "      <td>NaN</td>\n",
       "      <td>Residential</td>\n",
       "      <td>E3L3P9</td>\n",
       "    </tr>\n",
       "  </tbody>\n",
       "</table>\n",
       "</div>"
      ],
      "text/plain": [
       "                                               Address  Beds  Baths  \\\n",
       "613  11 Coronation Court, Oromocto, New Brunswick, ...   4.0    2.0   \n",
       "16          5185 Route 127, St. Andrews, New Brunswick   4.0    2.0   \n",
       "514    Lot du Portage, Caraquet, New Brunswick, E1W1A8   NaN    NaN   \n",
       "298  175 Ledden Street, Miramichi, New Brunswick, E...   4.0    2.0   \n",
       "129  96 Todds Point Road, Saint Stephen, New Brunswick   4.0    3.0   \n",
       "\n",
       "     House Size (sqft)  Lot Size (ac)         Type Postal Code  \n",
       "613                NaN            NaN       Family      E2V2M9  \n",
       "16              1675.0          1.170  Residential      E5B3A7  \n",
       "514                NaN            NaN   Empty Land      E1W1A8  \n",
       "298             1780.0          0.134  Residential     E1V 2G8  \n",
       "129                NaN            NaN  Residential      E3L3P9  "
      ]
     },
     "execution_count": 11,
     "metadata": {},
     "output_type": "execute_result"
    }
   ],
   "source": [
    "# we sample the dataset with the weights representing type_counts\n",
    "y = df['Price']\n",
    "X = df.drop('Price',axis=1)\n",
    "\n",
    "X_train, X_val, y_train, y_val = train_test_split(X, y, test_size = 0.15, stratify = X['Type'].values)\n",
    "\n",
    "X_train.head(5)"
   ]
  },
  {
   "cell_type": "code",
   "execution_count": 12,
   "metadata": {},
   "outputs": [],
   "source": [
    "# combine predictors and response\n",
    "train = pd.concat([X_train, y_train.to_frame()], axis=1)\n",
    "val = pd.concat([X_val, y_val.to_frame()], axis=1)\n",
    "\n",
    "train.reset_index(drop=True,inplace=True)\n",
    "val.reset_index(drop=True,inplace=True)\n",
    "\n",
    "train.head(5)\n",
    "\n",
    "# save training and validation to csv\n",
    "train.to_csv('train.csv',index=False)\n",
    "val.to_csv('val.csv',index=False)"
   ]
  }
 ],
 "metadata": {
  "kernelspec": {
   "display_name": "Python 3",
   "language": "python",
   "name": "python3"
  },
  "language_info": {
   "codemirror_mode": {
    "name": "ipython",
    "version": 3
   },
   "file_extension": ".py",
   "mimetype": "text/x-python",
   "name": "python",
   "nbconvert_exporter": "python",
   "pygments_lexer": "ipython3",
   "version": "3.7.7"
  }
 },
 "nbformat": 4,
 "nbformat_minor": 4
}
