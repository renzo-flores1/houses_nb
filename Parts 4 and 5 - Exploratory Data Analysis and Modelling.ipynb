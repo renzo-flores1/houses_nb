{
 "cells": [
  {
   "cell_type": "markdown",
   "metadata": {},
   "source": [
    "# Houses and Empty Lots for Sale in New Brunswick (as of June 12, 2020)\n",
    "\n",
    "In this project, I scraped data from this [website](https://www.point2homes.com/CA/Real-Estate-Listings/NB.html) which lists houses and \n",
    "empty lots for sale. The selling price is listed along with the lot size. For houses, the number of bedrooms, bathrooms, the house size the house type are also given.\n",
    "\n",
    "## 4. Exploratory Data Analysis"
   ]
  },
  {
   "cell_type": "code",
   "execution_count": 1,
   "metadata": {},
   "outputs": [
    {
     "data": {
      "text/html": [
       "<div>\n",
       "<style scoped>\n",
       "    .dataframe tbody tr th:only-of-type {\n",
       "        vertical-align: middle;\n",
       "    }\n",
       "\n",
       "    .dataframe tbody tr th {\n",
       "        vertical-align: top;\n",
       "    }\n",
       "\n",
       "    .dataframe thead th {\n",
       "        text-align: right;\n",
       "    }\n",
       "</style>\n",
       "<table border=\"1\" class=\"dataframe\">\n",
       "  <thead>\n",
       "    <tr style=\"text-align: right;\">\n",
       "      <th></th>\n",
       "      <th>Beds</th>\n",
       "      <th>Baths</th>\n",
       "      <th>House Size (sqft)</th>\n",
       "      <th>Lot Size (ac)</th>\n",
       "      <th>Type</th>\n",
       "      <th>Price</th>\n",
       "      <th>Postal</th>\n",
       "    </tr>\n",
       "  </thead>\n",
       "  <tbody>\n",
       "    <tr>\n",
       "      <th>0</th>\n",
       "      <td>4.0</td>\n",
       "      <td>2.0</td>\n",
       "      <td>1584.0</td>\n",
       "      <td>0.724</td>\n",
       "      <td>Family</td>\n",
       "      <td>169900</td>\n",
       "      <td>E2</td>\n",
       "    </tr>\n",
       "    <tr>\n",
       "      <th>1</th>\n",
       "      <td>4.0</td>\n",
       "      <td>2.0</td>\n",
       "      <td>1675.0</td>\n",
       "      <td>1.170</td>\n",
       "      <td>Residential</td>\n",
       "      <td>259000</td>\n",
       "      <td>E5</td>\n",
       "    </tr>\n",
       "    <tr>\n",
       "      <th>2</th>\n",
       "      <td>0.0</td>\n",
       "      <td>0.0</td>\n",
       "      <td>0.0</td>\n",
       "      <td>2.220</td>\n",
       "      <td>Empty Land</td>\n",
       "      <td>19000</td>\n",
       "      <td>E1</td>\n",
       "    </tr>\n",
       "    <tr>\n",
       "      <th>3</th>\n",
       "      <td>4.0</td>\n",
       "      <td>2.0</td>\n",
       "      <td>1780.0</td>\n",
       "      <td>0.134</td>\n",
       "      <td>Residential</td>\n",
       "      <td>104200</td>\n",
       "      <td>E1</td>\n",
       "    </tr>\n",
       "    <tr>\n",
       "      <th>4</th>\n",
       "      <td>4.0</td>\n",
       "      <td>3.0</td>\n",
       "      <td>1584.0</td>\n",
       "      <td>0.724</td>\n",
       "      <td>Residential</td>\n",
       "      <td>269000</td>\n",
       "      <td>E3</td>\n",
       "    </tr>\n",
       "  </tbody>\n",
       "</table>\n",
       "</div>"
      ],
      "text/plain": [
       "   Beds  Baths  House Size (sqft)  Lot Size (ac)         Type   Price Postal\n",
       "0   4.0    2.0             1584.0          0.724       Family  169900     E2\n",
       "1   4.0    2.0             1675.0          1.170  Residential  259000     E5\n",
       "2   0.0    0.0                0.0          2.220   Empty Land   19000     E1\n",
       "3   4.0    2.0             1780.0          0.134  Residential  104200     E1\n",
       "4   4.0    3.0             1584.0          0.724  Residential  269000     E3"
      ]
     },
     "execution_count": 1,
     "metadata": {},
     "output_type": "execute_result"
    }
   ],
   "source": [
    "# load libraries\n",
    "import numpy as np\n",
    "import pandas as pd\n",
    "from sklearn.model_selection import train_test_split\n",
    "import re\n",
    "from tqdm.notebook import tqdm\n",
    "\n",
    "train = pd.read_csv('train_cleaned.csv')\n",
    "val = pd.read_csv('val_cleaned.csv')\n",
    "\n",
    "# look at first 5 rows of training set\n",
    "train.head(5)"
   ]
  },
  {
   "cell_type": "code",
   "execution_count": 2,
   "metadata": {},
   "outputs": [
    {
     "data": {
      "text/html": [
       "<div>\n",
       "<style scoped>\n",
       "    .dataframe tbody tr th:only-of-type {\n",
       "        vertical-align: middle;\n",
       "    }\n",
       "\n",
       "    .dataframe tbody tr th {\n",
       "        vertical-align: top;\n",
       "    }\n",
       "\n",
       "    .dataframe thead th {\n",
       "        text-align: right;\n",
       "    }\n",
       "</style>\n",
       "<table border=\"1\" class=\"dataframe\">\n",
       "  <thead>\n",
       "    <tr style=\"text-align: right;\">\n",
       "      <th></th>\n",
       "      <th>Beds</th>\n",
       "      <th>Baths</th>\n",
       "      <th>House Size (sqft)</th>\n",
       "      <th>Lot Size (ac)</th>\n",
       "      <th>Type</th>\n",
       "      <th>Postal</th>\n",
       "      <th>Price (x1000)</th>\n",
       "    </tr>\n",
       "  </thead>\n",
       "  <tbody>\n",
       "    <tr>\n",
       "      <th>0</th>\n",
       "      <td>4.0</td>\n",
       "      <td>2.0</td>\n",
       "      <td>1584.0</td>\n",
       "      <td>0.724</td>\n",
       "      <td>Family</td>\n",
       "      <td>E2</td>\n",
       "      <td>169.9</td>\n",
       "    </tr>\n",
       "    <tr>\n",
       "      <th>1</th>\n",
       "      <td>4.0</td>\n",
       "      <td>2.0</td>\n",
       "      <td>1675.0</td>\n",
       "      <td>1.170</td>\n",
       "      <td>Residential</td>\n",
       "      <td>E5</td>\n",
       "      <td>259.0</td>\n",
       "    </tr>\n",
       "    <tr>\n",
       "      <th>2</th>\n",
       "      <td>0.0</td>\n",
       "      <td>0.0</td>\n",
       "      <td>0.0</td>\n",
       "      <td>2.220</td>\n",
       "      <td>Empty Land</td>\n",
       "      <td>E1</td>\n",
       "      <td>19.0</td>\n",
       "    </tr>\n",
       "    <tr>\n",
       "      <th>3</th>\n",
       "      <td>4.0</td>\n",
       "      <td>2.0</td>\n",
       "      <td>1780.0</td>\n",
       "      <td>0.134</td>\n",
       "      <td>Residential</td>\n",
       "      <td>E1</td>\n",
       "      <td>104.2</td>\n",
       "    </tr>\n",
       "    <tr>\n",
       "      <th>4</th>\n",
       "      <td>4.0</td>\n",
       "      <td>3.0</td>\n",
       "      <td>1584.0</td>\n",
       "      <td>0.724</td>\n",
       "      <td>Residential</td>\n",
       "      <td>E3</td>\n",
       "      <td>269.0</td>\n",
       "    </tr>\n",
       "  </tbody>\n",
       "</table>\n",
       "</div>"
      ],
      "text/plain": [
       "   Beds  Baths  House Size (sqft)  Lot Size (ac)         Type Postal  \\\n",
       "0   4.0    2.0             1584.0          0.724       Family     E2   \n",
       "1   4.0    2.0             1675.0          1.170  Residential     E5   \n",
       "2   0.0    0.0                0.0          2.220   Empty Land     E1   \n",
       "3   4.0    2.0             1780.0          0.134  Residential     E1   \n",
       "4   4.0    3.0             1584.0          0.724  Residential     E3   \n",
       "\n",
       "   Price (x1000)  \n",
       "0          169.9  \n",
       "1          259.0  \n",
       "2           19.0  \n",
       "3          104.2  \n",
       "4          269.0  "
      ]
     },
     "execution_count": 2,
     "metadata": {},
     "output_type": "execute_result"
    }
   ],
   "source": [
    "# Typically, price is in thousands, might as well divide these.\n",
    "train['Price (x1000)'] = train['Price']/1000\n",
    "\n",
    "# drop train['Price']\n",
    "train.drop('Price',axis=1,inplace=True)\n",
    "\n",
    "train.head(5)"
   ]
  },
  {
   "cell_type": "code",
   "execution_count": 3,
   "metadata": {},
   "outputs": [
    {
     "data": {
      "text/plain": [
       "<matplotlib.axes._subplots.AxesSubplot at 0x1184e5850>"
      ]
     },
     "execution_count": 3,
     "metadata": {},
     "output_type": "execute_result"
    },
    {
     "data": {
      "image/png": "[encoded data removed]",
      "text/plain": [
       "<Figure size 432x288 with 1 Axes>"
      ]
     },
     "metadata": {
      "needs_background": "light"
     },
     "output_type": "display_data"
    }
   ],
   "source": [
    "# plot postal vs price\n",
    "train.boxplot(column='Price (x1000)',by='Postal')"
   ]
  },
  {
   "cell_type": "markdown",
   "metadata": {},
   "source": [
    "Seems like there are two extreme outliers (price > $1000000). Let's check these."
   ]
  },
  {
   "cell_type": "code",
   "execution_count": 4,
   "metadata": {},
   "outputs": [
    {
     "data": {
      "text/html": [
       "<div>\n",
       "<style scoped>\n",
       "    .dataframe tbody tr th:only-of-type {\n",
       "        vertical-align: middle;\n",
       "    }\n",
       "\n",
       "    .dataframe tbody tr th {\n",
       "        vertical-align: top;\n",
       "    }\n",
       "\n",
       "    .dataframe thead th {\n",
       "        text-align: right;\n",
       "    }\n",
       "</style>\n",
       "<table border=\"1\" class=\"dataframe\">\n",
       "  <thead>\n",
       "    <tr style=\"text-align: right;\">\n",
       "      <th></th>\n",
       "      <th>Beds</th>\n",
       "      <th>Baths</th>\n",
       "      <th>House Size (sqft)</th>\n",
       "      <th>Lot Size (ac)</th>\n",
       "      <th>Type</th>\n",
       "      <th>Postal</th>\n",
       "      <th>Price (x1000)</th>\n",
       "    </tr>\n",
       "  </thead>\n",
       "  <tbody>\n",
       "    <tr>\n",
       "      <th>249</th>\n",
       "      <td>3.0</td>\n",
       "      <td>2.0</td>\n",
       "      <td>1584.0</td>\n",
       "      <td>697.000</td>\n",
       "      <td>Residential</td>\n",
       "      <td>E4</td>\n",
       "      <td>1530.0</td>\n",
       "    </tr>\n",
       "    <tr>\n",
       "      <th>496</th>\n",
       "      <td>5.0</td>\n",
       "      <td>4.0</td>\n",
       "      <td>5880.0</td>\n",
       "      <td>0.485</td>\n",
       "      <td>Residential</td>\n",
       "      <td>E1</td>\n",
       "      <td>1090.0</td>\n",
       "    </tr>\n",
       "  </tbody>\n",
       "</table>\n",
       "</div>"
      ],
      "text/plain": [
       "     Beds  Baths  House Size (sqft)  Lot Size (ac)         Type Postal  \\\n",
       "249   3.0    2.0             1584.0        697.000  Residential     E4   \n",
       "496   5.0    4.0             5880.0          0.485  Residential     E1   \n",
       "\n",
       "     Price (x1000)  \n",
       "249         1530.0  \n",
       "496         1090.0  "
      ]
     },
     "execution_count": 4,
     "metadata": {},
     "output_type": "execute_result"
    }
   ],
   "source": [
    "train[train['Price (x1000)'] >= 1000]"
   ]
  },
  {
   "cell_type": "markdown",
   "metadata": {},
   "source": [
    "House 249 has a big lot (697 acres), and house 496 has a lot of rooms (9) and a big house (5880 sqft). So it is reasonable to keep these outliers."
   ]
  },
  {
   "cell_type": "code",
   "execution_count": 5,
   "metadata": {},
   "outputs": [
    {
     "data": {
      "text/plain": [
       "<matplotlib.axes._subplots.AxesSubplot at 0x1a1c532790>"
      ]
     },
     "execution_count": 5,
     "metadata": {},
     "output_type": "execute_result"
    },
    {
     "data": {
      "image/png": "[encoded data removed]",
      "text/plain": [
       "<Figure size 432x288 with 1 Axes>"
      ]
     },
     "metadata": {
      "needs_background": "light"
     },
     "output_type": "display_data"
    }
   ],
   "source": [
    "# plot house size vs price\n",
    "train.plot.scatter(x='House Size (sqft)',y='Price (x1000)')"
   ]
  },
  {
   "cell_type": "markdown",
   "metadata": {},
   "source": [
    "Okay, so house size seems to be correlated with price. So no problem there. Let's check lot size."
   ]
  },
  {
   "cell_type": "code",
   "execution_count": 6,
   "metadata": {},
   "outputs": [
    {
     "data": {
      "text/plain": [
       "<matplotlib.axes._subplots.AxesSubplot at 0x1a1c645550>"
      ]
     },
     "execution_count": 6,
     "metadata": {},
     "output_type": "execute_result"
    },
    {
     "data": {
      "image/png": "[encoded data removed]",
      "text/plain": [
       "<Figure size 432x288 with 1 Axes>"
      ]
     },
     "metadata": {
      "needs_background": "light"
     },
     "output_type": "display_data"
    }
   ],
   "source": [
    "train.plot.scatter(x='Lot Size (ac)',y='Price (x1000)')"
   ]
  },
  {
   "cell_type": "markdown",
   "metadata": {},
   "source": [
    "It makes sense that the bigger the lot size, the bigger the price. However, there is **a lot** of variability on price for small lot sizes. My guess is that a presence of the house and the total number of rooms in the lot influences the price, so an interaction term (Lot Size + House Size + Rooms) might be useful. We are adding the terms instead of multiplying them so as not to discriminate entries of empty lands (rooms = 0, house size = 0)."
   ]
  },
  {
   "cell_type": "code",
   "execution_count": 7,
   "metadata": {},
   "outputs": [
    {
     "data": {
      "text/html": [
       "<div>\n",
       "<style scoped>\n",
       "    .dataframe tbody tr th:only-of-type {\n",
       "        vertical-align: middle;\n",
       "    }\n",
       "\n",
       "    .dataframe tbody tr th {\n",
       "        vertical-align: top;\n",
       "    }\n",
       "\n",
       "    .dataframe thead th {\n",
       "        text-align: right;\n",
       "    }\n",
       "</style>\n",
       "<table border=\"1\" class=\"dataframe\">\n",
       "  <thead>\n",
       "    <tr style=\"text-align: right;\">\n",
       "      <th></th>\n",
       "      <th>Beds</th>\n",
       "      <th>Baths</th>\n",
       "      <th>House Size (sqft)</th>\n",
       "      <th>Lot Size (ac)</th>\n",
       "      <th>Type</th>\n",
       "      <th>Postal</th>\n",
       "      <th>Price (x1000)</th>\n",
       "      <th>Rooms</th>\n",
       "      <th>House Size (ac)</th>\n",
       "      <th>Rating</th>\n",
       "    </tr>\n",
       "  </thead>\n",
       "  <tbody>\n",
       "    <tr>\n",
       "      <th>0</th>\n",
       "      <td>4.0</td>\n",
       "      <td>2.0</td>\n",
       "      <td>1584.0</td>\n",
       "      <td>0.724</td>\n",
       "      <td>Family</td>\n",
       "      <td>E2</td>\n",
       "      <td>169.9</td>\n",
       "      <td>6.0</td>\n",
       "      <td>0.036369</td>\n",
       "      <td>4.562212</td>\n",
       "    </tr>\n",
       "    <tr>\n",
       "      <th>1</th>\n",
       "      <td>4.0</td>\n",
       "      <td>2.0</td>\n",
       "      <td>1675.0</td>\n",
       "      <td>1.170</td>\n",
       "      <td>Residential</td>\n",
       "      <td>E5</td>\n",
       "      <td>259.0</td>\n",
       "      <td>6.0</td>\n",
       "      <td>0.038458</td>\n",
       "      <td>7.250748</td>\n",
       "    </tr>\n",
       "    <tr>\n",
       "      <th>2</th>\n",
       "      <td>0.0</td>\n",
       "      <td>0.0</td>\n",
       "      <td>0.0</td>\n",
       "      <td>2.220</td>\n",
       "      <td>Empty Land</td>\n",
       "      <td>E1</td>\n",
       "      <td>19.0</td>\n",
       "      <td>0.0</td>\n",
       "      <td>0.000000</td>\n",
       "      <td>0.000000</td>\n",
       "    </tr>\n",
       "    <tr>\n",
       "      <th>3</th>\n",
       "      <td>4.0</td>\n",
       "      <td>2.0</td>\n",
       "      <td>1780.0</td>\n",
       "      <td>0.134</td>\n",
       "      <td>Residential</td>\n",
       "      <td>E1</td>\n",
       "      <td>104.2</td>\n",
       "      <td>6.0</td>\n",
       "      <td>0.040869</td>\n",
       "      <td>1.049213</td>\n",
       "    </tr>\n",
       "    <tr>\n",
       "      <th>4</th>\n",
       "      <td>4.0</td>\n",
       "      <td>3.0</td>\n",
       "      <td>1584.0</td>\n",
       "      <td>0.724</td>\n",
       "      <td>Residential</td>\n",
       "      <td>E3</td>\n",
       "      <td>269.0</td>\n",
       "      <td>7.0</td>\n",
       "      <td>0.036369</td>\n",
       "      <td>5.322580</td>\n",
       "    </tr>\n",
       "  </tbody>\n",
       "</table>\n",
       "</div>"
      ],
      "text/plain": [
       "   Beds  Baths  House Size (sqft)  Lot Size (ac)         Type Postal  \\\n",
       "0   4.0    2.0             1584.0          0.724       Family     E2   \n",
       "1   4.0    2.0             1675.0          1.170  Residential     E5   \n",
       "2   0.0    0.0                0.0          2.220   Empty Land     E1   \n",
       "3   4.0    2.0             1780.0          0.134  Residential     E1   \n",
       "4   4.0    3.0             1584.0          0.724  Residential     E3   \n",
       "\n",
       "   Price (x1000)  Rooms  House Size (ac)    Rating  \n",
       "0          169.9    6.0         0.036369  4.562212  \n",
       "1          259.0    6.0         0.038458  7.250748  \n",
       "2           19.0    0.0         0.000000  0.000000  \n",
       "3          104.2    6.0         0.040869  1.049213  \n",
       "4          269.0    7.0         0.036369  5.322580  "
      ]
     },
     "execution_count": 7,
     "metadata": {},
     "output_type": "execute_result"
    }
   ],
   "source": [
    "# create a feature named Rooms, where Rooms = Beds + Baths\n",
    "train['Rooms'] = train['Beds'] + train['Baths']\n",
    "\n",
    "# might need to convert house size to acres to be consistent\n",
    "train['House Size (ac)'] = train['House Size (sqft)'] * (2.296 * 10**(-5))\n",
    "\n",
    "# create a feature named Rating, where Rating = House size + Lot size + Rooms\n",
    "train['Rating'] = (train['Lot Size (ac)'] + train['House Size (ac)']) * train['Rooms']\n",
    "\n",
    "train.head(5)"
   ]
  },
  {
   "cell_type": "code",
   "execution_count": 8,
   "metadata": {},
   "outputs": [
    {
     "data": {
      "text/plain": [
       "<matplotlib.axes._subplots.AxesSubplot at 0x1a1c71a750>"
      ]
     },
     "execution_count": 8,
     "metadata": {},
     "output_type": "execute_result"
    },
    {
     "data": {
      "image/png": "[encoded data removed]",
      "text/plain": [
       "<Figure size 432x288 with 1 Axes>"
      ]
     },
     "metadata": {
      "needs_background": "light"
     },
     "output_type": "display_data"
    }
   ],
   "source": [
    "train.plot.scatter(x='Rating',y='Price (x1000)')"
   ]
  },
  {
   "cell_type": "code",
   "execution_count": 9,
   "metadata": {},
   "outputs": [],
   "source": [
    "# drop House Size (sqft)\n",
    "train.drop('House Size (sqft)',axis=1, inplace=True)"
   ]
  },
  {
   "cell_type": "code",
   "execution_count": 10,
   "metadata": {},
   "outputs": [
    {
     "data": {
      "text/plain": [
       "<matplotlib.axes._subplots.AxesSubplot at 0x1a1c72a610>"
      ]
     },
     "execution_count": 10,
     "metadata": {},
     "output_type": "execute_result"
    },
    {
     "data": {
      "image/png": "[encoded data removed]",
      "text/plain": [
       "<Figure size 432x288 with 1 Axes>"
      ]
     },
     "metadata": {
      "needs_background": "light"
     },
     "output_type": "display_data"
    }
   ],
   "source": [
    "# Check types\n",
    "train.boxplot(column='Price (x1000)', by='Type')"
   ]
  },
  {
   "cell_type": "code",
   "execution_count": 11,
   "metadata": {},
   "outputs": [
    {
     "data": {
      "text/plain": [
       "<matplotlib.axes._subplots.AxesSubplot at 0x1a1c844e10>"
      ]
     },
     "execution_count": 11,
     "metadata": {},
     "output_type": "execute_result"
    },
    {
     "data": {
      "image/png": "[encoded data removed]",
      "text/plain": [
       "<Figure size 432x288 with 1 Axes>"
      ]
     },
     "metadata": {
      "needs_background": "light"
     },
     "output_type": "display_data"
    }
   ],
   "source": [
    "# now lets check the number of rooms\n",
    "train.boxplot(column='Rooms', by='Type')"
   ]
  },
  {
   "cell_type": "markdown",
   "metadata": {},
   "source": [
    "So houses of type Family and type Residential have **similar distributions** on Price and the number of Rooms. We might as well merge them."
   ]
  },
  {
   "cell_type": "code",
   "execution_count": 12,
   "metadata": {},
   "outputs": [
    {
     "data": {
      "text/html": [
       "<div>\n",
       "<style scoped>\n",
       "    .dataframe tbody tr th:only-of-type {\n",
       "        vertical-align: middle;\n",
       "    }\n",
       "\n",
       "    .dataframe tbody tr th {\n",
       "        vertical-align: top;\n",
       "    }\n",
       "\n",
       "    .dataframe thead th {\n",
       "        text-align: right;\n",
       "    }\n",
       "</style>\n",
       "<table border=\"1\" class=\"dataframe\">\n",
       "  <thead>\n",
       "    <tr style=\"text-align: right;\">\n",
       "      <th></th>\n",
       "      <th>Beds</th>\n",
       "      <th>Baths</th>\n",
       "      <th>Lot Size (ac)</th>\n",
       "      <th>Type</th>\n",
       "      <th>Postal</th>\n",
       "      <th>Price (x1000)</th>\n",
       "      <th>Rooms</th>\n",
       "      <th>House Size (ac)</th>\n",
       "      <th>Rating</th>\n",
       "    </tr>\n",
       "  </thead>\n",
       "  <tbody>\n",
       "    <tr>\n",
       "      <th>0</th>\n",
       "      <td>4.0</td>\n",
       "      <td>2.0</td>\n",
       "      <td>0.724</td>\n",
       "      <td>Residential</td>\n",
       "      <td>E2</td>\n",
       "      <td>169.9</td>\n",
       "      <td>6.0</td>\n",
       "      <td>0.036369</td>\n",
       "      <td>4.562212</td>\n",
       "    </tr>\n",
       "    <tr>\n",
       "      <th>1</th>\n",
       "      <td>4.0</td>\n",
       "      <td>2.0</td>\n",
       "      <td>1.170</td>\n",
       "      <td>Residential</td>\n",
       "      <td>E5</td>\n",
       "      <td>259.0</td>\n",
       "      <td>6.0</td>\n",
       "      <td>0.038458</td>\n",
       "      <td>7.250748</td>\n",
       "    </tr>\n",
       "    <tr>\n",
       "      <th>2</th>\n",
       "      <td>0.0</td>\n",
       "      <td>0.0</td>\n",
       "      <td>2.220</td>\n",
       "      <td>Empty Land</td>\n",
       "      <td>E1</td>\n",
       "      <td>19.0</td>\n",
       "      <td>0.0</td>\n",
       "      <td>0.000000</td>\n",
       "      <td>0.000000</td>\n",
       "    </tr>\n",
       "    <tr>\n",
       "      <th>3</th>\n",
       "      <td>4.0</td>\n",
       "      <td>2.0</td>\n",
       "      <td>0.134</td>\n",
       "      <td>Residential</td>\n",
       "      <td>E1</td>\n",
       "      <td>104.2</td>\n",
       "      <td>6.0</td>\n",
       "      <td>0.040869</td>\n",
       "      <td>1.049213</td>\n",
       "    </tr>\n",
       "    <tr>\n",
       "      <th>4</th>\n",
       "      <td>4.0</td>\n",
       "      <td>3.0</td>\n",
       "      <td>0.724</td>\n",
       "      <td>Residential</td>\n",
       "      <td>E3</td>\n",
       "      <td>269.0</td>\n",
       "      <td>7.0</td>\n",
       "      <td>0.036369</td>\n",
       "      <td>5.322580</td>\n",
       "    </tr>\n",
       "  </tbody>\n",
       "</table>\n",
       "</div>"
      ],
      "text/plain": [
       "   Beds  Baths  Lot Size (ac)         Type Postal  Price (x1000)  Rooms  \\\n",
       "0   4.0    2.0          0.724  Residential     E2          169.9    6.0   \n",
       "1   4.0    2.0          1.170  Residential     E5          259.0    6.0   \n",
       "2   0.0    0.0          2.220   Empty Land     E1           19.0    0.0   \n",
       "3   4.0    2.0          0.134  Residential     E1          104.2    6.0   \n",
       "4   4.0    3.0          0.724  Residential     E3          269.0    7.0   \n",
       "\n",
       "   House Size (ac)    Rating  \n",
       "0         0.036369  4.562212  \n",
       "1         0.038458  7.250748  \n",
       "2         0.000000  0.000000  \n",
       "3         0.040869  1.049213  \n",
       "4         0.036369  5.322580  "
      ]
     },
     "execution_count": 12,
     "metadata": {},
     "output_type": "execute_result"
    }
   ],
   "source": [
    "train.replace('Family', 'Residential',inplace=True)\n",
    "train.head(5)"
   ]
  },
  {
   "cell_type": "code",
   "execution_count": 13,
   "metadata": {},
   "outputs": [
    {
     "data": {
      "text/plain": [
       "<matplotlib.axes._subplots.AxesSubplot at 0x1a1ca67b90>"
      ]
     },
     "execution_count": 13,
     "metadata": {},
     "output_type": "execute_result"
    },
    {
     "data": {
      "image/png": "[encoded data removed]",
      "text/plain": [
       "<Figure size 432x288 with 1 Axes>"
      ]
     },
     "metadata": {
      "needs_background": "light"
     },
     "output_type": "display_data"
    }
   ],
   "source": [
    "train.boxplot(column='Rooms', by='Type')"
   ]
  },
  {
   "cell_type": "markdown",
   "metadata": {},
   "source": [
    "Now we check correlations."
   ]
  },
  {
   "cell_type": "code",
   "execution_count": 14,
   "metadata": {},
   "outputs": [
    {
     "data": {
      "text/plain": [
       "<matplotlib.axes._subplots.AxesSubplot at 0x1a1ce4d390>"
      ]
     },
     "execution_count": 14,
     "metadata": {},
     "output_type": "execute_result"
    },
    {
     "data": {
      "image/png": "[encoded data removed]",
      "text/plain": [
       "<Figure size 792x648 with 2 Axes>"
      ]
     },
     "metadata": {
      "needs_background": "light"
     },
     "output_type": "display_data"
    }
   ],
   "source": [
    "import matplotlib.pyplot as plt\n",
    "import seaborn as sns\n",
    "\n",
    "# correlation matrix\n",
    "corr = train.corr()\n",
    "\n",
    "# Generate a mask for the upper triangle\n",
    "mask = np.triu(np.ones_like(corr, dtype=np.bool))\n",
    "\n",
    "# Set up the matplotlib figure\n",
    "f, ax = plt.subplots(figsize=(11, 9))\n",
    "\n",
    "# Generate a custom diverging colormap\n",
    "cmap = sns.diverging_palette(220, 10, as_cmap=True)\n",
    "\n",
    "# Draw the heatmap with the mask and correct aspect ratio\n",
    "sns.heatmap(corr, mask=mask, cmap=cmap, vmax=.3, center=0,\n",
    "            square=True, linewidths=.5, cbar_kws={\"shrink\": .5})\n"
   ]
  },
  {
   "cell_type": "markdown",
   "metadata": {},
   "source": [
    "Price is **highly correlated** with House Size, Rooms, Beds and Baths. Not so much with Lot Size. Also rooms, beds, baths and house size are highly correlated, which makes sense, and rating is highly correlated with lot size. Later on, we could probably drop somethings if"
   ]
  },
  {
   "cell_type": "code",
   "execution_count": 15,
   "metadata": {},
   "outputs": [
    {
     "data": {
      "text/html": [
       "<div>\n",
       "<style scoped>\n",
       "    .dataframe tbody tr th:only-of-type {\n",
       "        vertical-align: middle;\n",
       "    }\n",
       "\n",
       "    .dataframe tbody tr th {\n",
       "        vertical-align: top;\n",
       "    }\n",
       "\n",
       "    .dataframe thead th {\n",
       "        text-align: right;\n",
       "    }\n",
       "</style>\n",
       "<table border=\"1\" class=\"dataframe\">\n",
       "  <thead>\n",
       "    <tr style=\"text-align: right;\">\n",
       "      <th></th>\n",
       "      <th>Beds</th>\n",
       "      <th>Baths</th>\n",
       "      <th>House Size (sqft)</th>\n",
       "      <th>Lot Size (ac)</th>\n",
       "      <th>Type</th>\n",
       "      <th>Postal</th>\n",
       "      <th>Price (x1000)</th>\n",
       "      <th>Rooms</th>\n",
       "      <th>House Size (ac)</th>\n",
       "      <th>Rating</th>\n",
       "    </tr>\n",
       "  </thead>\n",
       "  <tbody>\n",
       "    <tr>\n",
       "      <th>0</th>\n",
       "      <td>0.0</td>\n",
       "      <td>0.0</td>\n",
       "      <td>0.0</td>\n",
       "      <td>1.30</td>\n",
       "      <td>Empty Land</td>\n",
       "      <td>E1</td>\n",
       "      <td>39.9</td>\n",
       "      <td>0.0</td>\n",
       "      <td>0.000000</td>\n",
       "      <td>0.000000</td>\n",
       "    </tr>\n",
       "    <tr>\n",
       "      <th>1</th>\n",
       "      <td>3.0</td>\n",
       "      <td>2.0</td>\n",
       "      <td>1519.0</td>\n",
       "      <td>10.00</td>\n",
       "      <td>Residential</td>\n",
       "      <td>E5</td>\n",
       "      <td>70.0</td>\n",
       "      <td>5.0</td>\n",
       "      <td>0.034876</td>\n",
       "      <td>50.174381</td>\n",
       "    </tr>\n",
       "    <tr>\n",
       "      <th>2</th>\n",
       "      <td>0.0</td>\n",
       "      <td>0.0</td>\n",
       "      <td>0.0</td>\n",
       "      <td>1.03</td>\n",
       "      <td>Empty Land</td>\n",
       "      <td>E9</td>\n",
       "      <td>8.0</td>\n",
       "      <td>0.0</td>\n",
       "      <td>0.000000</td>\n",
       "      <td>0.000000</td>\n",
       "    </tr>\n",
       "    <tr>\n",
       "      <th>3</th>\n",
       "      <td>0.0</td>\n",
       "      <td>0.0</td>\n",
       "      <td>0.0</td>\n",
       "      <td>1.30</td>\n",
       "      <td>Empty Land</td>\n",
       "      <td>E4</td>\n",
       "      <td>24.9</td>\n",
       "      <td>0.0</td>\n",
       "      <td>0.000000</td>\n",
       "      <td>0.000000</td>\n",
       "    </tr>\n",
       "    <tr>\n",
       "      <th>4</th>\n",
       "      <td>3.0</td>\n",
       "      <td>1.0</td>\n",
       "      <td>1725.0</td>\n",
       "      <td>1.00</td>\n",
       "      <td>Residential</td>\n",
       "      <td>E2</td>\n",
       "      <td>119.9</td>\n",
       "      <td>4.0</td>\n",
       "      <td>0.039606</td>\n",
       "      <td>4.158424</td>\n",
       "    </tr>\n",
       "  </tbody>\n",
       "</table>\n",
       "</div>"
      ],
      "text/plain": [
       "   Beds  Baths  House Size (sqft)  Lot Size (ac)         Type Postal  \\\n",
       "0   0.0    0.0                0.0           1.30   Empty Land     E1   \n",
       "1   3.0    2.0             1519.0          10.00  Residential     E5   \n",
       "2   0.0    0.0                0.0           1.03   Empty Land     E9   \n",
       "3   0.0    0.0                0.0           1.30   Empty Land     E4   \n",
       "4   3.0    1.0             1725.0           1.00  Residential     E2   \n",
       "\n",
       "   Price (x1000)  Rooms  House Size (ac)     Rating  \n",
       "0           39.9    0.0         0.000000   0.000000  \n",
       "1           70.0    5.0         0.034876  50.174381  \n",
       "2            8.0    0.0         0.000000   0.000000  \n",
       "3           24.9    0.0         0.000000   0.000000  \n",
       "4          119.9    4.0         0.039606   4.158424  "
      ]
     },
     "execution_count": 15,
     "metadata": {},
     "output_type": "execute_result"
    }
   ],
   "source": [
    "# Convert price to thousands\n",
    "val['Price (x1000)'] = val['Price']/1000\n",
    "val.drop('Price',axis=1,inplace=True)\n",
    "\n",
    "# create a feature named Rooms, where Rooms = Beds + Baths\n",
    "val['Rooms'] = val['Beds'] + val['Baths']\n",
    "# might need to convert house size to acres to be consistent\n",
    "val['House Size (ac)'] = val['House Size (sqft)'] * (2.296 * 10**(-5))\n",
    "# create a feature named Rating, where Rating = (House size + Lot size) * Rooms\n",
    "val['Rating'] = (val['Lot Size (ac)'] + val['House Size (ac)']) * val['Rooms']\n",
    "\n",
    "val.replace('Family', 'Residential',inplace=True)\n",
    "val.head(5)"
   ]
  },
  {
   "cell_type": "markdown",
   "metadata": {},
   "source": [
    "## 5. Modelling\n",
    "\n",
    "We will be using XGBoost to predict house and land prices. To assess how our model performs, we will be using the Root Mean Squared Error between the logarithm of the predicted price and the logarithm of the actual price. This would imply that the effect on predicting cheap and expensive houses would be [equal](https://www.kaggle.com/c/house-prices-advanced-regression-techniques/overview/evaluation). "
   ]
  },
  {
   "cell_type": "code",
   "execution_count": 16,
   "metadata": {},
   "outputs": [
    {
     "data": {
      "text/html": [
       "<div>\n",
       "<style scoped>\n",
       "    .dataframe tbody tr th:only-of-type {\n",
       "        vertical-align: middle;\n",
       "    }\n",
       "\n",
       "    .dataframe tbody tr th {\n",
       "        vertical-align: top;\n",
       "    }\n",
       "\n",
       "    .dataframe thead th {\n",
       "        text-align: right;\n",
       "    }\n",
       "</style>\n",
       "<table border=\"1\" class=\"dataframe\">\n",
       "  <thead>\n",
       "    <tr style=\"text-align: right;\">\n",
       "      <th></th>\n",
       "      <th>Beds</th>\n",
       "      <th>Baths</th>\n",
       "      <th>Lot Size (ac)</th>\n",
       "      <th>Type</th>\n",
       "      <th>Postal</th>\n",
       "      <th>Rooms</th>\n",
       "      <th>House Size (ac)</th>\n",
       "      <th>Rating</th>\n",
       "    </tr>\n",
       "  </thead>\n",
       "  <tbody>\n",
       "    <tr>\n",
       "      <th>0</th>\n",
       "      <td>4.0</td>\n",
       "      <td>2.0</td>\n",
       "      <td>0.724</td>\n",
       "      <td>Residential</td>\n",
       "      <td>E2</td>\n",
       "      <td>6.0</td>\n",
       "      <td>0.036369</td>\n",
       "      <td>4.562212</td>\n",
       "    </tr>\n",
       "    <tr>\n",
       "      <th>1</th>\n",
       "      <td>4.0</td>\n",
       "      <td>2.0</td>\n",
       "      <td>1.170</td>\n",
       "      <td>Residential</td>\n",
       "      <td>E5</td>\n",
       "      <td>6.0</td>\n",
       "      <td>0.038458</td>\n",
       "      <td>7.250748</td>\n",
       "    </tr>\n",
       "    <tr>\n",
       "      <th>2</th>\n",
       "      <td>0.0</td>\n",
       "      <td>0.0</td>\n",
       "      <td>2.220</td>\n",
       "      <td>Empty Land</td>\n",
       "      <td>E1</td>\n",
       "      <td>0.0</td>\n",
       "      <td>0.000000</td>\n",
       "      <td>0.000000</td>\n",
       "    </tr>\n",
       "    <tr>\n",
       "      <th>3</th>\n",
       "      <td>4.0</td>\n",
       "      <td>2.0</td>\n",
       "      <td>0.134</td>\n",
       "      <td>Residential</td>\n",
       "      <td>E1</td>\n",
       "      <td>6.0</td>\n",
       "      <td>0.040869</td>\n",
       "      <td>1.049213</td>\n",
       "    </tr>\n",
       "    <tr>\n",
       "      <th>4</th>\n",
       "      <td>4.0</td>\n",
       "      <td>3.0</td>\n",
       "      <td>0.724</td>\n",
       "      <td>Residential</td>\n",
       "      <td>E3</td>\n",
       "      <td>7.0</td>\n",
       "      <td>0.036369</td>\n",
       "      <td>5.322580</td>\n",
       "    </tr>\n",
       "    <tr>\n",
       "      <th>...</th>\n",
       "      <td>...</td>\n",
       "      <td>...</td>\n",
       "      <td>...</td>\n",
       "      <td>...</td>\n",
       "      <td>...</td>\n",
       "      <td>...</td>\n",
       "      <td>...</td>\n",
       "      <td>...</td>\n",
       "    </tr>\n",
       "    <tr>\n",
       "      <th>532</th>\n",
       "      <td>0.0</td>\n",
       "      <td>0.0</td>\n",
       "      <td>2.220</td>\n",
       "      <td>Empty Land</td>\n",
       "      <td>E5</td>\n",
       "      <td>0.0</td>\n",
       "      <td>0.000000</td>\n",
       "      <td>0.000000</td>\n",
       "    </tr>\n",
       "    <tr>\n",
       "      <th>533</th>\n",
       "      <td>4.0</td>\n",
       "      <td>3.0</td>\n",
       "      <td>0.090</td>\n",
       "      <td>Residential</td>\n",
       "      <td>E1</td>\n",
       "      <td>7.0</td>\n",
       "      <td>0.036369</td>\n",
       "      <td>0.884580</td>\n",
       "    </tr>\n",
       "    <tr>\n",
       "      <th>534</th>\n",
       "      <td>2.0</td>\n",
       "      <td>2.0</td>\n",
       "      <td>5.000</td>\n",
       "      <td>Residential</td>\n",
       "      <td>E3</td>\n",
       "      <td>4.0</td>\n",
       "      <td>0.041328</td>\n",
       "      <td>20.165312</td>\n",
       "    </tr>\n",
       "    <tr>\n",
       "      <th>535</th>\n",
       "      <td>3.0</td>\n",
       "      <td>2.0</td>\n",
       "      <td>0.294</td>\n",
       "      <td>Residential</td>\n",
       "      <td>E5</td>\n",
       "      <td>5.0</td>\n",
       "      <td>0.040823</td>\n",
       "      <td>1.674114</td>\n",
       "    </tr>\n",
       "    <tr>\n",
       "      <th>536</th>\n",
       "      <td>0.0</td>\n",
       "      <td>0.0</td>\n",
       "      <td>2.220</td>\n",
       "      <td>Empty Land</td>\n",
       "      <td>E6</td>\n",
       "      <td>0.0</td>\n",
       "      <td>0.000000</td>\n",
       "      <td>0.000000</td>\n",
       "    </tr>\n",
       "  </tbody>\n",
       "</table>\n",
       "<p>537 rows × 8 columns</p>\n",
       "</div>"
      ],
      "text/plain": [
       "     Beds  Baths  Lot Size (ac)         Type Postal  Rooms  House Size (ac)  \\\n",
       "0     4.0    2.0          0.724  Residential     E2    6.0         0.036369   \n",
       "1     4.0    2.0          1.170  Residential     E5    6.0         0.038458   \n",
       "2     0.0    0.0          2.220   Empty Land     E1    0.0         0.000000   \n",
       "3     4.0    2.0          0.134  Residential     E1    6.0         0.040869   \n",
       "4     4.0    3.0          0.724  Residential     E3    7.0         0.036369   \n",
       "..    ...    ...            ...          ...    ...    ...              ...   \n",
       "532   0.0    0.0          2.220   Empty Land     E5    0.0         0.000000   \n",
       "533   4.0    3.0          0.090  Residential     E1    7.0         0.036369   \n",
       "534   2.0    2.0          5.000  Residential     E3    4.0         0.041328   \n",
       "535   3.0    2.0          0.294  Residential     E5    5.0         0.040823   \n",
       "536   0.0    0.0          2.220   Empty Land     E6    0.0         0.000000   \n",
       "\n",
       "        Rating  \n",
       "0     4.562212  \n",
       "1     7.250748  \n",
       "2     0.000000  \n",
       "3     1.049213  \n",
       "4     5.322580  \n",
       "..         ...  \n",
       "532   0.000000  \n",
       "533   0.884580  \n",
       "534  20.165312  \n",
       "535   1.674114  \n",
       "536   0.000000  \n",
       "\n",
       "[537 rows x 8 columns]"
      ]
     },
     "execution_count": 16,
     "metadata": {},
     "output_type": "execute_result"
    }
   ],
   "source": [
    "train.loc[:,train.columns != 'Price (x1000)']"
   ]
  },
  {
   "cell_type": "code",
   "execution_count": 17,
   "metadata": {},
   "outputs": [],
   "source": [
    "import xgboost as xgb\n",
    "from sklearn.metrics import make_scorer\n",
    "\n",
    "def RMSE(y_true, y_pred, **kwargs):\n",
    "    return np.sqrt(np.mean((np.log(y_true)-np.log(y_pred))**2))\n",
    "\n",
    "my_scorer = make_scorer(RMSE, greater_is_better=False)\n",
    "\n",
    "# perform one-hot encoding on type and postal\n",
    "from sklearn.preprocessing import OneHotEncoder\n",
    "\n",
    "y_train = train['Price (x1000)']\n",
    "X_train = train.drop('Price (x1000)',axis=1)\n",
    "\n",
    "val.drop('House Size (sqft)', axis=1, inplace=True)\n",
    "y_val = val['Price (x1000)']\n",
    "X_val = val.drop('Price (x1000)', axis=1)"
   ]
  },
  {
   "cell_type": "code",
   "execution_count": 18,
   "metadata": {
    "scrolled": true
   },
   "outputs": [
    {
     "data": {
      "text/html": [
       "<div>\n",
       "<style scoped>\n",
       "    .dataframe tbody tr th:only-of-type {\n",
       "        vertical-align: middle;\n",
       "    }\n",
       "\n",
       "    .dataframe tbody tr th {\n",
       "        vertical-align: top;\n",
       "    }\n",
       "\n",
       "    .dataframe thead th {\n",
       "        text-align: right;\n",
       "    }\n",
       "</style>\n",
       "<table border=\"1\" class=\"dataframe\">\n",
       "  <thead>\n",
       "    <tr style=\"text-align: right;\">\n",
       "      <th></th>\n",
       "      <th>Beds</th>\n",
       "      <th>Baths</th>\n",
       "      <th>Lot Size (ac)</th>\n",
       "      <th>Rooms</th>\n",
       "      <th>House Size (ac)</th>\n",
       "      <th>Rating</th>\n",
       "      <th>Type_Empty Land</th>\n",
       "      <th>Type_Residential</th>\n",
       "      <th>Postal_E1</th>\n",
       "      <th>Postal_E2</th>\n",
       "      <th>Postal_E3</th>\n",
       "      <th>Postal_E4</th>\n",
       "      <th>Postal_E5</th>\n",
       "      <th>Postal_E6</th>\n",
       "      <th>Postal_E7</th>\n",
       "      <th>Postal_E8</th>\n",
       "      <th>Postal_E9</th>\n",
       "    </tr>\n",
       "  </thead>\n",
       "  <tbody>\n",
       "    <tr>\n",
       "      <th>0</th>\n",
       "      <td>4.0</td>\n",
       "      <td>2.0</td>\n",
       "      <td>0.724</td>\n",
       "      <td>6.0</td>\n",
       "      <td>0.036369</td>\n",
       "      <td>4.562212</td>\n",
       "      <td>0.0</td>\n",
       "      <td>1.0</td>\n",
       "      <td>0.0</td>\n",
       "      <td>1.0</td>\n",
       "      <td>0.0</td>\n",
       "      <td>0.0</td>\n",
       "      <td>0.0</td>\n",
       "      <td>0.0</td>\n",
       "      <td>0.0</td>\n",
       "      <td>0.0</td>\n",
       "      <td>0.0</td>\n",
       "    </tr>\n",
       "    <tr>\n",
       "      <th>1</th>\n",
       "      <td>4.0</td>\n",
       "      <td>2.0</td>\n",
       "      <td>1.170</td>\n",
       "      <td>6.0</td>\n",
       "      <td>0.038458</td>\n",
       "      <td>7.250748</td>\n",
       "      <td>0.0</td>\n",
       "      <td>1.0</td>\n",
       "      <td>0.0</td>\n",
       "      <td>0.0</td>\n",
       "      <td>0.0</td>\n",
       "      <td>0.0</td>\n",
       "      <td>1.0</td>\n",
       "      <td>0.0</td>\n",
       "      <td>0.0</td>\n",
       "      <td>0.0</td>\n",
       "      <td>0.0</td>\n",
       "    </tr>\n",
       "    <tr>\n",
       "      <th>2</th>\n",
       "      <td>0.0</td>\n",
       "      <td>0.0</td>\n",
       "      <td>2.220</td>\n",
       "      <td>0.0</td>\n",
       "      <td>0.000000</td>\n",
       "      <td>0.000000</td>\n",
       "      <td>1.0</td>\n",
       "      <td>0.0</td>\n",
       "      <td>1.0</td>\n",
       "      <td>0.0</td>\n",
       "      <td>0.0</td>\n",
       "      <td>0.0</td>\n",
       "      <td>0.0</td>\n",
       "      <td>0.0</td>\n",
       "      <td>0.0</td>\n",
       "      <td>0.0</td>\n",
       "      <td>0.0</td>\n",
       "    </tr>\n",
       "    <tr>\n",
       "      <th>3</th>\n",
       "      <td>4.0</td>\n",
       "      <td>2.0</td>\n",
       "      <td>0.134</td>\n",
       "      <td>6.0</td>\n",
       "      <td>0.040869</td>\n",
       "      <td>1.049213</td>\n",
       "      <td>0.0</td>\n",
       "      <td>1.0</td>\n",
       "      <td>1.0</td>\n",
       "      <td>0.0</td>\n",
       "      <td>0.0</td>\n",
       "      <td>0.0</td>\n",
       "      <td>0.0</td>\n",
       "      <td>0.0</td>\n",
       "      <td>0.0</td>\n",
       "      <td>0.0</td>\n",
       "      <td>0.0</td>\n",
       "    </tr>\n",
       "    <tr>\n",
       "      <th>4</th>\n",
       "      <td>4.0</td>\n",
       "      <td>3.0</td>\n",
       "      <td>0.724</td>\n",
       "      <td>7.0</td>\n",
       "      <td>0.036369</td>\n",
       "      <td>5.322580</td>\n",
       "      <td>0.0</td>\n",
       "      <td>1.0</td>\n",
       "      <td>0.0</td>\n",
       "      <td>0.0</td>\n",
       "      <td>1.0</td>\n",
       "      <td>0.0</td>\n",
       "      <td>0.0</td>\n",
       "      <td>0.0</td>\n",
       "      <td>0.0</td>\n",
       "      <td>0.0</td>\n",
       "      <td>0.0</td>\n",
       "    </tr>\n",
       "    <tr>\n",
       "      <th>...</th>\n",
       "      <td>...</td>\n",
       "      <td>...</td>\n",
       "      <td>...</td>\n",
       "      <td>...</td>\n",
       "      <td>...</td>\n",
       "      <td>...</td>\n",
       "      <td>...</td>\n",
       "      <td>...</td>\n",
       "      <td>...</td>\n",
       "      <td>...</td>\n",
       "      <td>...</td>\n",
       "      <td>...</td>\n",
       "      <td>...</td>\n",
       "      <td>...</td>\n",
       "      <td>...</td>\n",
       "      <td>...</td>\n",
       "      <td>...</td>\n",
       "    </tr>\n",
       "    <tr>\n",
       "      <th>532</th>\n",
       "      <td>0.0</td>\n",
       "      <td>0.0</td>\n",
       "      <td>2.220</td>\n",
       "      <td>0.0</td>\n",
       "      <td>0.000000</td>\n",
       "      <td>0.000000</td>\n",
       "      <td>1.0</td>\n",
       "      <td>0.0</td>\n",
       "      <td>0.0</td>\n",
       "      <td>0.0</td>\n",
       "      <td>0.0</td>\n",
       "      <td>0.0</td>\n",
       "      <td>1.0</td>\n",
       "      <td>0.0</td>\n",
       "      <td>0.0</td>\n",
       "      <td>0.0</td>\n",
       "      <td>0.0</td>\n",
       "    </tr>\n",
       "    <tr>\n",
       "      <th>533</th>\n",
       "      <td>4.0</td>\n",
       "      <td>3.0</td>\n",
       "      <td>0.090</td>\n",
       "      <td>7.0</td>\n",
       "      <td>0.036369</td>\n",
       "      <td>0.884580</td>\n",
       "      <td>0.0</td>\n",
       "      <td>1.0</td>\n",
       "      <td>1.0</td>\n",
       "      <td>0.0</td>\n",
       "      <td>0.0</td>\n",
       "      <td>0.0</td>\n",
       "      <td>0.0</td>\n",
       "      <td>0.0</td>\n",
       "      <td>0.0</td>\n",
       "      <td>0.0</td>\n",
       "      <td>0.0</td>\n",
       "    </tr>\n",
       "    <tr>\n",
       "      <th>534</th>\n",
       "      <td>2.0</td>\n",
       "      <td>2.0</td>\n",
       "      <td>5.000</td>\n",
       "      <td>4.0</td>\n",
       "      <td>0.041328</td>\n",
       "      <td>20.165312</td>\n",
       "      <td>0.0</td>\n",
       "      <td>1.0</td>\n",
       "      <td>0.0</td>\n",
       "      <td>0.0</td>\n",
       "      <td>1.0</td>\n",
       "      <td>0.0</td>\n",
       "      <td>0.0</td>\n",
       "      <td>0.0</td>\n",
       "      <td>0.0</td>\n",
       "      <td>0.0</td>\n",
       "      <td>0.0</td>\n",
       "    </tr>\n",
       "    <tr>\n",
       "      <th>535</th>\n",
       "      <td>3.0</td>\n",
       "      <td>2.0</td>\n",
       "      <td>0.294</td>\n",
       "      <td>5.0</td>\n",
       "      <td>0.040823</td>\n",
       "      <td>1.674114</td>\n",
       "      <td>0.0</td>\n",
       "      <td>1.0</td>\n",
       "      <td>0.0</td>\n",
       "      <td>0.0</td>\n",
       "      <td>0.0</td>\n",
       "      <td>0.0</td>\n",
       "      <td>1.0</td>\n",
       "      <td>0.0</td>\n",
       "      <td>0.0</td>\n",
       "      <td>0.0</td>\n",
       "      <td>0.0</td>\n",
       "    </tr>\n",
       "    <tr>\n",
       "      <th>536</th>\n",
       "      <td>0.0</td>\n",
       "      <td>0.0</td>\n",
       "      <td>2.220</td>\n",
       "      <td>0.0</td>\n",
       "      <td>0.000000</td>\n",
       "      <td>0.000000</td>\n",
       "      <td>1.0</td>\n",
       "      <td>0.0</td>\n",
       "      <td>0.0</td>\n",
       "      <td>0.0</td>\n",
       "      <td>0.0</td>\n",
       "      <td>0.0</td>\n",
       "      <td>0.0</td>\n",
       "      <td>1.0</td>\n",
       "      <td>0.0</td>\n",
       "      <td>0.0</td>\n",
       "      <td>0.0</td>\n",
       "    </tr>\n",
       "  </tbody>\n",
       "</table>\n",
       "<p>537 rows × 17 columns</p>\n",
       "</div>"
      ],
      "text/plain": [
       "     Beds  Baths  Lot Size (ac)  Rooms  House Size (ac)     Rating  \\\n",
       "0     4.0    2.0          0.724    6.0         0.036369   4.562212   \n",
       "1     4.0    2.0          1.170    6.0         0.038458   7.250748   \n",
       "2     0.0    0.0          2.220    0.0         0.000000   0.000000   \n",
       "3     4.0    2.0          0.134    6.0         0.040869   1.049213   \n",
       "4     4.0    3.0          0.724    7.0         0.036369   5.322580   \n",
       "..    ...    ...            ...    ...              ...        ...   \n",
       "532   0.0    0.0          2.220    0.0         0.000000   0.000000   \n",
       "533   4.0    3.0          0.090    7.0         0.036369   0.884580   \n",
       "534   2.0    2.0          5.000    4.0         0.041328  20.165312   \n",
       "535   3.0    2.0          0.294    5.0         0.040823   1.674114   \n",
       "536   0.0    0.0          2.220    0.0         0.000000   0.000000   \n",
       "\n",
       "     Type_Empty Land  Type_Residential  Postal_E1  Postal_E2  Postal_E3  \\\n",
       "0                0.0               1.0        0.0        1.0        0.0   \n",
       "1                0.0               1.0        0.0        0.0        0.0   \n",
       "2                1.0               0.0        1.0        0.0        0.0   \n",
       "3                0.0               1.0        1.0        0.0        0.0   \n",
       "4                0.0               1.0        0.0        0.0        1.0   \n",
       "..               ...               ...        ...        ...        ...   \n",
       "532              1.0               0.0        0.0        0.0        0.0   \n",
       "533              0.0               1.0        1.0        0.0        0.0   \n",
       "534              0.0               1.0        0.0        0.0        1.0   \n",
       "535              0.0               1.0        0.0        0.0        0.0   \n",
       "536              1.0               0.0        0.0        0.0        0.0   \n",
       "\n",
       "     Postal_E4  Postal_E5  Postal_E6  Postal_E7  Postal_E8  Postal_E9  \n",
       "0          0.0        0.0        0.0        0.0        0.0        0.0  \n",
       "1          0.0        1.0        0.0        0.0        0.0        0.0  \n",
       "2          0.0        0.0        0.0        0.0        0.0        0.0  \n",
       "3          0.0        0.0        0.0        0.0        0.0        0.0  \n",
       "4          0.0        0.0        0.0        0.0        0.0        0.0  \n",
       "..         ...        ...        ...        ...        ...        ...  \n",
       "532        0.0        1.0        0.0        0.0        0.0        0.0  \n",
       "533        0.0        0.0        0.0        0.0        0.0        0.0  \n",
       "534        0.0        0.0        0.0        0.0        0.0        0.0  \n",
       "535        0.0        1.0        0.0        0.0        0.0        0.0  \n",
       "536        0.0        0.0        1.0        0.0        0.0        0.0  \n",
       "\n",
       "[537 rows x 17 columns]"
      ]
     },
     "execution_count": 18,
     "metadata": {},
     "output_type": "execute_result"
    }
   ],
   "source": [
    "cat_features = ['Type', 'Postal']\n",
    "OneHot = OneHotEncoder(handle_unknown='ignore',sparse=False)\n",
    "cat_train = pd.DataFrame(OneHot.fit_transform(X_train[cat_features]))\n",
    "cat_train.columns = OneHot.get_feature_names(['Type','Postal'])\n",
    "\n",
    "cat_train.index = X_train.index\n",
    "\n",
    "noncat_X_train = X_train.drop(cat_features, axis = 1)\n",
    "\n",
    "OneHot_X_train = pd.concat([noncat_X_train, cat_train], axis = 1)\n",
    "feat_labels = OneHot_X_train.columns\n",
    "OneHot_X_train"
   ]
  },
  {
   "cell_type": "code",
   "execution_count": 19,
   "metadata": {},
   "outputs": [],
   "source": [
    "data_dmatrix = xgb.DMatrix(data=OneHot_X_train, label=y_train)"
   ]
  },
  {
   "cell_type": "code",
   "execution_count": 20,
   "metadata": {},
   "outputs": [
    {
     "name": "stdout",
     "output_type": "stream",
     "text": [
      "RMSE_train = 0.4991664716749483\n"
     ]
    },
    {
     "data": {
      "image/png": "[encoded data removed]",
      "text/plain": [
       "<Figure size 432x288 with 1 Axes>"
      ]
     },
     "metadata": {
      "needs_background": "light"
     },
     "output_type": "display_data"
    }
   ],
   "source": [
    "xg_reg = xgb.XGBRegressor(objective ='reg:squarederror', colsample_bytree = 0.25, learning_rate = 0.1,\n",
    "                max_depth = 5, alpha = 10, n_estimators = 100)\n",
    "\n",
    "xg_reg.fit(OneHot_X_train, np.sqrt(y_train))\n",
    "\n",
    "y_train_pred = xg_reg.predict(OneHot_X_train)\n",
    "\n",
    "RMSE_train = np.sqrt(np.mean((np.log(y_train)-np.log(y_train_pred**2))**2))\n",
    "print('RMSE_train = {}'.format(RMSE_train))\n",
    "\n",
    "# plot\n",
    "plt.bar(range(len(xg_reg.feature_importances_)), xg_reg.feature_importances_)\n",
    "plt.show()"
   ]
  },
  {
   "cell_type": "markdown",
   "metadata": {},
   "source": [
    "If we ignore importances less than 5%, it turns out that the important features are Beds, Baths, Rooms, House Size, Rating and checking whether its Empty Land. Checking whether its residential is no longer needed as there are only two types. Lets ignore the other features then."
   ]
  },
  {
   "cell_type": "code",
   "execution_count": 21,
   "metadata": {},
   "outputs": [
    {
     "data": {
      "text/html": [
       "<div>\n",
       "<style scoped>\n",
       "    .dataframe tbody tr th:only-of-type {\n",
       "        vertical-align: middle;\n",
       "    }\n",
       "\n",
       "    .dataframe tbody tr th {\n",
       "        vertical-align: top;\n",
       "    }\n",
       "\n",
       "    .dataframe thead th {\n",
       "        text-align: right;\n",
       "    }\n",
       "</style>\n",
       "<table border=\"1\" class=\"dataframe\">\n",
       "  <thead>\n",
       "    <tr style=\"text-align: right;\">\n",
       "      <th></th>\n",
       "      <th>Beds</th>\n",
       "      <th>Baths</th>\n",
       "      <th>Lot Size (ac)</th>\n",
       "      <th>Rooms</th>\n",
       "      <th>House Size (ac)</th>\n",
       "      <th>Rating</th>\n",
       "      <th>Type_Empty Land</th>\n",
       "      <th>Type_Residential</th>\n",
       "      <th>Postal_E1</th>\n",
       "      <th>Postal_E2</th>\n",
       "      <th>Postal_E3</th>\n",
       "      <th>Postal_E4</th>\n",
       "      <th>Postal_E5</th>\n",
       "      <th>Postal_E6</th>\n",
       "      <th>Postal_E7</th>\n",
       "      <th>Postal_E8</th>\n",
       "      <th>Postal_E9</th>\n",
       "    </tr>\n",
       "  </thead>\n",
       "  <tbody>\n",
       "    <tr>\n",
       "      <th>0</th>\n",
       "      <td>0.0</td>\n",
       "      <td>0.0</td>\n",
       "      <td>1.300</td>\n",
       "      <td>0.0</td>\n",
       "      <td>0.000000</td>\n",
       "      <td>0.000000</td>\n",
       "      <td>1.0</td>\n",
       "      <td>0.0</td>\n",
       "      <td>1.0</td>\n",
       "      <td>0.0</td>\n",
       "      <td>0.0</td>\n",
       "      <td>0.0</td>\n",
       "      <td>0.0</td>\n",
       "      <td>0.0</td>\n",
       "      <td>0.0</td>\n",
       "      <td>0.0</td>\n",
       "      <td>0.0</td>\n",
       "    </tr>\n",
       "    <tr>\n",
       "      <th>1</th>\n",
       "      <td>3.0</td>\n",
       "      <td>2.0</td>\n",
       "      <td>10.000</td>\n",
       "      <td>5.0</td>\n",
       "      <td>0.034876</td>\n",
       "      <td>50.174381</td>\n",
       "      <td>0.0</td>\n",
       "      <td>1.0</td>\n",
       "      <td>0.0</td>\n",
       "      <td>0.0</td>\n",
       "      <td>0.0</td>\n",
       "      <td>0.0</td>\n",
       "      <td>1.0</td>\n",
       "      <td>0.0</td>\n",
       "      <td>0.0</td>\n",
       "      <td>0.0</td>\n",
       "      <td>0.0</td>\n",
       "    </tr>\n",
       "    <tr>\n",
       "      <th>2</th>\n",
       "      <td>0.0</td>\n",
       "      <td>0.0</td>\n",
       "      <td>1.030</td>\n",
       "      <td>0.0</td>\n",
       "      <td>0.000000</td>\n",
       "      <td>0.000000</td>\n",
       "      <td>1.0</td>\n",
       "      <td>0.0</td>\n",
       "      <td>0.0</td>\n",
       "      <td>0.0</td>\n",
       "      <td>0.0</td>\n",
       "      <td>0.0</td>\n",
       "      <td>0.0</td>\n",
       "      <td>0.0</td>\n",
       "      <td>0.0</td>\n",
       "      <td>0.0</td>\n",
       "      <td>1.0</td>\n",
       "    </tr>\n",
       "    <tr>\n",
       "      <th>3</th>\n",
       "      <td>0.0</td>\n",
       "      <td>0.0</td>\n",
       "      <td>1.300</td>\n",
       "      <td>0.0</td>\n",
       "      <td>0.000000</td>\n",
       "      <td>0.000000</td>\n",
       "      <td>1.0</td>\n",
       "      <td>0.0</td>\n",
       "      <td>0.0</td>\n",
       "      <td>0.0</td>\n",
       "      <td>0.0</td>\n",
       "      <td>1.0</td>\n",
       "      <td>0.0</td>\n",
       "      <td>0.0</td>\n",
       "      <td>0.0</td>\n",
       "      <td>0.0</td>\n",
       "      <td>0.0</td>\n",
       "    </tr>\n",
       "    <tr>\n",
       "      <th>4</th>\n",
       "      <td>3.0</td>\n",
       "      <td>1.0</td>\n",
       "      <td>1.000</td>\n",
       "      <td>4.0</td>\n",
       "      <td>0.039606</td>\n",
       "      <td>4.158424</td>\n",
       "      <td>0.0</td>\n",
       "      <td>1.0</td>\n",
       "      <td>0.0</td>\n",
       "      <td>1.0</td>\n",
       "      <td>0.0</td>\n",
       "      <td>0.0</td>\n",
       "      <td>0.0</td>\n",
       "      <td>0.0</td>\n",
       "      <td>0.0</td>\n",
       "      <td>0.0</td>\n",
       "      <td>0.0</td>\n",
       "    </tr>\n",
       "    <tr>\n",
       "      <th>...</th>\n",
       "      <td>...</td>\n",
       "      <td>...</td>\n",
       "      <td>...</td>\n",
       "      <td>...</td>\n",
       "      <td>...</td>\n",
       "      <td>...</td>\n",
       "      <td>...</td>\n",
       "      <td>...</td>\n",
       "      <td>...</td>\n",
       "      <td>...</td>\n",
       "      <td>...</td>\n",
       "      <td>...</td>\n",
       "      <td>...</td>\n",
       "      <td>...</td>\n",
       "      <td>...</td>\n",
       "      <td>...</td>\n",
       "      <td>...</td>\n",
       "    </tr>\n",
       "    <tr>\n",
       "      <th>90</th>\n",
       "      <td>4.0</td>\n",
       "      <td>1.0</td>\n",
       "      <td>1.000</td>\n",
       "      <td>5.0</td>\n",
       "      <td>0.022960</td>\n",
       "      <td>5.114800</td>\n",
       "      <td>0.0</td>\n",
       "      <td>1.0</td>\n",
       "      <td>0.0</td>\n",
       "      <td>0.0</td>\n",
       "      <td>1.0</td>\n",
       "      <td>0.0</td>\n",
       "      <td>0.0</td>\n",
       "      <td>0.0</td>\n",
       "      <td>0.0</td>\n",
       "      <td>0.0</td>\n",
       "      <td>0.0</td>\n",
       "    </tr>\n",
       "    <tr>\n",
       "      <th>91</th>\n",
       "      <td>5.0</td>\n",
       "      <td>2.0</td>\n",
       "      <td>0.419</td>\n",
       "      <td>7.0</td>\n",
       "      <td>0.082541</td>\n",
       "      <td>3.510788</td>\n",
       "      <td>0.0</td>\n",
       "      <td>1.0</td>\n",
       "      <td>1.0</td>\n",
       "      <td>0.0</td>\n",
       "      <td>0.0</td>\n",
       "      <td>0.0</td>\n",
       "      <td>0.0</td>\n",
       "      <td>0.0</td>\n",
       "      <td>0.0</td>\n",
       "      <td>0.0</td>\n",
       "      <td>0.0</td>\n",
       "    </tr>\n",
       "    <tr>\n",
       "      <th>92</th>\n",
       "      <td>0.0</td>\n",
       "      <td>0.0</td>\n",
       "      <td>1.300</td>\n",
       "      <td>0.0</td>\n",
       "      <td>0.000000</td>\n",
       "      <td>0.000000</td>\n",
       "      <td>1.0</td>\n",
       "      <td>0.0</td>\n",
       "      <td>0.0</td>\n",
       "      <td>0.0</td>\n",
       "      <td>0.0</td>\n",
       "      <td>0.0</td>\n",
       "      <td>1.0</td>\n",
       "      <td>0.0</td>\n",
       "      <td>0.0</td>\n",
       "      <td>0.0</td>\n",
       "      <td>0.0</td>\n",
       "    </tr>\n",
       "    <tr>\n",
       "      <th>93</th>\n",
       "      <td>4.0</td>\n",
       "      <td>2.0</td>\n",
       "      <td>1.000</td>\n",
       "      <td>6.0</td>\n",
       "      <td>0.034876</td>\n",
       "      <td>6.209257</td>\n",
       "      <td>0.0</td>\n",
       "      <td>1.0</td>\n",
       "      <td>0.0</td>\n",
       "      <td>0.0</td>\n",
       "      <td>0.0</td>\n",
       "      <td>0.0</td>\n",
       "      <td>0.0</td>\n",
       "      <td>1.0</td>\n",
       "      <td>0.0</td>\n",
       "      <td>0.0</td>\n",
       "      <td>0.0</td>\n",
       "    </tr>\n",
       "    <tr>\n",
       "      <th>94</th>\n",
       "      <td>0.0</td>\n",
       "      <td>0.0</td>\n",
       "      <td>1.300</td>\n",
       "      <td>0.0</td>\n",
       "      <td>0.000000</td>\n",
       "      <td>0.000000</td>\n",
       "      <td>1.0</td>\n",
       "      <td>0.0</td>\n",
       "      <td>0.0</td>\n",
       "      <td>0.0</td>\n",
       "      <td>0.0</td>\n",
       "      <td>1.0</td>\n",
       "      <td>0.0</td>\n",
       "      <td>0.0</td>\n",
       "      <td>0.0</td>\n",
       "      <td>0.0</td>\n",
       "      <td>0.0</td>\n",
       "    </tr>\n",
       "  </tbody>\n",
       "</table>\n",
       "<p>95 rows × 17 columns</p>\n",
       "</div>"
      ],
      "text/plain": [
       "    Beds  Baths  Lot Size (ac)  Rooms  House Size (ac)     Rating  \\\n",
       "0    0.0    0.0          1.300    0.0         0.000000   0.000000   \n",
       "1    3.0    2.0         10.000    5.0         0.034876  50.174381   \n",
       "2    0.0    0.0          1.030    0.0         0.000000   0.000000   \n",
       "3    0.0    0.0          1.300    0.0         0.000000   0.000000   \n",
       "4    3.0    1.0          1.000    4.0         0.039606   4.158424   \n",
       "..   ...    ...            ...    ...              ...        ...   \n",
       "90   4.0    1.0          1.000    5.0         0.022960   5.114800   \n",
       "91   5.0    2.0          0.419    7.0         0.082541   3.510788   \n",
       "92   0.0    0.0          1.300    0.0         0.000000   0.000000   \n",
       "93   4.0    2.0          1.000    6.0         0.034876   6.209257   \n",
       "94   0.0    0.0          1.300    0.0         0.000000   0.000000   \n",
       "\n",
       "    Type_Empty Land  Type_Residential  Postal_E1  Postal_E2  Postal_E3  \\\n",
       "0               1.0               0.0        1.0        0.0        0.0   \n",
       "1               0.0               1.0        0.0        0.0        0.0   \n",
       "2               1.0               0.0        0.0        0.0        0.0   \n",
       "3               1.0               0.0        0.0        0.0        0.0   \n",
       "4               0.0               1.0        0.0        1.0        0.0   \n",
       "..              ...               ...        ...        ...        ...   \n",
       "90              0.0               1.0        0.0        0.0        1.0   \n",
       "91              0.0               1.0        1.0        0.0        0.0   \n",
       "92              1.0               0.0        0.0        0.0        0.0   \n",
       "93              0.0               1.0        0.0        0.0        0.0   \n",
       "94              1.0               0.0        0.0        0.0        0.0   \n",
       "\n",
       "    Postal_E4  Postal_E5  Postal_E6  Postal_E7  Postal_E8  Postal_E9  \n",
       "0         0.0        0.0        0.0        0.0        0.0        0.0  \n",
       "1         0.0        1.0        0.0        0.0        0.0        0.0  \n",
       "2         0.0        0.0        0.0        0.0        0.0        1.0  \n",
       "3         1.0        0.0        0.0        0.0        0.0        0.0  \n",
       "4         0.0        0.0        0.0        0.0        0.0        0.0  \n",
       "..        ...        ...        ...        ...        ...        ...  \n",
       "90        0.0        0.0        0.0        0.0        0.0        0.0  \n",
       "91        0.0        0.0        0.0        0.0        0.0        0.0  \n",
       "92        0.0        1.0        0.0        0.0        0.0        0.0  \n",
       "93        0.0        0.0        1.0        0.0        0.0        0.0  \n",
       "94        1.0        0.0        0.0        0.0        0.0        0.0  \n",
       "\n",
       "[95 rows x 17 columns]"
      ]
     },
     "execution_count": 21,
     "metadata": {},
     "output_type": "execute_result"
    }
   ],
   "source": [
    "cat_val = pd.DataFrame(OneHot.fit_transform(X_val[cat_features]))\n",
    "cat_val.columns = OneHot.get_feature_names(['Type','Postal'])\n",
    "\n",
    "cat_val.index = X_val.index\n",
    "\n",
    "noncat_X_val = X_val.drop(cat_features, axis = 1)\n",
    "\n",
    "OneHot_X_val = pd.concat([noncat_X_val, cat_val], axis = 1)\n",
    "feat_labels = OneHot_X_val.columns\n",
    "OneHot_X_val"
   ]
  },
  {
   "cell_type": "markdown",
   "metadata": {},
   "source": [
    "Now we check the RMSE for the testing set."
   ]
  },
  {
   "cell_type": "code",
   "execution_count": 22,
   "metadata": {},
   "outputs": [
    {
     "name": "stdout",
     "output_type": "stream",
     "text": [
      "RMSE_val = 0.6462359920820677\n"
     ]
    }
   ],
   "source": [
    "y_val_pred = xg_reg.predict(OneHot_X_val)\n",
    "RMSE_val = np.sqrt(np.mean((np.log(y_val)-np.log(y_val_pred**2))**2))\n",
    "print('RMSE_val = {}'.format(RMSE_val))"
   ]
  },
  {
   "cell_type": "markdown",
   "metadata": {},
   "source": [
    "## 6. Conclusion\n",
    "\n",
    "If the model performs well, its RMSE for both training and test sets should be comparable. Since RMSE_train = 0.6035 and RMSE_val = 0.7225, the model performs poorly on the test set. I could think of a few reasons:\n",
    "\n",
    "    1. The data is incomplete. Perhaps we can investigate further, say check the materials used to build the house (wood? concrete? ...). Is the property near a body of water? The website does not provide enough info, perhaps more web scraping is needed.\n",
    "    2. The data may just be bad. There is nothing we can do if the data is bad.\n",
    "    \n",
    " However, the model is not too bad, since RMSE_val is close to RMSE_train. Let's plot the residuals for the testing set."
   ]
  },
  {
   "cell_type": "code",
   "execution_count": 23,
   "metadata": {},
   "outputs": [
    {
     "data": {
      "text/plain": [
       "<matplotlib.collections.PathCollection at 0x1a1cb45710>"
      ]
     },
     "execution_count": 23,
     "metadata": {},
     "output_type": "execute_result"
    },
    {
     "data": {
      "image/png": "[encoded data removed]",
      "text/plain": [
       "<Figure size 432x288 with 1 Axes>"
      ]
     },
     "metadata": {
      "needs_background": "light"
     },
     "output_type": "display_data"
    }
   ],
   "source": [
    "index = list(range(0,len(y_val)))\n",
    "plt.scatter(x=index, y=abs(y_val-y_val_pred))"
   ]
  },
  {
   "cell_type": "code",
   "execution_count": 24,
   "metadata": {},
   "outputs": [
    {
     "data": {
      "text/plain": [
       "<matplotlib.axes._subplots.AxesSubplot at 0x1a1d701310>"
      ]
     },
     "execution_count": 24,
     "metadata": {},
     "output_type": "execute_result"
    },
    {
     "data": {
      "image/png": "[encoded data removed]",
      "text/plain": [
       "<Figure size 432x288 with 1 Axes>"
      ]
     },
     "metadata": {
      "needs_background": "light"
     },
     "output_type": "display_data"
    }
   ],
   "source": [
    "sns.distplot(np.sqrt(y_train))"
   ]
  },
  {
   "cell_type": "code",
   "execution_count": 25,
   "metadata": {},
   "outputs": [
    {
     "data": {
      "text/plain": [
       "<matplotlib.axes._subplots.AxesSubplot at 0x1a1d667210>"
      ]
     },
     "execution_count": 25,
     "metadata": {},
     "output_type": "execute_result"
    },
    {
     "data": {
      "image/png": "[encoded data removed]",
      "text/plain": [
       "<Figure size 432x288 with 1 Axes>"
      ]
     },
     "metadata": {
      "needs_background": "light"
     },
     "output_type": "display_data"
    }
   ],
   "source": [
    "sns.distplot(np.sqrt(y_val))"
   ]
  },
  {
   "cell_type": "code",
   "execution_count": null,
   "metadata": {},
   "outputs": [],
   "source": [
    "So there are "
   ]
  },
  {
   "cell_type": "code",
   "execution_count": null,
   "metadata": {},
   "outputs": [],
   "source": []
  }
 ],
 "metadata": {
  "kernelspec": {
   "display_name": "Python 3",
   "language": "python",
   "name": "python3"
  },
  "language_info": {
   "codemirror_mode": {
    "name": "ipython",
    "version": 3
   },
   "file_extension": ".py",
   "mimetype": "text/x-python",
   "name": "python",
   "nbconvert_exporter": "python",
   "pygments_lexer": "ipython3",
   "version": "3.7.7"
  }
 },
 "nbformat": 4,
 "nbformat_minor": 4
}
