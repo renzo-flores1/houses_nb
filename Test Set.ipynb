{
 "cells": [
  {
   "cell_type": "markdown",
   "metadata": {},
   "source": [
    "# Houses and Empty Lots for Sale in New Brunswick (as of June 12, 2020)\n",
    "\n",
    "In this project, I scraped data from this [website](https://www.point2homes.com/CA/Real-Estate-Listings/NB.html) which lists houses and \n",
    "empty lots for sale. The selling price is listed along with the lot size. For houses, the number of bedrooms, bathrooms, the house size the house type are also given.\n",
    "\n",
    "## 1.1 The Test Set\n",
    "\n",
    "The feature engineering from the training set will be applied here.\n"
   ]
  },
  {
   "cell_type": "code",
   "execution_count": 1,
   "metadata": {},
   "outputs": [
    {
     "data": {
      "text/html": [
       "<div>\n",
       "<style scoped>\n",
       "    .dataframe tbody tr th:only-of-type {\n",
       "        vertical-align: middle;\n",
       "    }\n",
       "\n",
       "    .dataframe tbody tr th {\n",
       "        vertical-align: top;\n",
       "    }\n",
       "\n",
       "    .dataframe thead th {\n",
       "        text-align: right;\n",
       "    }\n",
       "</style>\n",
       "<table border=\"1\" class=\"dataframe\">\n",
       "  <thead>\n",
       "    <tr style=\"text-align: right;\">\n",
       "      <th></th>\n",
       "      <th>Address</th>\n",
       "      <th>Beds</th>\n",
       "      <th>Baths</th>\n",
       "      <th>House Size (sqft)</th>\n",
       "      <th>Lot Size (ac)</th>\n",
       "      <th>Type</th>\n",
       "      <th>Postal Code</th>\n",
       "      <th>Price</th>\n",
       "    </tr>\n",
       "  </thead>\n",
       "  <tbody>\n",
       "    <tr>\n",
       "      <th>0</th>\n",
       "      <td>92 Marks Street, St. Stephen, New Brunswick</td>\n",
       "      <td>3.0</td>\n",
       "      <td>1.0</td>\n",
       "      <td>NaN</td>\n",
       "      <td>NaN</td>\n",
       "      <td>Residential</td>\n",
       "      <td>E3L2B5</td>\n",
       "      <td>99000</td>\n",
       "    </tr>\n",
       "    <tr>\n",
       "      <th>1</th>\n",
       "      <td>400 East Glassvile Road, Glassville, New Bruns...</td>\n",
       "      <td>3.0</td>\n",
       "      <td>2.0</td>\n",
       "      <td>NaN</td>\n",
       "      <td>NaN</td>\n",
       "      <td>Family</td>\n",
       "      <td>E7L1W1</td>\n",
       "      <td>189000</td>\n",
       "    </tr>\n",
       "    <tr>\n",
       "      <th>2</th>\n",
       "      <td>Lot 6 Upper Durham Road, Upper Durham, New Bru...</td>\n",
       "      <td>NaN</td>\n",
       "      <td>NaN</td>\n",
       "      <td>NaN</td>\n",
       "      <td>1.0</td>\n",
       "      <td>Empty Land</td>\n",
       "      <td>E6C1B3</td>\n",
       "      <td>16700</td>\n",
       "    </tr>\n",
       "    <tr>\n",
       "      <th>3</th>\n",
       "      <td>42 Laforest - Spring 2020, Shediac, New Brunsw...</td>\n",
       "      <td>3.0</td>\n",
       "      <td>1.0</td>\n",
       "      <td>1488.0</td>\n",
       "      <td>NaN</td>\n",
       "      <td>Residential</td>\n",
       "      <td>E4P 0R8</td>\n",
       "      <td>255000</td>\n",
       "    </tr>\n",
       "    <tr>\n",
       "      <th>4</th>\n",
       "      <td>258 Royree Road, Western Charlotte, New Brunswick</td>\n",
       "      <td>2.0</td>\n",
       "      <td>1.0</td>\n",
       "      <td>NaN</td>\n",
       "      <td>NaN</td>\n",
       "      <td>Residential</td>\n",
       "      <td>E3L5S4</td>\n",
       "      <td>115000</td>\n",
       "    </tr>\n",
       "  </tbody>\n",
       "</table>\n",
       "</div>"
      ],
      "text/plain": [
       "                                             Address  Beds  Baths  \\\n",
       "0        92 Marks Street, St. Stephen, New Brunswick   3.0    1.0   \n",
       "1  400 East Glassvile Road, Glassville, New Bruns...   3.0    2.0   \n",
       "2  Lot 6 Upper Durham Road, Upper Durham, New Bru...   NaN    NaN   \n",
       "3  42 Laforest - Spring 2020, Shediac, New Brunsw...   3.0    1.0   \n",
       "4  258 Royree Road, Western Charlotte, New Brunswick   2.0    1.0   \n",
       "\n",
       "   House Size (sqft)  Lot Size (ac)         Type Postal Code   Price  \n",
       "0                NaN            NaN  Residential      E3L2B5   99000  \n",
       "1                NaN            NaN       Family      E7L1W1  189000  \n",
       "2                NaN            1.0   Empty Land      E6C1B3   16700  \n",
       "3             1488.0            NaN  Residential     E4P 0R8  255000  \n",
       "4                NaN            NaN  Residential      E3L5S4  115000  "
      ]
     },
     "execution_count": 1,
     "metadata": {},
     "output_type": "execute_result"
    }
   ],
   "source": [
    "# load libraries\n",
    "import numpy as np\n",
    "import pandas as pd\n",
    "from sklearn.model_selection import train_test_split\n",
    "import re\n",
    "from tqdm.notebook import tqdm\n",
    "\n",
    "val = pd.read_csv('val.csv')\n",
    "\n",
    "# look at first 5 rows of training set\n",
    "val.head(5)"
   ]
  },
  {
   "cell_type": "code",
   "execution_count": 2,
   "metadata": {},
   "outputs": [
    {
     "data": {
      "text/html": [
       "<div>\n",
       "<style scoped>\n",
       "    .dataframe tbody tr th:only-of-type {\n",
       "        vertical-align: middle;\n",
       "    }\n",
       "\n",
       "    .dataframe tbody tr th {\n",
       "        vertical-align: top;\n",
       "    }\n",
       "\n",
       "    .dataframe thead th {\n",
       "        text-align: right;\n",
       "    }\n",
       "</style>\n",
       "<table border=\"1\" class=\"dataframe\">\n",
       "  <thead>\n",
       "    <tr style=\"text-align: right;\">\n",
       "      <th></th>\n",
       "      <th>Beds</th>\n",
       "      <th>Baths</th>\n",
       "      <th>House Size (sqft)</th>\n",
       "      <th>Lot Size (ac)</th>\n",
       "      <th>Price</th>\n",
       "    </tr>\n",
       "  </thead>\n",
       "  <tbody>\n",
       "    <tr>\n",
       "      <th>count</th>\n",
       "      <td>62.000000</td>\n",
       "      <td>63.000000</td>\n",
       "      <td>46.000000</td>\n",
       "      <td>26.000000</td>\n",
       "      <td>95.000000</td>\n",
       "    </tr>\n",
       "    <tr>\n",
       "      <th>mean</th>\n",
       "      <td>3.435484</td>\n",
       "      <td>1.857143</td>\n",
       "      <td>1720.565217</td>\n",
       "      <td>6.882423</td>\n",
       "      <td>175532.589474</td>\n",
       "    </tr>\n",
       "    <tr>\n",
       "      <th>std</th>\n",
       "      <td>1.018211</td>\n",
       "      <td>0.858678</td>\n",
       "      <td>871.830964</td>\n",
       "      <td>18.687162</td>\n",
       "      <td>138624.939926</td>\n",
       "    </tr>\n",
       "    <tr>\n",
       "      <th>min</th>\n",
       "      <td>2.000000</td>\n",
       "      <td>1.000000</td>\n",
       "      <td>572.000000</td>\n",
       "      <td>0.110000</td>\n",
       "      <td>9900.000000</td>\n",
       "    </tr>\n",
       "    <tr>\n",
       "      <th>25%</th>\n",
       "      <td>3.000000</td>\n",
       "      <td>1.000000</td>\n",
       "      <td>1232.000000</td>\n",
       "      <td>0.797500</td>\n",
       "      <td>82450.000000</td>\n",
       "    </tr>\n",
       "    <tr>\n",
       "      <th>50%</th>\n",
       "      <td>3.000000</td>\n",
       "      <td>2.000000</td>\n",
       "      <td>1512.000000</td>\n",
       "      <td>1.355000</td>\n",
       "      <td>139900.000000</td>\n",
       "    </tr>\n",
       "    <tr>\n",
       "      <th>75%</th>\n",
       "      <td>4.000000</td>\n",
       "      <td>2.000000</td>\n",
       "      <td>2053.000000</td>\n",
       "      <td>6.012500</td>\n",
       "      <td>229950.000000</td>\n",
       "    </tr>\n",
       "    <tr>\n",
       "      <th>max</th>\n",
       "      <td>6.000000</td>\n",
       "      <td>5.000000</td>\n",
       "      <td>5720.000000</td>\n",
       "      <td>95.880000</td>\n",
       "      <td>715500.000000</td>\n",
       "    </tr>\n",
       "  </tbody>\n",
       "</table>\n",
       "</div>"
      ],
      "text/plain": [
       "            Beds      Baths  House Size (sqft)  Lot Size (ac)          Price\n",
       "count  62.000000  63.000000          46.000000      26.000000      95.000000\n",
       "mean    3.435484   1.857143        1720.565217       6.882423  175532.589474\n",
       "std     1.018211   0.858678         871.830964      18.687162  138624.939926\n",
       "min     2.000000   1.000000         572.000000       0.110000    9900.000000\n",
       "25%     3.000000   1.000000        1232.000000       0.797500   82450.000000\n",
       "50%     3.000000   2.000000        1512.000000       1.355000  139900.000000\n",
       "75%     4.000000   2.000000        2053.000000       6.012500  229950.000000\n",
       "max     6.000000   5.000000        5720.000000      95.880000  715500.000000"
      ]
     },
     "execution_count": 2,
     "metadata": {},
     "output_type": "execute_result"
    }
   ],
   "source": [
    "# get summary statistics\n",
    "val.describe()"
   ]
  },
  {
   "cell_type": "code",
   "execution_count": 3,
   "metadata": {},
   "outputs": [
    {
     "data": {
      "text/plain": [
       "94"
      ]
     },
     "execution_count": 3,
     "metadata": {},
     "output_type": "execute_result"
    }
   ],
   "source": [
    "# get unique postal codes\n",
    "len(val['Postal Code'].unique())"
   ]
  },
  {
   "cell_type": "markdown",
   "metadata": {},
   "source": [
    "There are a lot of postal codes. To reduce the variability of postal codes, we just get the first half of the postal code."
   ]
  },
  {
   "cell_type": "code",
   "execution_count": 4,
   "metadata": {},
   "outputs": [
    {
     "data": {
      "text/html": [
       "<div>\n",
       "<style scoped>\n",
       "    .dataframe tbody tr th:only-of-type {\n",
       "        vertical-align: middle;\n",
       "    }\n",
       "\n",
       "    .dataframe tbody tr th {\n",
       "        vertical-align: top;\n",
       "    }\n",
       "\n",
       "    .dataframe thead th {\n",
       "        text-align: right;\n",
       "    }\n",
       "</style>\n",
       "<table border=\"1\" class=\"dataframe\">\n",
       "  <thead>\n",
       "    <tr style=\"text-align: right;\">\n",
       "      <th></th>\n",
       "      <th>Address</th>\n",
       "      <th>Beds</th>\n",
       "      <th>Baths</th>\n",
       "      <th>House Size (sqft)</th>\n",
       "      <th>Lot Size (ac)</th>\n",
       "      <th>Type</th>\n",
       "      <th>Postal Code</th>\n",
       "      <th>Price</th>\n",
       "      <th>Postal</th>\n",
       "    </tr>\n",
       "  </thead>\n",
       "  <tbody>\n",
       "    <tr>\n",
       "      <th>0</th>\n",
       "      <td>92 Marks Street, St. Stephen, New Brunswick</td>\n",
       "      <td>3.0</td>\n",
       "      <td>1.0</td>\n",
       "      <td>NaN</td>\n",
       "      <td>NaN</td>\n",
       "      <td>Residential</td>\n",
       "      <td>E3L2B5</td>\n",
       "      <td>99000</td>\n",
       "      <td>E3L</td>\n",
       "    </tr>\n",
       "    <tr>\n",
       "      <th>1</th>\n",
       "      <td>400 East Glassvile Road, Glassville, New Bruns...</td>\n",
       "      <td>3.0</td>\n",
       "      <td>2.0</td>\n",
       "      <td>NaN</td>\n",
       "      <td>NaN</td>\n",
       "      <td>Family</td>\n",
       "      <td>E7L1W1</td>\n",
       "      <td>189000</td>\n",
       "      <td>E7L</td>\n",
       "    </tr>\n",
       "    <tr>\n",
       "      <th>2</th>\n",
       "      <td>Lot 6 Upper Durham Road, Upper Durham, New Bru...</td>\n",
       "      <td>NaN</td>\n",
       "      <td>NaN</td>\n",
       "      <td>NaN</td>\n",
       "      <td>1.0</td>\n",
       "      <td>Empty Land</td>\n",
       "      <td>E6C1B3</td>\n",
       "      <td>16700</td>\n",
       "      <td>E6C</td>\n",
       "    </tr>\n",
       "    <tr>\n",
       "      <th>3</th>\n",
       "      <td>42 Laforest - Spring 2020, Shediac, New Brunsw...</td>\n",
       "      <td>3.0</td>\n",
       "      <td>1.0</td>\n",
       "      <td>1488.0</td>\n",
       "      <td>NaN</td>\n",
       "      <td>Residential</td>\n",
       "      <td>E4P 0R8</td>\n",
       "      <td>255000</td>\n",
       "      <td>E4P</td>\n",
       "    </tr>\n",
       "    <tr>\n",
       "      <th>4</th>\n",
       "      <td>258 Royree Road, Western Charlotte, New Brunswick</td>\n",
       "      <td>2.0</td>\n",
       "      <td>1.0</td>\n",
       "      <td>NaN</td>\n",
       "      <td>NaN</td>\n",
       "      <td>Residential</td>\n",
       "      <td>E3L5S4</td>\n",
       "      <td>115000</td>\n",
       "      <td>E3L</td>\n",
       "    </tr>\n",
       "  </tbody>\n",
       "</table>\n",
       "</div>"
      ],
      "text/plain": [
       "                                             Address  Beds  Baths  \\\n",
       "0        92 Marks Street, St. Stephen, New Brunswick   3.0    1.0   \n",
       "1  400 East Glassvile Road, Glassville, New Bruns...   3.0    2.0   \n",
       "2  Lot 6 Upper Durham Road, Upper Durham, New Bru...   NaN    NaN   \n",
       "3  42 Laforest - Spring 2020, Shediac, New Brunsw...   3.0    1.0   \n",
       "4  258 Royree Road, Western Charlotte, New Brunswick   2.0    1.0   \n",
       "\n",
       "   House Size (sqft)  Lot Size (ac)         Type Postal Code   Price Postal  \n",
       "0                NaN            NaN  Residential      E3L2B5   99000    E3L  \n",
       "1                NaN            NaN       Family      E7L1W1  189000    E7L  \n",
       "2                NaN            1.0   Empty Land      E6C1B3   16700    E6C  \n",
       "3             1488.0            NaN  Residential     E4P 0R8  255000    E4P  \n",
       "4                NaN            NaN  Residential      E3L5S4  115000    E3L  "
      ]
     },
     "execution_count": 4,
     "metadata": {},
     "output_type": "execute_result"
    }
   ],
   "source": [
    "val['Postal'] = val['Postal Code'].str[:3]\n",
    "val.head(5)"
   ]
  },
  {
   "cell_type": "code",
   "execution_count": 5,
   "metadata": {},
   "outputs": [
    {
     "data": {
      "text/plain": [
       "50"
      ]
     },
     "execution_count": 5,
     "metadata": {},
     "output_type": "execute_result"
    }
   ],
   "source": [
    "# get number if unique 'Postal'\n",
    "len(val.Postal.unique())"
   ]
  },
  {
   "cell_type": "markdown",
   "metadata": {},
   "source": [
    "Ninety is not that bad. Now we check the histogram of **Postal**."
   ]
  },
  {
   "cell_type": "code",
   "execution_count": 6,
   "metadata": {},
   "outputs": [
    {
     "name": "stderr",
     "output_type": "stream",
     "text": [
      "/Users/renzoflores/anaconda3/lib/python3.7/site-packages/plotnine/stats/stat_bin.py:93: PlotnineWarning: 'stat_bin()' using 'bins = 7'. Pick better value with 'binwidth'.\n"
     ]
    },
    {
     "data": {
      "image/png": "[encoded data removed]",
      "text/plain": [
       "<Figure size 640x480 with 1 Axes>"
      ]
     },
     "metadata": {},
     "output_type": "display_data"
    },
    {
     "data": {
      "text/plain": [
       "<ggplot: (7009328665)>"
      ]
     },
     "execution_count": 6,
     "metadata": {},
     "output_type": "execute_result"
    }
   ],
   "source": [
    "from plotnine import *\n",
    "\n",
    "ggplot(val, aes(x='Postal')) + geom_histogram()"
   ]
  },
  {
   "cell_type": "code",
   "execution_count": 7,
   "metadata": {},
   "outputs": [
    {
     "data": {
      "text/plain": [
       "E3L    13\n",
       "E5B     7\n",
       "E1B     5\n",
       "E1A     5\n",
       "E4J     4\n",
       "E2A     4\n",
       "E3A     3\n",
       "E3B     3\n",
       "E4P     3\n",
       "E5E     2\n",
       "E5V     2\n",
       "E3G     2\n",
       "E4V     2\n",
       "E2L     2\n",
       "E5A     2\n",
       "E4Z     2\n",
       "E4R     1\n",
       "E6L     1\n",
       "E1G     1\n",
       "E4X     1\n",
       "E7K     1\n",
       "E4W     1\n",
       "E7L     1\n",
       "E5J     1\n",
       "E9A     1\n",
       "E4M     1\n",
       "E9G     1\n",
       "E5G     1\n",
       "E5K     1\n",
       "E6H     1\n",
       "E4C     1\n",
       "E1E     1\n",
       "E2Y     1\n",
       "E4S     1\n",
       "E3E     1\n",
       "E5T     1\n",
       "E1C     1\n",
       "E1W     1\n",
       "E4H     1\n",
       "E5M     1\n",
       "E6C     1\n",
       "E5C     1\n",
       "E1H     1\n",
       "E7P     1\n",
       "E2M     1\n",
       "E7B     1\n",
       "E6K     1\n",
       "E4L     1\n",
       "E8N     1\n",
       "Name: Postal, dtype: int64"
      ]
     },
     "execution_count": 7,
     "metadata": {},
     "output_type": "execute_result"
    }
   ],
   "source": [
    "# get minimum counts for postal\n",
    "val.Postal.value_counts()"
   ]
  },
  {
   "cell_type": "markdown",
   "metadata": {},
   "source": [
    "Okay, so there are plenty of postal codes with only ones in them. So we just pick the first two characters of the postal code instead."
   ]
  },
  {
   "cell_type": "code",
   "execution_count": 8,
   "metadata": {},
   "outputs": [
    {
     "data": {
      "text/plain": [
       "E3    22\n",
       "E5    19\n",
       "E4    19\n",
       "E1    15\n",
       "E2     8\n",
       "E6     4\n",
       "E7     4\n",
       "E9     2\n",
       "E8     1\n",
       "Name: Postal, dtype: int64"
      ]
     },
     "execution_count": 8,
     "metadata": {},
     "output_type": "execute_result"
    }
   ],
   "source": [
    "val['Postal'] = val['Postal'].str[:-1]\n",
    "val.Postal.value_counts()"
   ]
  },
  {
   "cell_type": "markdown",
   "metadata": {},
   "source": [
    "Much better. We can now drop the postal code."
   ]
  },
  {
   "cell_type": "code",
   "execution_count": 9,
   "metadata": {},
   "outputs": [
    {
     "data": {
      "text/html": [
       "<div>\n",
       "<style scoped>\n",
       "    .dataframe tbody tr th:only-of-type {\n",
       "        vertical-align: middle;\n",
       "    }\n",
       "\n",
       "    .dataframe tbody tr th {\n",
       "        vertical-align: top;\n",
       "    }\n",
       "\n",
       "    .dataframe thead th {\n",
       "        text-align: right;\n",
       "    }\n",
       "</style>\n",
       "<table border=\"1\" class=\"dataframe\">\n",
       "  <thead>\n",
       "    <tr style=\"text-align: right;\">\n",
       "      <th></th>\n",
       "      <th>Address</th>\n",
       "      <th>Beds</th>\n",
       "      <th>Baths</th>\n",
       "      <th>House Size (sqft)</th>\n",
       "      <th>Lot Size (ac)</th>\n",
       "      <th>Type</th>\n",
       "      <th>Price</th>\n",
       "      <th>Postal</th>\n",
       "    </tr>\n",
       "  </thead>\n",
       "  <tbody>\n",
       "    <tr>\n",
       "      <th>0</th>\n",
       "      <td>92 Marks Street, St. Stephen, New Brunswick</td>\n",
       "      <td>3.0</td>\n",
       "      <td>1.0</td>\n",
       "      <td>NaN</td>\n",
       "      <td>NaN</td>\n",
       "      <td>Residential</td>\n",
       "      <td>99000</td>\n",
       "      <td>E3</td>\n",
       "    </tr>\n",
       "    <tr>\n",
       "      <th>1</th>\n",
       "      <td>400 East Glassvile Road, Glassville, New Bruns...</td>\n",
       "      <td>3.0</td>\n",
       "      <td>2.0</td>\n",
       "      <td>NaN</td>\n",
       "      <td>NaN</td>\n",
       "      <td>Family</td>\n",
       "      <td>189000</td>\n",
       "      <td>E7</td>\n",
       "    </tr>\n",
       "    <tr>\n",
       "      <th>2</th>\n",
       "      <td>Lot 6 Upper Durham Road, Upper Durham, New Bru...</td>\n",
       "      <td>NaN</td>\n",
       "      <td>NaN</td>\n",
       "      <td>NaN</td>\n",
       "      <td>1.0</td>\n",
       "      <td>Empty Land</td>\n",
       "      <td>16700</td>\n",
       "      <td>E6</td>\n",
       "    </tr>\n",
       "    <tr>\n",
       "      <th>3</th>\n",
       "      <td>42 Laforest - Spring 2020, Shediac, New Brunsw...</td>\n",
       "      <td>3.0</td>\n",
       "      <td>1.0</td>\n",
       "      <td>1488.0</td>\n",
       "      <td>NaN</td>\n",
       "      <td>Residential</td>\n",
       "      <td>255000</td>\n",
       "      <td>E4</td>\n",
       "    </tr>\n",
       "    <tr>\n",
       "      <th>4</th>\n",
       "      <td>258 Royree Road, Western Charlotte, New Brunswick</td>\n",
       "      <td>2.0</td>\n",
       "      <td>1.0</td>\n",
       "      <td>NaN</td>\n",
       "      <td>NaN</td>\n",
       "      <td>Residential</td>\n",
       "      <td>115000</td>\n",
       "      <td>E3</td>\n",
       "    </tr>\n",
       "  </tbody>\n",
       "</table>\n",
       "</div>"
      ],
      "text/plain": [
       "                                             Address  Beds  Baths  \\\n",
       "0        92 Marks Street, St. Stephen, New Brunswick   3.0    1.0   \n",
       "1  400 East Glassvile Road, Glassville, New Bruns...   3.0    2.0   \n",
       "2  Lot 6 Upper Durham Road, Upper Durham, New Bru...   NaN    NaN   \n",
       "3  42 Laforest - Spring 2020, Shediac, New Brunsw...   3.0    1.0   \n",
       "4  258 Royree Road, Western Charlotte, New Brunswick   2.0    1.0   \n",
       "\n",
       "   House Size (sqft)  Lot Size (ac)         Type   Price Postal  \n",
       "0                NaN            NaN  Residential   99000     E3  \n",
       "1                NaN            NaN       Family  189000     E7  \n",
       "2                NaN            1.0   Empty Land   16700     E6  \n",
       "3             1488.0            NaN  Residential  255000     E4  \n",
       "4                NaN            NaN  Residential  115000     E3  "
      ]
     },
     "execution_count": 9,
     "metadata": {},
     "output_type": "execute_result"
    }
   ],
   "source": [
    "val.drop('Postal Code',axis=1,inplace=True)\n",
    "val.head(5)"
   ]
  },
  {
   "cell_type": "code",
   "execution_count": 10,
   "metadata": {},
   "outputs": [
    {
     "name": "stderr",
     "output_type": "stream",
     "text": [
      "/Users/renzoflores/anaconda3/lib/python3.7/site-packages/plotnine/stats/stat_bin.py:93: PlotnineWarning: 'stat_bin()' using 'bins = 11'. Pick better value with 'binwidth'.\n"
     ]
    },
    {
     "data": {
      "image/png": "[encoded data removed]",
      "text/plain": [
       "<Figure size 640x480 with 1 Axes>"
      ]
     },
     "metadata": {},
     "output_type": "display_data"
    },
    {
     "data": {
      "text/plain": [
       "<ggplot: (7009967093)>"
      ]
     },
     "execution_count": 10,
     "metadata": {},
     "output_type": "execute_result"
    }
   ],
   "source": [
    "# check histogram for Postal\n",
    "ggplot(val, aes(x='Postal')) + geom_histogram()"
   ]
  },
  {
   "cell_type": "code",
   "execution_count": 12,
   "metadata": {},
   "outputs": [
    {
     "data": {
      "text/html": [
       "<div>\n",
       "<style scoped>\n",
       "    .dataframe tbody tr th:only-of-type {\n",
       "        vertical-align: middle;\n",
       "    }\n",
       "\n",
       "    .dataframe tbody tr th {\n",
       "        vertical-align: top;\n",
       "    }\n",
       "\n",
       "    .dataframe thead th {\n",
       "        text-align: right;\n",
       "    }\n",
       "</style>\n",
       "<table border=\"1\" class=\"dataframe\">\n",
       "  <thead>\n",
       "    <tr style=\"text-align: right;\">\n",
       "      <th></th>\n",
       "      <th>Address</th>\n",
       "      <th>Beds</th>\n",
       "      <th>Baths</th>\n",
       "      <th>House Size (sqft)</th>\n",
       "      <th>Lot Size (ac)</th>\n",
       "      <th>Type</th>\n",
       "      <th>Price</th>\n",
       "      <th>Postal</th>\n",
       "    </tr>\n",
       "  </thead>\n",
       "  <tbody>\n",
       "    <tr>\n",
       "      <th>9</th>\n",
       "      <td>642 Charters Settlement Road, Greater New Mary...</td>\n",
       "      <td>4.0</td>\n",
       "      <td>1.0</td>\n",
       "      <td>NaN</td>\n",
       "      <td>NaN</td>\n",
       "      <td>Family</td>\n",
       "      <td>224900</td>\n",
       "      <td>NaN</td>\n",
       "    </tr>\n",
       "  </tbody>\n",
       "</table>\n",
       "</div>"
      ],
      "text/plain": [
       "                                             Address  Beds  Baths  \\\n",
       "9  642 Charters Settlement Road, Greater New Mary...   4.0    1.0   \n",
       "\n",
       "   House Size (sqft)  Lot Size (ac)    Type   Price Postal  \n",
       "9                NaN            NaN  Family  224900    NaN  "
      ]
     },
     "execution_count": 12,
     "metadata": {},
     "output_type": "execute_result"
    }
   ],
   "source": [
    "val[val.Postal.isnull()]"
   ]
  },
  {
   "cell_type": "markdown",
   "metadata": {},
   "source": [
    "According to Wikipedia and some searching in Google, Greater New Maryland has a postal code starting with E3."
   ]
  },
  {
   "cell_type": "code",
   "execution_count": 14,
   "metadata": {},
   "outputs": [
    {
     "data": {
      "text/plain": [
       "Address              642 Charters Settlement Road, Greater New Mary...\n",
       "Beds                                                                 4\n",
       "Baths                                                                1\n",
       "House Size (sqft)                                                  NaN\n",
       "Lot Size (ac)                                                      NaN\n",
       "Type                                                            Family\n",
       "Price                                                           224900\n",
       "Postal                                                              E3\n",
       "Name: 9, dtype: object"
      ]
     },
     "execution_count": 14,
     "metadata": {},
     "output_type": "execute_result"
    }
   ],
   "source": [
    "val.loc[9,'Postal'] = 'E3'\n",
    "val.loc[9,:]"
   ]
  },
  {
   "cell_type": "markdown",
   "metadata": {},
   "source": [
    "We can also drop the addresses now since we have the postal codes. "
   ]
  },
  {
   "cell_type": "code",
   "execution_count": 15,
   "metadata": {},
   "outputs": [],
   "source": [
    "val.drop('Address',axis=1, inplace=True)"
   ]
  },
  {
   "cell_type": "code",
   "execution_count": 16,
   "metadata": {},
   "outputs": [
    {
     "data": {
      "text/html": [
       "<div>\n",
       "<style scoped>\n",
       "    .dataframe tbody tr th:only-of-type {\n",
       "        vertical-align: middle;\n",
       "    }\n",
       "\n",
       "    .dataframe tbody tr th {\n",
       "        vertical-align: top;\n",
       "    }\n",
       "\n",
       "    .dataframe thead th {\n",
       "        text-align: right;\n",
       "    }\n",
       "</style>\n",
       "<table border=\"1\" class=\"dataframe\">\n",
       "  <thead>\n",
       "    <tr style=\"text-align: right;\">\n",
       "      <th></th>\n",
       "      <th>Beds</th>\n",
       "      <th>Baths</th>\n",
       "      <th>House Size (sqft)</th>\n",
       "      <th>Lot Size (ac)</th>\n",
       "      <th>Type</th>\n",
       "      <th>Price</th>\n",
       "      <th>Postal</th>\n",
       "    </tr>\n",
       "  </thead>\n",
       "  <tbody>\n",
       "    <tr>\n",
       "      <th>0</th>\n",
       "      <td>3.0</td>\n",
       "      <td>1.0</td>\n",
       "      <td>NaN</td>\n",
       "      <td>NaN</td>\n",
       "      <td>Residential</td>\n",
       "      <td>99000</td>\n",
       "      <td>E3</td>\n",
       "    </tr>\n",
       "    <tr>\n",
       "      <th>1</th>\n",
       "      <td>3.0</td>\n",
       "      <td>2.0</td>\n",
       "      <td>NaN</td>\n",
       "      <td>NaN</td>\n",
       "      <td>Family</td>\n",
       "      <td>189000</td>\n",
       "      <td>E7</td>\n",
       "    </tr>\n",
       "    <tr>\n",
       "      <th>2</th>\n",
       "      <td>NaN</td>\n",
       "      <td>NaN</td>\n",
       "      <td>NaN</td>\n",
       "      <td>1.0</td>\n",
       "      <td>Empty Land</td>\n",
       "      <td>16700</td>\n",
       "      <td>E6</td>\n",
       "    </tr>\n",
       "    <tr>\n",
       "      <th>3</th>\n",
       "      <td>3.0</td>\n",
       "      <td>1.0</td>\n",
       "      <td>1488.0</td>\n",
       "      <td>NaN</td>\n",
       "      <td>Residential</td>\n",
       "      <td>255000</td>\n",
       "      <td>E4</td>\n",
       "    </tr>\n",
       "    <tr>\n",
       "      <th>4</th>\n",
       "      <td>2.0</td>\n",
       "      <td>1.0</td>\n",
       "      <td>NaN</td>\n",
       "      <td>NaN</td>\n",
       "      <td>Residential</td>\n",
       "      <td>115000</td>\n",
       "      <td>E3</td>\n",
       "    </tr>\n",
       "  </tbody>\n",
       "</table>\n",
       "</div>"
      ],
      "text/plain": [
       "   Beds  Baths  House Size (sqft)  Lot Size (ac)         Type   Price Postal\n",
       "0   3.0    1.0                NaN            NaN  Residential   99000     E3\n",
       "1   3.0    2.0                NaN            NaN       Family  189000     E7\n",
       "2   NaN    NaN                NaN            1.0   Empty Land   16700     E6\n",
       "3   3.0    1.0             1488.0            NaN  Residential  255000     E4\n",
       "4   2.0    1.0                NaN            NaN  Residential  115000     E3"
      ]
     },
     "execution_count": 16,
     "metadata": {},
     "output_type": "execute_result"
    }
   ],
   "source": [
    "val.head(5)"
   ]
  },
  {
   "cell_type": "markdown",
   "metadata": {},
   "source": [
    "We now look at the distributions of beds and baths."
   ]
  },
  {
   "cell_type": "code",
   "execution_count": 17,
   "metadata": {},
   "outputs": [
    {
     "data": {
      "text/plain": [
       "<matplotlib.axes._subplots.AxesSubplot at 0x1a1d757150>"
      ]
     },
     "execution_count": 17,
     "metadata": {},
     "output_type": "execute_result"
    },
    {
     "data": {
      "image/png": "[encoded data removed]",
      "text/plain": [
       "<Figure size 432x288 with 1 Axes>"
      ]
     },
     "metadata": {
      "needs_background": "light"
     },
     "output_type": "display_data"
    }
   ],
   "source": [
    "val[val['Type']=='Residential']['Beds'].hist()"
   ]
  },
  {
   "cell_type": "code",
   "execution_count": 18,
   "metadata": {},
   "outputs": [
    {
     "data": {
      "text/plain": [
       "<matplotlib.axes._subplots.AxesSubplot at 0x1a1d787610>"
      ]
     },
     "execution_count": 18,
     "metadata": {},
     "output_type": "execute_result"
    },
    {
     "data": {
      "image/png": "[encoded data removed]",
      "text/plain": [
       "<Figure size 432x288 with 1 Axes>"
      ]
     },
     "metadata": {
      "needs_background": "light"
     },
     "output_type": "display_data"
    }
   ],
   "source": [
    "val[val['Type']=='Family']['Beds'].hist()"
   ]
  },
  {
   "cell_type": "markdown",
   "metadata": {},
   "source": [
    "The distribution is slightly skewed to the right for both types, indicating that most houses typically have ~3 beds. Now, if the type is Empty Land, obviously there are no beds, so we set Beds = 0, and we impute the beds with the median number. We also add a column indicating missingness of beds."
   ]
  },
  {
   "cell_type": "code",
   "execution_count": 19,
   "metadata": {},
   "outputs": [
    {
     "name": "stdout",
     "output_type": "stream",
     "text": [
      "3.0\n",
      "3.0\n"
     ]
    }
   ],
   "source": [
    "# check the median\n",
    "beds_resid_impute = val[val['Type']=='Residential']['Beds'].median(skipna=True)\n",
    "print(beds_resid_impute)\n",
    "beds_fam_impute = val[val['Type']=='Family']['Beds'].median(skipna=True)\n",
    "print(beds_fam_impute)"
   ]
  },
  {
   "cell_type": "code",
   "execution_count": 20,
   "metadata": {},
   "outputs": [
    {
     "data": {
      "text/plain": [
       "array(['Residential', 'Empty Land'], dtype=object)"
      ]
     },
     "execution_count": 20,
     "metadata": {},
     "output_type": "execute_result"
    }
   ],
   "source": [
    "# for residential and family houses, the median number of beds are essentially the same.\n",
    "# now I'm thinking of just joining Residential and Family.\n",
    "\n",
    "val = val.replace('Family','Residential')\n",
    "val['Type'].unique()"
   ]
  },
  {
   "cell_type": "code",
   "execution_count": 22,
   "metadata": {},
   "outputs": [
    {
     "data": {
      "application/vnd.jupyter.widget-view+json": {
       "model_id": "df44e8631fb54530bc4c11774e602038",
       "version_major": 2,
       "version_minor": 0
      },
      "text/plain": [
       "HBox(children=(FloatProgress(value=0.0, max=95.0), HTML(value='')))"
      ]
     },
     "metadata": {},
     "output_type": "display_data"
    },
    {
     "name": "stdout",
     "output_type": "stream",
     "text": [
      "\n"
     ]
    },
    {
     "data": {
      "text/html": [
       "<div>\n",
       "<style scoped>\n",
       "    .dataframe tbody tr th:only-of-type {\n",
       "        vertical-align: middle;\n",
       "    }\n",
       "\n",
       "    .dataframe tbody tr th {\n",
       "        vertical-align: top;\n",
       "    }\n",
       "\n",
       "    .dataframe thead th {\n",
       "        text-align: right;\n",
       "    }\n",
       "</style>\n",
       "<table border=\"1\" class=\"dataframe\">\n",
       "  <thead>\n",
       "    <tr style=\"text-align: right;\">\n",
       "      <th></th>\n",
       "      <th>Beds</th>\n",
       "      <th>Baths</th>\n",
       "      <th>House Size (sqft)</th>\n",
       "      <th>Lot Size (ac)</th>\n",
       "      <th>Type</th>\n",
       "      <th>Price</th>\n",
       "      <th>Postal</th>\n",
       "      <th>Missing Beds</th>\n",
       "    </tr>\n",
       "  </thead>\n",
       "  <tbody>\n",
       "    <tr>\n",
       "      <th>0</th>\n",
       "      <td>3.0</td>\n",
       "      <td>1.0</td>\n",
       "      <td>NaN</td>\n",
       "      <td>NaN</td>\n",
       "      <td>Residential</td>\n",
       "      <td>99000</td>\n",
       "      <td>E3</td>\n",
       "      <td>0</td>\n",
       "    </tr>\n",
       "    <tr>\n",
       "      <th>1</th>\n",
       "      <td>3.0</td>\n",
       "      <td>2.0</td>\n",
       "      <td>NaN</td>\n",
       "      <td>NaN</td>\n",
       "      <td>Residential</td>\n",
       "      <td>189000</td>\n",
       "      <td>E7</td>\n",
       "      <td>0</td>\n",
       "    </tr>\n",
       "    <tr>\n",
       "      <th>2</th>\n",
       "      <td>0.0</td>\n",
       "      <td>NaN</td>\n",
       "      <td>NaN</td>\n",
       "      <td>1.0</td>\n",
       "      <td>Empty Land</td>\n",
       "      <td>16700</td>\n",
       "      <td>E6</td>\n",
       "      <td>0</td>\n",
       "    </tr>\n",
       "    <tr>\n",
       "      <th>3</th>\n",
       "      <td>3.0</td>\n",
       "      <td>1.0</td>\n",
       "      <td>1488.0</td>\n",
       "      <td>NaN</td>\n",
       "      <td>Residential</td>\n",
       "      <td>255000</td>\n",
       "      <td>E4</td>\n",
       "      <td>0</td>\n",
       "    </tr>\n",
       "    <tr>\n",
       "      <th>4</th>\n",
       "      <td>2.0</td>\n",
       "      <td>1.0</td>\n",
       "      <td>NaN</td>\n",
       "      <td>NaN</td>\n",
       "      <td>Residential</td>\n",
       "      <td>115000</td>\n",
       "      <td>E3</td>\n",
       "      <td>0</td>\n",
       "    </tr>\n",
       "  </tbody>\n",
       "</table>\n",
       "</div>"
      ],
      "text/plain": [
       "   Beds  Baths  House Size (sqft)  Lot Size (ac)         Type   Price Postal  \\\n",
       "0   3.0    1.0                NaN            NaN  Residential   99000     E3   \n",
       "1   3.0    2.0                NaN            NaN  Residential  189000     E7   \n",
       "2   0.0    NaN                NaN            1.0   Empty Land   16700     E6   \n",
       "3   3.0    1.0             1488.0            NaN  Residential  255000     E4   \n",
       "4   2.0    1.0                NaN            NaN  Residential  115000     E3   \n",
       "\n",
       "   Missing Beds  \n",
       "0             0  \n",
       "1             0  \n",
       "2             0  \n",
       "3             0  \n",
       "4             0  "
      ]
     },
     "execution_count": 22,
     "metadata": {},
     "output_type": "execute_result"
    }
   ],
   "source": [
    "val['Missing Beds'] = 0\n",
    "val.head(5)\n",
    "\n",
    "for ind, typ in tqdm(val['Type'].items(), total = len(val['Type'])):\n",
    "    if typ == 'Empty Land':\n",
    "        val.loc[ind,'Beds'] = 0\n",
    "    elif np.isnan(val.loc[ind,'Beds']):\n",
    "        val.loc[ind,'Beds'] = beds_fam_impute\n",
    "        val.loc[ind,'Missing Beds'] = 1\n",
    "\n",
    "val.head(5)"
   ]
  },
  {
   "cell_type": "markdown",
   "metadata": {},
   "source": [
    "We do the same thing for baths."
   ]
  },
  {
   "cell_type": "code",
   "execution_count": 23,
   "metadata": {},
   "outputs": [
    {
     "data": {
      "text/plain": [
       "<matplotlib.axes._subplots.AxesSubplot at 0x1a1d8f4c90>"
      ]
     },
     "execution_count": 23,
     "metadata": {},
     "output_type": "execute_result"
    },
    {
     "data": {
      "image/png": "[encoded data removed]",
      "text/plain": [
       "<Figure size 432x288 with 1 Axes>"
      ]
     },
     "metadata": {
      "needs_background": "light"
     },
     "output_type": "display_data"
    }
   ],
   "source": [
    "val['Baths'].hist()"
   ]
  },
  {
   "cell_type": "code",
   "execution_count": 25,
   "metadata": {},
   "outputs": [
    {
     "data": {
      "application/vnd.jupyter.widget-view+json": {
       "model_id": "6e3e4f0304b34d2db8b057baaf60e45f",
       "version_major": 2,
       "version_minor": 0
      },
      "text/plain": [
       "HBox(children=(FloatProgress(value=0.0, max=95.0), HTML(value='')))"
      ]
     },
     "metadata": {},
     "output_type": "display_data"
    },
    {
     "name": "stdout",
     "output_type": "stream",
     "text": [
      "\n"
     ]
    },
    {
     "data": {
      "text/html": [
       "<div>\n",
       "<style scoped>\n",
       "    .dataframe tbody tr th:only-of-type {\n",
       "        vertical-align: middle;\n",
       "    }\n",
       "\n",
       "    .dataframe tbody tr th {\n",
       "        vertical-align: top;\n",
       "    }\n",
       "\n",
       "    .dataframe thead th {\n",
       "        text-align: right;\n",
       "    }\n",
       "</style>\n",
       "<table border=\"1\" class=\"dataframe\">\n",
       "  <thead>\n",
       "    <tr style=\"text-align: right;\">\n",
       "      <th></th>\n",
       "      <th>Beds</th>\n",
       "      <th>Baths</th>\n",
       "      <th>House Size (sqft)</th>\n",
       "      <th>Lot Size (ac)</th>\n",
       "      <th>Type</th>\n",
       "      <th>Price</th>\n",
       "      <th>Postal</th>\n",
       "      <th>Missing Beds</th>\n",
       "      <th>Missing Baths</th>\n",
       "    </tr>\n",
       "  </thead>\n",
       "  <tbody>\n",
       "    <tr>\n",
       "      <th>0</th>\n",
       "      <td>3.0</td>\n",
       "      <td>1.0</td>\n",
       "      <td>NaN</td>\n",
       "      <td>NaN</td>\n",
       "      <td>Residential</td>\n",
       "      <td>99000</td>\n",
       "      <td>E3</td>\n",
       "      <td>0</td>\n",
       "      <td>0</td>\n",
       "    </tr>\n",
       "    <tr>\n",
       "      <th>1</th>\n",
       "      <td>3.0</td>\n",
       "      <td>2.0</td>\n",
       "      <td>NaN</td>\n",
       "      <td>NaN</td>\n",
       "      <td>Residential</td>\n",
       "      <td>189000</td>\n",
       "      <td>E7</td>\n",
       "      <td>0</td>\n",
       "      <td>0</td>\n",
       "    </tr>\n",
       "    <tr>\n",
       "      <th>2</th>\n",
       "      <td>0.0</td>\n",
       "      <td>0.0</td>\n",
       "      <td>NaN</td>\n",
       "      <td>1.0</td>\n",
       "      <td>Empty Land</td>\n",
       "      <td>16700</td>\n",
       "      <td>E6</td>\n",
       "      <td>0</td>\n",
       "      <td>0</td>\n",
       "    </tr>\n",
       "    <tr>\n",
       "      <th>3</th>\n",
       "      <td>3.0</td>\n",
       "      <td>1.0</td>\n",
       "      <td>1488.0</td>\n",
       "      <td>NaN</td>\n",
       "      <td>Residential</td>\n",
       "      <td>255000</td>\n",
       "      <td>E4</td>\n",
       "      <td>0</td>\n",
       "      <td>0</td>\n",
       "    </tr>\n",
       "    <tr>\n",
       "      <th>4</th>\n",
       "      <td>2.0</td>\n",
       "      <td>1.0</td>\n",
       "      <td>NaN</td>\n",
       "      <td>NaN</td>\n",
       "      <td>Residential</td>\n",
       "      <td>115000</td>\n",
       "      <td>E3</td>\n",
       "      <td>0</td>\n",
       "      <td>0</td>\n",
       "    </tr>\n",
       "  </tbody>\n",
       "</table>\n",
       "</div>"
      ],
      "text/plain": [
       "   Beds  Baths  House Size (sqft)  Lot Size (ac)         Type   Price Postal  \\\n",
       "0   3.0    1.0                NaN            NaN  Residential   99000     E3   \n",
       "1   3.0    2.0                NaN            NaN  Residential  189000     E7   \n",
       "2   0.0    0.0                NaN            1.0   Empty Land   16700     E6   \n",
       "3   3.0    1.0             1488.0            NaN  Residential  255000     E4   \n",
       "4   2.0    1.0                NaN            NaN  Residential  115000     E3   \n",
       "\n",
       "   Missing Beds  Missing Baths  \n",
       "0             0              0  \n",
       "1             0              0  \n",
       "2             0              0  \n",
       "3             0              0  \n",
       "4             0              0  "
      ]
     },
     "execution_count": 25,
     "metadata": {},
     "output_type": "execute_result"
    }
   ],
   "source": [
    "baths_impute = val['Baths'].median(skipna=True)\n",
    "val['Missing Baths'] = 0\n",
    "\n",
    "for ind, typ in tqdm(val['Type'].items(), total = len(val['Type'])):\n",
    "    if typ == 'Empty Land':\n",
    "        val.loc[ind,'Baths'] = 0\n",
    "    elif np.isnan(val.loc[ind,'Baths']):\n",
    "        val.loc[ind,'Baths'] = baths_impute\n",
    "        val.loc[ind,'Missing Baths'] = 1\n",
    "\n",
    "val.head(5)"
   ]
  },
  {
   "cell_type": "markdown",
   "metadata": {},
   "source": [
    "Perhaps if we combine the number of bedrooms and the number of bathrooms into rooms it could probably help with the learning algorithm, and so we create one."
   ]
  },
  {
   "cell_type": "code",
   "execution_count": 26,
   "metadata": {},
   "outputs": [
    {
     "data": {
      "text/html": [
       "<div>\n",
       "<style scoped>\n",
       "    .dataframe tbody tr th:only-of-type {\n",
       "        vertical-align: middle;\n",
       "    }\n",
       "\n",
       "    .dataframe tbody tr th {\n",
       "        vertical-align: top;\n",
       "    }\n",
       "\n",
       "    .dataframe thead th {\n",
       "        text-align: right;\n",
       "    }\n",
       "</style>\n",
       "<table border=\"1\" class=\"dataframe\">\n",
       "  <thead>\n",
       "    <tr style=\"text-align: right;\">\n",
       "      <th></th>\n",
       "      <th>Beds</th>\n",
       "      <th>Baths</th>\n",
       "      <th>House Size (sqft)</th>\n",
       "      <th>Lot Size (ac)</th>\n",
       "      <th>Type</th>\n",
       "      <th>Price</th>\n",
       "      <th>Postal</th>\n",
       "      <th>Missing Beds</th>\n",
       "      <th>Missing Baths</th>\n",
       "      <th>Rooms</th>\n",
       "    </tr>\n",
       "  </thead>\n",
       "  <tbody>\n",
       "    <tr>\n",
       "      <th>0</th>\n",
       "      <td>3.0</td>\n",
       "      <td>1.0</td>\n",
       "      <td>NaN</td>\n",
       "      <td>NaN</td>\n",
       "      <td>Residential</td>\n",
       "      <td>99000</td>\n",
       "      <td>E3</td>\n",
       "      <td>0</td>\n",
       "      <td>0</td>\n",
       "      <td>4.0</td>\n",
       "    </tr>\n",
       "    <tr>\n",
       "      <th>1</th>\n",
       "      <td>3.0</td>\n",
       "      <td>2.0</td>\n",
       "      <td>NaN</td>\n",
       "      <td>NaN</td>\n",
       "      <td>Residential</td>\n",
       "      <td>189000</td>\n",
       "      <td>E7</td>\n",
       "      <td>0</td>\n",
       "      <td>0</td>\n",
       "      <td>5.0</td>\n",
       "    </tr>\n",
       "    <tr>\n",
       "      <th>2</th>\n",
       "      <td>0.0</td>\n",
       "      <td>0.0</td>\n",
       "      <td>NaN</td>\n",
       "      <td>1.0</td>\n",
       "      <td>Empty Land</td>\n",
       "      <td>16700</td>\n",
       "      <td>E6</td>\n",
       "      <td>0</td>\n",
       "      <td>0</td>\n",
       "      <td>0.0</td>\n",
       "    </tr>\n",
       "    <tr>\n",
       "      <th>3</th>\n",
       "      <td>3.0</td>\n",
       "      <td>1.0</td>\n",
       "      <td>1488.0</td>\n",
       "      <td>NaN</td>\n",
       "      <td>Residential</td>\n",
       "      <td>255000</td>\n",
       "      <td>E4</td>\n",
       "      <td>0</td>\n",
       "      <td>0</td>\n",
       "      <td>4.0</td>\n",
       "    </tr>\n",
       "    <tr>\n",
       "      <th>4</th>\n",
       "      <td>2.0</td>\n",
       "      <td>1.0</td>\n",
       "      <td>NaN</td>\n",
       "      <td>NaN</td>\n",
       "      <td>Residential</td>\n",
       "      <td>115000</td>\n",
       "      <td>E3</td>\n",
       "      <td>0</td>\n",
       "      <td>0</td>\n",
       "      <td>3.0</td>\n",
       "    </tr>\n",
       "  </tbody>\n",
       "</table>\n",
       "</div>"
      ],
      "text/plain": [
       "   Beds  Baths  House Size (sqft)  Lot Size (ac)         Type   Price Postal  \\\n",
       "0   3.0    1.0                NaN            NaN  Residential   99000     E3   \n",
       "1   3.0    2.0                NaN            NaN  Residential  189000     E7   \n",
       "2   0.0    0.0                NaN            1.0   Empty Land   16700     E6   \n",
       "3   3.0    1.0             1488.0            NaN  Residential  255000     E4   \n",
       "4   2.0    1.0                NaN            NaN  Residential  115000     E3   \n",
       "\n",
       "   Missing Beds  Missing Baths  Rooms  \n",
       "0             0              0    4.0  \n",
       "1             0              0    5.0  \n",
       "2             0              0    0.0  \n",
       "3             0              0    4.0  \n",
       "4             0              0    3.0  "
      ]
     },
     "execution_count": 26,
     "metadata": {},
     "output_type": "execute_result"
    }
   ],
   "source": [
    "val['Rooms'] = val['Beds'] + val['Baths']\n",
    "val.head(5)"
   ]
  },
  {
   "cell_type": "markdown",
   "metadata": {},
   "source": [
    "Now we check the house size and lot size."
   ]
  },
  {
   "cell_type": "code",
   "execution_count": 27,
   "metadata": {},
   "outputs": [
    {
     "name": "stderr",
     "output_type": "stream",
     "text": [
      "/Users/renzoflores/anaconda3/lib/python3.7/site-packages/plotnine/layer.py:369: PlotnineWarning: stat_density : Removed 25 rows containing non-finite values.\n"
     ]
    },
    {
     "data": {
      "image/png": "[encoded data removed]",
      "text/plain": [
       "<Figure size 640x480 with 1 Axes>"
      ]
     },
     "metadata": {},
     "output_type": "display_data"
    },
    {
     "data": {
      "text/plain": [
       "<ggplot: (7010388637)>"
      ]
     },
     "execution_count": 27,
     "metadata": {},
     "output_type": "execute_result"
    }
   ],
   "source": [
    "df = val[val['Type'] == 'Residential']\n",
    "ggplot(df, aes(x='House Size (sqft)')) + geom_density()"
   ]
  },
  {
   "cell_type": "code",
   "execution_count": 28,
   "metadata": {
    "scrolled": false
   },
   "outputs": [
    {
     "name": "stderr",
     "output_type": "stream",
     "text": [
      "/Users/renzoflores/anaconda3/lib/python3.7/site-packages/plotnine/layer.py:369: PlotnineWarning: stat_density : Removed 16 rows containing non-finite values.\n"
     ]
    },
    {
     "data": {
      "image/png": "[encoded data removed]",
      "text/plain": [
       "<Figure size 640x480 with 1 Axes>"
      ]
     },
     "metadata": {},
     "output_type": "display_data"
    },
    {
     "data": {
      "text/plain": [
       "<ggplot: (7010380205)>"
      ]
     },
     "execution_count": 28,
     "metadata": {},
     "output_type": "execute_result"
    }
   ],
   "source": [
    "df = val[val['Type'] == 'Empty Land']\n",
    "ggplot(df, aes(x='Lot Size (ac)')) + geom_density()"
   ]
  },
  {
   "cell_type": "code",
   "execution_count": 29,
   "metadata": {},
   "outputs": [
    {
     "name": "stderr",
     "output_type": "stream",
     "text": [
      "/Users/renzoflores/anaconda3/lib/python3.7/site-packages/plotnine/layer.py:369: PlotnineWarning: stat_density : Removed 53 rows containing non-finite values.\n"
     ]
    },
    {
     "data": {
      "image/png": "[encoded data removed]",
      "text/plain": [
       "<Figure size 640x480 with 1 Axes>"
      ]
     },
     "metadata": {},
     "output_type": "display_data"
    },
    {
     "data": {
      "text/plain": [
       "<ggplot: (7010388597)>"
      ]
     },
     "execution_count": 29,
     "metadata": {},
     "output_type": "execute_result"
    }
   ],
   "source": [
    "df = val[val['Type'] == 'Residential']\n",
    "ggplot(df, aes(x='Lot Size (ac)')) + geom_density()"
   ]
  },
  {
   "cell_type": "markdown",
   "metadata": {},
   "source": [
    "Once again, all distributions are skewed to the right, so we impute with their median."
   ]
  },
  {
   "cell_type": "code",
   "execution_count": 32,
   "metadata": {},
   "outputs": [
    {
     "data": {
      "application/vnd.jupyter.widget-view+json": {
       "model_id": "b1114d2eca83414fa296595f4c251761",
       "version_major": 2,
       "version_minor": 0
      },
      "text/plain": [
       "HBox(children=(FloatProgress(value=0.0, max=95.0), HTML(value='')))"
      ]
     },
     "metadata": {},
     "output_type": "display_data"
    },
    {
     "name": "stdout",
     "output_type": "stream",
     "text": [
      "\n"
     ]
    }
   ],
   "source": [
    "val['Missing House'] = 0\n",
    "val['Missing Land'] = 0\n",
    "\n",
    "for ind, typ in tqdm(val['Type'].items(), total=len(val['Type'])):\n",
    "    if typ == 'Empty Land':\n",
    "        val.loc[ind,'House Size (sqft)'] = 0\n",
    "        \n",
    "        if np.isnan(val.loc[ind,'Lot Size (ac)']):\n",
    "            val.loc[ind,'Lot Size (ac)'] = val[val['Type'] == typ]['Lot Size (ac)'].median(skipna=True)\n",
    "            val.loc[ind,'Missing Land'] = 1\n",
    "            \n",
    "    elif typ == 'Residential':\n",
    "        \n",
    "        if np.isnan(val.loc[ind,'House Size (sqft)']):\n",
    "            val.loc[ind, 'House Size (sqft)'] = val[val['Type'] == typ]['House Size (sqft)'].median(skipna=True)\n",
    "            val.loc[ind, 'Missing House'] = 1\n",
    "        \n",
    "        if np.isnan(val.loc[ind,'Lot Size (ac)']):\n",
    "            val.loc[ind,'Lot Size (ac)'] = val[val['Type'] == typ]['Lot Size (ac)'].median(skipna=True)\n",
    "            val.loc[ind, 'Missing Land'] = 1"
   ]
  },
  {
   "cell_type": "code",
   "execution_count": 33,
   "metadata": {},
   "outputs": [
    {
     "data": {
      "text/html": [
       "<div>\n",
       "<style scoped>\n",
       "    .dataframe tbody tr th:only-of-type {\n",
       "        vertical-align: middle;\n",
       "    }\n",
       "\n",
       "    .dataframe tbody tr th {\n",
       "        vertical-align: top;\n",
       "    }\n",
       "\n",
       "    .dataframe thead th {\n",
       "        text-align: right;\n",
       "    }\n",
       "</style>\n",
       "<table border=\"1\" class=\"dataframe\">\n",
       "  <thead>\n",
       "    <tr style=\"text-align: right;\">\n",
       "      <th></th>\n",
       "      <th>Beds</th>\n",
       "      <th>Baths</th>\n",
       "      <th>House Size (sqft)</th>\n",
       "      <th>Lot Size (ac)</th>\n",
       "      <th>Type</th>\n",
       "      <th>Price</th>\n",
       "      <th>Postal</th>\n",
       "      <th>Missing Beds</th>\n",
       "      <th>Missing Baths</th>\n",
       "      <th>Rooms</th>\n",
       "      <th>Missing House</th>\n",
       "      <th>Missing Land</th>\n",
       "    </tr>\n",
       "  </thead>\n",
       "  <tbody>\n",
       "    <tr>\n",
       "      <th>0</th>\n",
       "      <td>3.0</td>\n",
       "      <td>1.0</td>\n",
       "      <td>1512.0</td>\n",
       "      <td>1.16</td>\n",
       "      <td>Residential</td>\n",
       "      <td>99000</td>\n",
       "      <td>E3</td>\n",
       "      <td>0</td>\n",
       "      <td>0</td>\n",
       "      <td>4.0</td>\n",
       "      <td>0</td>\n",
       "      <td>1</td>\n",
       "    </tr>\n",
       "    <tr>\n",
       "      <th>1</th>\n",
       "      <td>3.0</td>\n",
       "      <td>2.0</td>\n",
       "      <td>1512.0</td>\n",
       "      <td>1.16</td>\n",
       "      <td>Residential</td>\n",
       "      <td>189000</td>\n",
       "      <td>E7</td>\n",
       "      <td>0</td>\n",
       "      <td>0</td>\n",
       "      <td>5.0</td>\n",
       "      <td>1</td>\n",
       "      <td>1</td>\n",
       "    </tr>\n",
       "    <tr>\n",
       "      <th>2</th>\n",
       "      <td>0.0</td>\n",
       "      <td>0.0</td>\n",
       "      <td>0.0</td>\n",
       "      <td>1.00</td>\n",
       "      <td>Empty Land</td>\n",
       "      <td>16700</td>\n",
       "      <td>E6</td>\n",
       "      <td>0</td>\n",
       "      <td>0</td>\n",
       "      <td>0.0</td>\n",
       "      <td>0</td>\n",
       "      <td>0</td>\n",
       "    </tr>\n",
       "    <tr>\n",
       "      <th>3</th>\n",
       "      <td>3.0</td>\n",
       "      <td>1.0</td>\n",
       "      <td>1488.0</td>\n",
       "      <td>1.16</td>\n",
       "      <td>Residential</td>\n",
       "      <td>255000</td>\n",
       "      <td>E4</td>\n",
       "      <td>0</td>\n",
       "      <td>0</td>\n",
       "      <td>4.0</td>\n",
       "      <td>0</td>\n",
       "      <td>1</td>\n",
       "    </tr>\n",
       "    <tr>\n",
       "      <th>4</th>\n",
       "      <td>2.0</td>\n",
       "      <td>1.0</td>\n",
       "      <td>1512.0</td>\n",
       "      <td>1.16</td>\n",
       "      <td>Residential</td>\n",
       "      <td>115000</td>\n",
       "      <td>E3</td>\n",
       "      <td>0</td>\n",
       "      <td>0</td>\n",
       "      <td>3.0</td>\n",
       "      <td>1</td>\n",
       "      <td>1</td>\n",
       "    </tr>\n",
       "  </tbody>\n",
       "</table>\n",
       "</div>"
      ],
      "text/plain": [
       "   Beds  Baths  House Size (sqft)  Lot Size (ac)         Type   Price Postal  \\\n",
       "0   3.0    1.0             1512.0           1.16  Residential   99000     E3   \n",
       "1   3.0    2.0             1512.0           1.16  Residential  189000     E7   \n",
       "2   0.0    0.0                0.0           1.00   Empty Land   16700     E6   \n",
       "3   3.0    1.0             1488.0           1.16  Residential  255000     E4   \n",
       "4   2.0    1.0             1512.0           1.16  Residential  115000     E3   \n",
       "\n",
       "   Missing Beds  Missing Baths  Rooms  Missing House  Missing Land  \n",
       "0             0              0    4.0              0             1  \n",
       "1             0              0    5.0              1             1  \n",
       "2             0              0    0.0              0             0  \n",
       "3             0              0    4.0              0             1  \n",
       "4             0              0    3.0              1             1  "
      ]
     },
     "execution_count": 33,
     "metadata": {},
     "output_type": "execute_result"
    }
   ],
   "source": [
    "val.head(5)"
   ]
  },
  {
   "cell_type": "code",
   "execution_count": 34,
   "metadata": {},
   "outputs": [],
   "source": [
    "# save file\n",
    "val.to_csv('val_cleaned.csv',index=False)"
   ]
  },
  {
   "cell_type": "code",
   "execution_count": null,
   "metadata": {},
   "outputs": [],
   "source": []
  }
 ],
 "metadata": {
  "kernelspec": {
   "display_name": "Python 3",
   "language": "python",
   "name": "python3"
  },
  "language_info": {
   "codemirror_mode": {
    "name": "ipython",
    "version": 3
   },
   "file_extension": ".py",
   "mimetype": "text/x-python",
   "name": "python",
   "nbconvert_exporter": "python",
   "pygments_lexer": "ipython3",
   "version": "3.7.7"
  }
 },
 "nbformat": 4,
 "nbformat_minor": 4
}
